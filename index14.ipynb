{
 "cells": [
  {
   "cell_type": "code",
   "execution_count": 1,
   "id": "19e9ab21",
   "metadata": {},
   "outputs": [
    {
     "data": {
      "text/plain": [
       "True"
      ]
     },
     "execution_count": 1,
     "metadata": {},
     "output_type": "execute_result"
    }
   ],
   "source": [
    "from langchain_google_genai import ChatGoogleGenerativeAI\n",
    "from langgraph.graph import StateGraph,START,END\n",
    "from typing import TypedDict\n",
    "from dotenv import load_dotenv\n",
    "import os\n",
    "load_dotenv()"
   ]
  },
  {
   "cell_type": "code",
   "execution_count": 2,
   "id": "6c39a5eb",
   "metadata": {},
   "outputs": [],
   "source": [
    "llm = ChatGoogleGenerativeAI(model=\"gemini-1.5-flash\")"
   ]
  },
  {
   "cell_type": "code",
   "execution_count": 3,
   "id": "8b72b79b",
   "metadata": {},
   "outputs": [],
   "source": [
    "class MyState(TypedDict):\n",
    "  input:str\n",
    "  output:str\n",
    "  step:int\n",
    "  complete:bool"
   ]
  },
  {
   "cell_type": "code",
   "execution_count": 4,
   "id": "abd71116",
   "metadata": {},
   "outputs": [],
   "source": [
    "def planner(state: MyState) -> MyState:\n",
    "    print(\"Planning...\")\n",
    "    state[\"output\"] = f\"Plan for {state['input']}\"\n",
    "    return state"
   ]
  },
  {
   "cell_type": "code",
   "execution_count": 5,
   "id": "676e971d",
   "metadata": {},
   "outputs": [],
   "source": [
    "def executor(state: MyState) -> MyState:\n",
    "    print(\"Executing...\")\n",
    "    state[\"output\"] += \" → Executed\"\n",
    "    return state"
   ]
  },
  {
   "cell_type": "code",
   "execution_count": 6,
   "id": "622dccbf",
   "metadata": {},
   "outputs": [],
   "source": [
    "def evaluator(state: MyState) -> MyState:\n",
    "    print(\"Evaluating...\")\n",
    "    step = state[\"step\"] + 1\n",
    "    complete = step >= 3\n",
    "    state[\"step\"] = step\n",
    "    state[\"complete\"] = complete\n",
    "    return state"
   ]
  },
  {
   "cell_type": "code",
   "execution_count": 7,
   "id": "31beb0ac",
   "metadata": {},
   "outputs": [],
   "source": [
    "def check_completion(state: MyState):\n",
    "    return \"planner\" if not state[\"complete\"] else \"complete\""
   ]
  },
  {
   "cell_type": "code",
   "execution_count": 8,
   "id": "72787454",
   "metadata": {},
   "outputs": [],
   "source": [
    "graph = StateGraph(MyState)\n",
    "graph.add_node(\"planner\", planner)\n",
    "graph.add_node(\"executor\", executor)\n",
    "graph.add_node(\"evaluator\", evaluator)\n",
    "\n",
    "graph.set_entry_point(\"planner\")\n",
    "graph.add_edge(\"planner\", \"executor\")\n",
    "graph.add_edge(\"executor\", \"evaluator\")\n",
    "\n",
    "graph.add_conditional_edges(\"evaluator\", check_completion, {\n",
    "    \"planner\": \"planner\",\n",
    "    \"complete\": \"__end__\"\n",
    "})\n",
    "app = graph.compile()\n",
    "\n"
   ]
  },
  {
   "cell_type": "code",
   "execution_count": 9,
   "id": "99dab33f",
   "metadata": {},
   "outputs": [
    {
     "data": {
      "image/png": "[encoded data removed]",
      "text/plain": [
       "<IPython.core.display.Image object>"
      ]
     },
     "metadata": {},
     "output_type": "display_data"
    }
   ],
   "source": [
    "from IPython.display import display,Image\n",
    "display(Image(app.get_graph().draw_mermaid_png()))"
   ]
  },
  {
   "cell_type": "code",
   "execution_count": 10,
   "id": "c8e9fa22",
   "metadata": {},
   "outputs": [
    {
     "name": "stdout",
     "output_type": "stream",
     "text": [
      "Planning...\n",
      "Executing...\n",
      "Evaluating...\n",
      "Planning...\n",
      "Executing...\n",
      "Evaluating...\n",
      "Planning...\n",
      "Executing...\n",
      "Evaluating...\n",
      "\n",
      "Final State: {'input': 'Build a LangGraph loop', 'output': 'Plan for Build a LangGraph loop → Executed', 'step': 3, 'complete': True}\n"
     ]
    }
   ],
   "source": [
    "\n",
    "initial_state = {\n",
    "    \"input\": \"Build a LangGraph loop\",\n",
    "    \"output\": \"\",\n",
    "    \"step\": 0,\n",
    "    \"complete\": False,\n",
    "}\n",
    "final_state = app.invoke(initial_state)\n",
    "print(\"\\nFinal State:\", final_state)\n"
   ]
  },
  {
   "cell_type": "code",
   "execution_count": null,
   "id": "05fda703",
   "metadata": {},
   "outputs": [],
   "source": []
  }
 ],
 "metadata": {
  "kernelspec": {
   "display_name": "Agentic_AI 2.0",
   "language": "python",
   "name": "python3"
  },
  "language_info": {
   "codemirror_mode": {
    "name": "ipython",
    "version": 3
   },
   "file_extension": ".py",
   "mimetype": "text/x-python",
   "name": "python",
   "nbconvert_exporter": "python",
   "pygments_lexer": "ipython3",
   "version": "3.10.18"
  }
 },
 "nbformat": 4,
 "nbformat_minor": 5
}
