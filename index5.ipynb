{
 "cells": [
  {
   "cell_type": "code",
   "execution_count": 31,
   "id": "b9c89365",
   "metadata": {},
   "outputs": [
    {
     "data": {
      "text/plain": [
       "True"
      ]
     },
     "execution_count": 31,
     "metadata": {},
     "output_type": "execute_result"
    }
   ],
   "source": [
    "from langchain_google_genai import ChatGoogleGenerativeAI\n",
    "from langgraph.graph import StateGraph, START, END\n",
    "from langchain_community.tools import TavilySearchResults\n",
    "from langchain.tools import tavily_search\n",
    "from typing import TypedDict\n",
    "from dotenv import load_dotenv\n",
    "import os\n",
    "load_dotenv()"
   ]
  },
  {
   "cell_type": "code",
   "execution_count": 32,
   "id": "3a772c61",
   "metadata": {},
   "outputs": [],
   "source": [
    "llm = ChatGoogleGenerativeAI( model=\"gemini-1.5-flash\", temperature=0.1)"
   ]
  },
  {
   "cell_type": "code",
   "execution_count": 33,
   "id": "22dd8e46",
   "metadata": {},
   "outputs": [],
   "source": [
    "search = TavilySearchResults(\n",
    "    api_key=os.getenv(\"TAVILY_API_KEY\"),\n",
    "    num_results=5\n",
    ")"
   ]
  },
  {
   "cell_type": "code",
   "execution_count": 34,
   "id": "8c5302fe",
   "metadata": {},
   "outputs": [],
   "source": [
    "class MyState(TypedDict):\n",
    "  topic:str\n",
    "  Explaination:str\n",
    "  summary:str\n",
    "  questions:str\n",
    "    "
   ]
  },
  {
   "cell_type": "code",
   "execution_count": 35,
   "id": "e10d9e47",
   "metadata": {},
   "outputs": [],
   "source": [
    "def Topic_explanation(state: MyState) -> MyState:\n",
    "  topic = state[\"topic\"]\n",
    "  prompt = f\"Explain in detail about {topic}\"\n",
    "  Explanation = llm.invoke(prompt).content\n",
    "  state[\"Explaination\"] = Explanation\n",
    "  return state\n",
    "   "
   ]
  },
  {
   "cell_type": "code",
   "execution_count": 36,
   "id": "9880d0c1",
   "metadata": {},
   "outputs": [],
   "source": [
    "def Summary(state:MyState) ->MyState:\n",
    "  topic = state['topic']\n",
    "  explanations = state['Explaination']\n",
    "  prompt = f\"Give me 100 words summary of this {explanations}\"\n",
    "  summary = llm.invoke(prompt).content\n",
    "  state['summary'] = summary\n",
    "  return state"
   ]
  },
  {
   "cell_type": "code",
   "execution_count": 37,
   "id": "7e99ac26",
   "metadata": {},
   "outputs": [],
   "source": [
    "def Prepare_question(state:MyState) -> MyState:\n",
    "  topic = state['topic']\n",
    "  explanations = state['Explaination']\n",
    "  prompt = f\"prepare a 5 MCQ question based on this topic :  {topic} and based on  this explanation : {explanations} \"\n",
    "\n",
    "  questions = llm.invoke(prompt).content\n",
    "  state['questions'] = questions\n",
    "  return state\n"
   ]
  },
  {
   "cell_type": "code",
   "execution_count": 38,
   "id": "98a4da48",
   "metadata": {},
   "outputs": [],
   "source": [
    "graph = StateGraph(MyState)\n",
    "\n",
    "graph.add_node(\"Topic_explanation\",Topic_explanation)\n",
    "graph.add_node(\"Summary\" , Summary)\n",
    "graph.add_node(\"Prepare_question\",Prepare_question)\n",
    "\n",
    "graph.add_edge(START,\"Topic_explanation\")\n",
    "graph.add_edge(\"Topic_explanation\",\"Summary\")\n",
    "graph.add_edge(\"Summary\",\"Prepare_question\")\n",
    "graph.add_edge(\"Prepare_question\",END)\n",
    "\n",
    "app = graph.compile()\n"
   ]
  },
  {
   "cell_type": "code",
   "execution_count": 39,
   "id": "498e4d06",
   "metadata": {},
   "outputs": [
    {
     "data": {
      "image/png": "[encoded data removed]",
      "text/plain": [
       "<IPython.core.display.Image object>"
      ]
     },
     "metadata": {},
     "output_type": "display_data"
    }
   ],
   "source": [
    "from IPython.display import display,Image\n",
    "display(Image(app.get_graph().draw_mermaid_png()))"
   ]
  },
  {
   "cell_type": "code",
   "execution_count": 40,
   "id": "4dad301a",
   "metadata": {},
   "outputs": [
    {
     "name": "stdout",
     "output_type": "stream",
     "text": [
      "magnatic induction\n"
     ]
    }
   ],
   "source": [
    "initial_state = {\"topic\" : \"magnatic induction\"}\n",
    "final_answer = app.invoke(initial_state)\n",
    "print(final_answer[\"topic\"])"
   ]
  },
  {
   "cell_type": "code",
   "execution_count": 41,
   "id": "28fb90aa",
   "metadata": {},
   "outputs": [
    {
     "name": "stdout",
     "output_type": "stream",
     "text": [
      "Magnetic induction, also known as electromagnetic induction, is the process by which a changing magnetic field produces an electromotive force (EMF) in a conductor.  This EMF can drive a current if the conductor is part of a closed circuit.  It's a fundamental principle underlying many technologies, from electric generators to transformers and wireless charging.  Let's break down the key aspects:\n",
      "\n",
      "**1. Faraday's Law of Induction:**\n",
      "\n",
      "This law is the cornerstone of magnetic induction. It states that the magnitude of the induced EMF in a closed loop is directly proportional to the rate of change of magnetic flux through the loop.  Mathematically:\n",
      "\n",
      "* **ε = -dΦ/dt**\n",
      "\n",
      "Where:\n",
      "\n",
      "* **ε** represents the induced electromotive force (EMF) in volts.\n",
      "* **Φ** represents the magnetic flux in webers (Wb).  Magnetic flux is a measure of the total magnetic field that passes through a given area.  It's calculated as:  Φ = B⋅A⋅cosθ, where B is the magnetic field strength (in Tesla), A is the area of the loop (in square meters), and θ is the angle between the magnetic field lines and the normal to the area.\n",
      "* **dΦ/dt** represents the rate of change of magnetic flux with respect to time.  The negative sign indicates Lenz's Law (explained below).\n",
      "\n",
      "**2. Lenz's Law:**\n",
      "\n",
      "Lenz's Law describes the direction of the induced current. It states that the direction of the induced current is such that it opposes the change in magnetic flux that produced it.  This opposition is a consequence of the conservation of energy.  If the induced current aided the change in flux, it would create a self-perpetuating cycle, violating energy conservation.\n",
      "\n",
      "**3. Factors Affecting Induced EMF:**\n",
      "\n",
      "Several factors influence the magnitude of the induced EMF:\n",
      "\n",
      "* **Strength of the magnetic field (B):** A stronger magnetic field leads to a larger induced EMF.\n",
      "* **Area of the loop (A):** A larger loop area encompasses more magnetic flux, resulting in a larger induced EMF.\n",
      "* **Rate of change of magnetic flux (dΦ/dt):** The faster the magnetic flux changes, the larger the induced EMF. This can be achieved by:\n",
      "    * Moving a magnet faster near a conductor.\n",
      "    * Changing the magnetic field strength rapidly.\n",
      "    * Rotating a coil within a magnetic field.\n",
      "    * Changing the area of the loop (e.g., by collapsing it).\n",
      "* **Orientation of the loop (θ):** The angle between the magnetic field and the normal to the loop affects the amount of flux passing through the loop.  Maximum flux occurs when the field is perpendicular to the loop (θ = 0°), and minimum flux occurs when the field is parallel to the loop (θ = 90°).\n",
      "\n",
      "**4. Applications of Magnetic Induction:**\n",
      "\n",
      "Magnetic induction is the foundation of numerous technologies, including:\n",
      "\n",
      "* **Electric generators:**  These devices use mechanical energy to rotate coils within a magnetic field, inducing an EMF and generating electricity.\n",
      "* **Transformers:** These devices use changing magnetic fields to transfer electrical energy between circuits with different voltages.\n",
      "* **Induction cooktops:** These cooktops use changing magnetic fields to induce eddy currents in the cookware, generating heat directly in the pan.\n",
      "* **Wireless charging:**  Some wireless charging systems use magnetic induction to transfer energy from a charging pad to a device.\n",
      "* **Metal detectors:** These devices detect metals by sensing the changes in magnetic fields induced by the metal's presence.\n",
      "* **Magnetic flow meters:** These meters measure the flow rate of conductive liquids by measuring the voltage induced by the liquid's movement through a magnetic field.\n",
      "\n",
      "\n",
      "**5.  Types of Magnetic Induction:**\n",
      "\n",
      "While the fundamental principle is the same, we can categorize magnetic induction based on how the change in magnetic flux is achieved:\n",
      "\n",
      "* **Motional EMF:** This occurs when a conductor moves through a stationary magnetic field.  The movement changes the flux through the conductor, inducing an EMF.\n",
      "* **Transformer EMF:** This occurs when a changing magnetic field passes through a stationary coil.  The changing field induces an EMF in the coil.\n",
      "\n",
      "\n",
      "In summary, magnetic induction is a crucial phenomenon that explains how changing magnetic fields create electric currents.  Understanding this principle is essential for comprehending the operation of many electrical devices and technologies.\n"
     ]
    }
   ],
   "source": [
    "print(final_answer[\"Explaination\"])"
   ]
  },
  {
   "cell_type": "code",
   "execution_count": 42,
   "id": "edac74dc",
   "metadata": {},
   "outputs": [
    {
     "name": "stdout",
     "output_type": "stream",
     "text": [
      "Magnetic induction, governed by Faraday's Law, describes how a changing magnetic field generates an electromotive force (EMF) in a conductor.  Lenz's Law dictates that the induced current opposes the change in flux.  The EMF's magnitude depends on the magnetic field strength, loop area, rate of flux change, and loop orientation.  Applications are widespread, including electric generators, transformers, wireless charging, and metal detectors.  Induction can be categorized as motional EMF (conductor moving through a field) or transformer EMF (changing field through a stationary coil).\n"
     ]
    }
   ],
   "source": [
    "print(final_answer[\"summary\"])"
   ]
  },
  {
   "cell_type": "code",
   "execution_count": 43,
   "id": "c757f07e",
   "metadata": {},
   "outputs": [
    {
     "name": "stdout",
     "output_type": "stream",
     "text": [
      "Here are 5 multiple-choice questions based on the provided text about magnetic induction:\n",
      "\n",
      "**1.  According to Faraday's Law, the induced electromotive force (EMF) in a closed loop is directly proportional to:**\n",
      "\n",
      "a) The strength of the magnetic field alone.\n",
      "b) The area of the loop alone.\n",
      "c) The rate of change of magnetic flux through the loop.\n",
      "d) The angle between the magnetic field and the loop's normal.\n",
      "\n",
      "\n",
      "**2. Lenz's Law states that the direction of the induced current is such that it:**\n",
      "\n",
      "a) Aids the change in magnetic flux.\n",
      "b) Is independent of the change in magnetic flux.\n",
      "c) Opposes the change in magnetic flux.\n",
      "d) Is always clockwise.\n",
      "\n",
      "\n",
      "**3. Which of the following factors DOES NOT directly affect the magnitude of the induced EMF?**\n",
      "\n",
      "a) Strength of the magnetic field\n",
      "b) Area of the loop\n",
      "c) Resistance of the conductor\n",
      "d) Rate of change of magnetic flux\n",
      "\n",
      "\n",
      "**4.  A transformer utilizes which type of magnetic induction?**\n",
      "\n",
      "a) Motional EMF\n",
      "b) Eddy current induction\n",
      "c) Transformer EMF\n",
      "d)  None of the above\n",
      "\n",
      "\n",
      "**5.  Which of the following is NOT a direct application of magnetic induction?**\n",
      "\n",
      "a) Electric generators\n",
      "b)  Incandescent light bulbs\n",
      "c) Wireless charging\n",
      "d) Metal detectors\n",
      "\n",
      "\n",
      "**Answer Key:**\n",
      "\n",
      "1.  c)\n",
      "2.  c)\n",
      "3.  c)\n",
      "4.  c)\n",
      "5.  b)\n"
     ]
    }
   ],
   "source": [
    "print(final_answer[\"questions\"])"
   ]
  }
 ],
 "metadata": {
  "kernelspec": {
   "display_name": "Agentic_AI 2.0",
   "language": "python",
   "name": "python3"
  },
  "language_info": {
   "codemirror_mode": {
    "name": "ipython",
    "version": 3
   },
   "file_extension": ".py",
   "mimetype": "text/x-python",
   "name": "python",
   "nbconvert_exporter": "python",
   "pygments_lexer": "ipython3",
   "version": "3.10.18"
  }
 },
 "nbformat": 4,
 "nbformat_minor": 5
}
