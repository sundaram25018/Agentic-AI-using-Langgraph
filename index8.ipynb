{
 "cells": [
  {
   "cell_type": "code",
   "execution_count": 51,
   "id": "2f87dd6c",
   "metadata": {},
   "outputs": [
    {
     "data": {
      "text/plain": [
       "True"
      ]
     },
     "execution_count": 51,
     "metadata": {},
     "output_type": "execute_result"
    }
   ],
   "source": [
    "from langchain_google_genai import  ChatGoogleGenerativeAI\n",
    "from langchain_community.tools import TavilySearchResults\n",
    "from langgraph.graph import StateGraph,START,END\n",
    "from typing import TypedDict\n",
    "import os\n",
    "from dotenv import load_dotenv\n",
    "load_dotenv()"
   ]
  },
  {
   "cell_type": "code",
   "execution_count": 52,
   "id": "bcc5dc20",
   "metadata": {},
   "outputs": [],
   "source": [
    "llm = ChatGoogleGenerativeAI(model=\"gemini-1.5-flash\")\n",
    "tavali = TavilySearchResults()"
   ]
  },
  {
   "cell_type": "code",
   "execution_count": 53,
   "id": "d83cd58a",
   "metadata": {},
   "outputs": [],
   "source": [
    "class MyState(TypedDict):\n",
    "  input:str\n",
    "  output:str\n"
   ]
  },
  {
   "cell_type": "code",
   "execution_count": 54,
   "id": "d81cba2a",
   "metadata": {},
   "outputs": [],
   "source": [
    "def llm_res(state:MyState) -> MyState:\n",
    "  print(\"Running llm_res\")\n",
    "  query = state[\"input\"]\n",
    "  prompt = f\"Explain {query}\"\n",
    "  result = llm.invoke(prompt).content\n",
    "  state[\"output\"] = result\n",
    "  return state\n",
    "  "
   ]
  },
  {
   "cell_type": "code",
   "execution_count": 55,
   "id": "8afd504f",
   "metadata": {},
   "outputs": [],
   "source": [
    "def News_res(state:MyState) -> MyState:\n",
    "  print(\"Running news_res\")\n",
    "  query = state['input']\n",
    "  result = tavali.invoke(query)\n",
    "  state['output'] = result\n",
    "  return state"
   ]
  },
  {
   "cell_type": "code",
   "execution_count": 56,
   "id": "3862eaee",
   "metadata": {},
   "outputs": [],
   "source": [
    "def route(state:MyState)->str:\n",
    "  query = state['input']\n",
    "\n",
    "  if \"news\" in query:\n",
    "    return \"News_res\"\n",
    "  else:\n",
    "    return \"llm_res\""
   ]
  },
  {
   "cell_type": "code",
   "execution_count": 57,
   "id": "f263da7f",
   "metadata": {},
   "outputs": [],
   "source": [
    "graph = StateGraph(MyState)\n",
    "\n",
    "graph.add_node(\"llm_res\",llm_res)\n",
    "graph.add_node(\"News_res\",News_res)\n",
    "\n",
    "\n",
    "graph.set_entry_point(\"route\")\n",
    "graph.add_conditional_edges(\"route\" , route,{\n",
    "  \"News_res\":\"News_res\",\n",
    "  \"llm_res\":\"llm_res\"\n",
    "})\n",
    "graph.add_edge(\"News_res\",END)\n",
    "graph.add_edge(\"llm_res\",END)\n",
    "\n",
    "graph.add_node(\"route\", lambda state: state)\n",
    "\n",
    "app = graph.compile()\n"
   ]
  },
  {
   "cell_type": "code",
   "execution_count": 58,
   "id": "54c64e17",
   "metadata": {},
   "outputs": [
    {
     "data": {
      "image/png": "[encoded data removed]",
      "text/plain": [
       "<IPython.core.display.Image object>"
      ]
     },
     "metadata": {},
     "output_type": "display_data"
    }
   ],
   "source": [
    "from IPython.display import display,Image\n",
    "display(Image(app.get_graph().draw_mermaid_png()))"
   ]
  },
  {
   "cell_type": "code",
   "execution_count": 59,
   "id": "6119749f",
   "metadata": {},
   "outputs": [
    {
     "name": "stdout",
     "output_type": "stream",
     "text": [
      "Running llm_res\n",
      "Deep learning is a subfield of machine learning that uses artificial neural networks with multiple layers (hence \"deep\") to analyze data and solve complex problems.  Instead of relying on explicitly programmed rules, deep learning algorithms learn from large amounts of data to identify patterns, make predictions, and improve their accuracy over time.\n",
      "\n",
      "Here's a breakdown of key aspects:\n",
      "\n",
      "* **Artificial Neural Networks (ANNs):**  At the core of deep learning are ANNs, inspired by the structure and function of the human brain.  These networks consist of interconnected nodes (neurons) organized in layers:\n",
      "\n",
      "    * **Input Layer:** Receives the initial data.\n",
      "    * **Hidden Layers:**  Multiple layers between the input and output layers where complex computations occur.  The depth (number of hidden layers) is what distinguishes deep learning from simpler neural networks.\n",
      "    * **Output Layer:** Produces the final result (e.g., classification, prediction).\n",
      "\n",
      "* **Learning from Data:** Deep learning algorithms learn by adjusting the connections (weights) between neurons based on the data they are trained on.  This adjustment is done through a process called backpropagation, which iteratively refines the weights to minimize errors in predictions.\n",
      "\n",
      "* **Feature Extraction:**  A crucial aspect of deep learning is its ability to automatically learn relevant features from raw data.  Unlike traditional machine learning, where features need to be manually engineered, deep learning networks can identify complex patterns and hierarchies of features directly from the data.  For example, in image recognition, a deep learning model might learn to detect edges, corners, then shapes, and finally objects.\n",
      "\n",
      "* **Large Datasets:** Deep learning models typically require massive amounts of data to train effectively.  The more data, the better the model can learn and generalize to new, unseen data.\n",
      "\n",
      "* **Computational Power:** Training deep learning models is computationally intensive, requiring significant processing power and often specialized hardware like GPUs or TPUs.\n",
      "\n",
      "\n",
      "**Examples of Deep Learning Applications:**\n",
      "\n",
      "* **Image Recognition:** Identifying objects, faces, and scenes in images.\n",
      "* **Natural Language Processing (NLP):**  Machine translation, text summarization, sentiment analysis.\n",
      "* **Speech Recognition:** Converting spoken language into text.\n",
      "* **Self-Driving Cars:** Object detection, path planning, and decision-making.\n",
      "* **Medical Diagnosis:** Analyzing medical images to detect diseases.\n",
      "\n",
      "\n",
      "In essence, deep learning allows computers to learn from data in a way that mimics the human brain, enabling them to solve complex problems that were previously intractable using traditional methods.  However, it's important to note that deep learning also has limitations, including the need for large datasets, computational resources, and potential biases in the training data.\n"
     ]
    }
   ],
   "source": [
    "query = {\"input\":\"what is Deep learning\"}\n",
    "res = app.invoke(query)\n",
    "print(res[\"output\"])"
   ]
  },
  {
   "cell_type": "code",
   "execution_count": 66,
   "id": "eb234ddd",
   "metadata": {},
   "outputs": [
    {
     "name": "stdout",
     "output_type": "stream",
     "text": [
      "Running news_res\n",
      "[{'title': 'Mumbai news today, latest Mumbai news - The Hindu', 'url': 'https://www.thehindu.com/news/cities/mumbai/', 'content': 'The Bombay High Court on Thursday (July 10, 2025) upheld the government decision to rehabilitate Dharavi redevelopment project affected people (PAP) on the salt pan land, dismissing the Public Interest Litigation (PIL) filed by a Mumbai-based lawyer and social activist. upheld the government decision to rehabilitate Dharavi redevelopment project affected people (PAP) on the salt pan land, dismissing the Public Interest Litigation (PIL) filed by a Mumbai-based lawyer and social activist.\") [...] ### Revised Maharashtra special public security Bill likely to be tabled in Assembly today\\n\\n26/11 Mumbai attack accused Tahawwur Hussain Rana being produced at a court, in New Delhi. File\\n\\n### Delhi court extends Mumbai terror attack accused Tahawwur Rana\\'s judicial custody till August 13\\n\\n### Non-cognisable case being filed against Shiv Sena MLA in canteen worker assault incident: Police\\n\\nShiv Sena (Shinde faction) MLA Sanjay Gaikwad. File MLA Sanjay Gaikwad. File\") [...] ### Wanted drug producer deported to India from UAE, Mumbai police take his custody\\n\\n### At least eight injured as BEST bus rams into stationary truck in Mumbai\\n\\n### Mumbai’s Carnac Bridge renamed as Sindoor after Operation Sindoor\\n\\nThe new Carnac bridge which is renamed as Sindoor Bridge in honour of Operation Sindoor — the military operation launched against terror sites in Pakistan was inaugurated by CM Devendra Fadnavis on July 10, 2025. \\n\\n#### More stories from Mumbai', 'score': 0.7610953}, {'title': 'Mumbai - latest news, breaking stories and comment', 'url': 'https://www.the-independent.com/topic/mumbai', 'content': \"<p>Indian navy boat is seen just before crashing into a passenger ferry in Mumbai   </p>\\n\\n## Ferry disaster passenger accuses Indian navy vessel of ‘showing off’\\n\\n<p>Passengers who were rescued after a boat that capsized off the coast in Mumbai, India on December 18</p>\\n\\n## Thirteen dead after navy vessel hits boat off Indian tourist spot\\n\\n<p>Representational </p>\\n\\n## Passengers on Manchester flight in 13-hour Kuwait nightmare\\n\\n<p>Divya Prabha in ‘All We Imagine as Light’ </p> [...] <p>File image: Mumbai’s suburban railway network is one of the busiest in the world</p>\\n\\n## At least 5 killed as passengers fall off overcrowded train in India\\n\\n<p>Indonesian pit vipers found in luggage of man arriving from Thailand </p>\\n\\n## Man caught with 52 live venomous snakes and exotic animals\\n\\n<p>People carry their belongings through floodwaters in Nagaon, Assam, on 31 May 2025</p>\\n\\n## More than 30 killed as floods and landslides devastate northeast India [...] ## A dog on a scooter with Holi powder on its forehead shows how much Indians love their pets\\n\\nPlaceholder for missing image\\n\\n## Musk's Starlink could help remote parts of India get online under deals with telecoms players\\n\\n<p>Flight AI119 had 322 passengers and crew on board</p>\\n\\n## Air India flight to New York diverted to Mumbai after hoax bomb threat\\n\\nThe Stream\\n\\n## What to stream: 'Moana 2,' John Mulaney, 'Confessions of Octomom,' Amanda Seyfried and 'Dope Thief'\\n\\n<p></p>\", 'score': 0.7211353}, {'title': 'Mumbai - BBC News', 'url': 'https://www.bbc.com/news/topics/c78qwzq3ekwt', 'content': \"# Mumbai\\n\\nIndian police personnel detain a Marathi native activist taking part in a protest against alleged injustice against Marathi native people in Mumbai, India, 08 July 2025. She can be seen in an agitated state, being whisked away while speaking to a news channel microphone. \\n\\n## Row over language turns violent in India's richest state\\n\\nThe Maharashtra government has backtracked on a move to make Hindi mandatory in schools, but tensions continue.\", 'score': 0.69399214}, {'title': 'Mumbai News - Mid-day', 'url': 'https://www.mid-day.com/mumbai/', 'content': 'Latest Updates\\nWebstories\\nShot Video\\n\\nToday\\'s E-Paper\\n\\nMid-Day\\nHappiest Places to Work\\nWebstories\\n\\nWeb Stories\\n\\nE-Papaer\\n\\nE-Paper\\n\\nMid-day Gujarati\\n\\nInquilab\\n\\nMid-day Hindi\\n\\nMid-Day\\nHappiest Place to Work\\nWeb Story\\nE-Paper\\nLatest Updates\\nLatest News\\nshots\\nshot-button\\n\\n# Mumbai\\n\\nAmid reports of Jayant Patil\\'s resignation, NCP (SP) to hold key meet on July 15 to hold key meet on July 15\")\\n\\n## Amid reports of Jayant Patil\\'s resignation, NCP (SP) to hold key meet on July 15 [...] ## First passenger flight set to take off from Navi Mumbai Airport in Sept: CM\\n\\nMaharashtra reports four new Covid-19 cases, all from Mumbai\\n\\n## Maharashtra reports four new Covid-19 cases, all from Mumbai\\n\\nPiyush Goyal recalls iconic TV ad punchline to hail PM Modi\\'s India vision\\n\\n## Piyush Goyal recalls iconic TV ad punchline to hail PM Modi\\'s India vision\\n\\nOil tanker crashes into stationary truck in Thane; one injured\\n\\n### Oil tanker crashes into stationary truck in Thane; one injured [...] Mumbai: Class 10 student dies while retrieving shuttlecock from society premises\\n\\n### Mumbai: Class 10 student dies while retrieving shuttlecock from society premises\\n\\nMumbai weather updates: Partly cloudy skies, light rain likely today\\n\\n### Mumbai weather updates: Partly cloudy skies, light rain likely today\\n\\nADVERTISEMENT\\n\\n##### Top Stories\\n\\nMan acquitted as victim, father withdraws rape allegations\\n\\n###### Man acquitted as victim, father withdraws rape allegations', 'score': 0.6519982}, {'title': 'Mumbai News - Free Press Journal', 'url': 'https://www.freepressjournal.in/mumbai', 'content': \"Weaponization Of Law? Fake Rape Allegation In Pune Case Raises Alarms Over Justice\\nWatch: Mumbai Cops Groove To 'Aura Farming'; Know All About The Boy Whose Spontaneous Dance Created A Global Trend\\nPresident Droupadi Murmu: A Guiding Light With Heart For Service\\nMumbai Crime News: Court Denies Bail To Kandivali-Based Doctor For Attempted Sexual Assault On 24-Year-Old Woman\\n\\nAshadhi Fair 2025: Solapur Division Of Central Railway Runs 239 Trains, Serves 2 Lakh+ Devotees With Compassion & Care [...] ### Mumbai-Pune Highway Accident: Two Dead, Six Injured As Oversized Pipes Fall From Truck In Bhor Ghat\\n\\nA car following the truck swerved to avoid the falling load, but one of the pipes landed directly on... Read More\\n\\nMumbai Crime News: Man Killed In Drunken Brawl, Two Brothers Nabbed Within 15 Minutes In Wadala\\n\\n### Mumbai Crime News: Man Killed In Drunken Brawl, Two Brothers Nabbed Within 15 Minutes In Wadala\", 'score': 0.63179934}]\n"
     ]
    }
   ],
   "source": [
    "query = {\"input\":\"latest news of mumbai\"}\n",
    "res = app.invoke(query)\n",
    "print(res[\"output\"])"
   ]
  }
 ],
 "metadata": {
  "kernelspec": {
   "display_name": "Agentic_AI 2.0",
   "language": "python",
   "name": "python3"
  },
  "language_info": {
   "codemirror_mode": {
    "name": "ipython",
    "version": 3
   },
   "file_extension": ".py",
   "mimetype": "text/x-python",
   "name": "python",
   "nbconvert_exporter": "python",
   "pygments_lexer": "ipython3",
   "version": "3.10.18"
  }
 },
 "nbformat": 4,
 "nbformat_minor": 5
}
