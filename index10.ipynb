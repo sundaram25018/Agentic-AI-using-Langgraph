{
 "cells": [
  {
   "cell_type": "code",
   "execution_count": 1,
   "id": "b1d5ac36",
   "metadata": {},
   "outputs": [
    {
     "data": {
      "text/plain": [
       "True"
      ]
     },
     "execution_count": 1,
     "metadata": {},
     "output_type": "execute_result"
    }
   ],
   "source": [
    "from langchain_google_genai import ChatGoogleGenerativeAI\n",
    "from langgraph.graph import StateGraph,START,END\n",
    "from langchain_community.tools import TavilySearchResults\n",
    "from typing import TypedDict\n",
    "import os\n",
    "from dotenv import load_dotenv\n",
    "load_dotenv()"
   ]
  },
  {
   "cell_type": "code",
   "execution_count": 2,
   "id": "abac8cc9",
   "metadata": {},
   "outputs": [],
   "source": [
    "llm = ChatGoogleGenerativeAI(model=\"gemini-1.5-flash\")"
   ]
  },
  {
   "cell_type": "code",
   "execution_count": 3,
   "id": "b76ec746",
   "metadata": {},
   "outputs": [
    {
     "name": "stderr",
     "output_type": "stream",
     "text": [
      "C:\\Users\\sunda\\AppData\\Local\\Temp\\ipykernel_18508\\2814045677.py:1: LangChainDeprecationWarning: The class `TavilySearchResults` was deprecated in LangChain 0.3.25 and will be removed in 1.0. An updated version of the class exists in the :class:`~langchain-tavily package and should be used instead. To use it run `pip install -U :class:`~langchain-tavily` and import as `from :class:`~langchain_tavily import TavilySearch``.\n",
      "  tavali = TavilySearchResults()\n"
     ]
    }
   ],
   "source": [
    "tavali = TavilySearchResults()"
   ]
  },
  {
   "cell_type": "code",
   "execution_count": 4,
   "id": "11bb8c3b",
   "metadata": {},
   "outputs": [],
   "source": [
    "class MyState(TypedDict):\n",
    "    input: str\n",
    "    step: int\n",
    "    output: str\n",
    "    complete: bool"
   ]
  },
  {
   "cell_type": "code",
   "execution_count": 5,
   "id": "266f4aee",
   "metadata": {},
   "outputs": [],
   "source": [
    "def planner(state: MyState):\n",
    "    query = state[\"input\"]\n",
    "    response = llm.invoke(query).content\n",
    "    state[\"output\"] = response\n",
    "    return state\n",
    "\n",
    "def executor(state: MyState):\n",
    "    print(f\"✅ Executing step {state['step']}: {state['output']}\")\n",
    "    state[\"step\"] += 1\n",
    "    return state\n",
    "\n",
    "def should_continue(state: MyState) -> str:\n",
    "    if state[\"step\"] >= 2:\n",
    "        state[\"complete\"] = True\n",
    "        return \"end\"\n",
    "    return \"planner\""
   ]
  },
  {
   "cell_type": "code",
   "execution_count": 6,
   "id": "e308a9ad",
   "metadata": {},
   "outputs": [],
   "source": [
    "graph = StateGraph(MyState)\n",
    "\n",
    "graph.add_node(\"planner\", planner)\n",
    "graph.add_node(\"executor\", executor)\n",
    "graph.set_entry_point(\"planner\")\n",
    "\n",
    "graph.add_conditional_edges(\"should_continue\", should_continue, {\n",
    "    \"planner\": \"planner\",\n",
    "    \"end\": END\n",
    "})\n",
    "graph.add_edge(\"planner\", \"executor\")\n",
    "graph.add_edge(\"executor\", \"should_continue\")\n",
    "\n",
    "graph.add_node(\"should_continue\", lambda state: state)\n",
    "\n",
    "app = graph.compile()"
   ]
  },
  {
   "cell_type": "code",
   "execution_count": 9,
   "id": "ca0e16c2",
   "metadata": {},
   "outputs": [
    {
     "data": {
      "image/png": "[encoded data removed]",
      "text/plain": [
       "<IPython.core.display.Image object>"
      ]
     },
     "metadata": {},
     "output_type": "display_data"
    }
   ],
   "source": [
    "from IPython.display import display,Image\n",
    "display(Image(app.get_graph().draw_mermaid_png()))"
   ]
  },
  {
   "cell_type": "code",
   "execution_count": 10,
   "id": "be5bc42b",
   "metadata": {},
   "outputs": [
    {
     "name": "stdout",
     "output_type": "stream",
     "text": [
      "✅ Executing step 0: A nuclear reactor is a device used to initiate and control a sustained nuclear chain reaction.  This reaction produces heat, which is then typically used to generate electricity.  Here's a breakdown:\n",
      "\n",
      "* **Nuclear Chain Reaction:**  This is a self-sustaining series of nuclear fissions.  In a nuclear reactor, this usually involves splitting heavy atoms like uranium-235 or plutonium-239.  When these atoms are split (fissioned), they release neutrons, which then go on to split more atoms, releasing more neutrons, and so on.  This creates a chain reaction that releases a large amount of energy.\n",
      "\n",
      "* **Control:**  The key to a nuclear reactor is controlling this chain reaction.  Control rods, made of neutron-absorbing materials, are used to regulate the rate of fission.  By inserting or withdrawing these rods, the reactor operator can increase or decrease the number of neutrons available to cause further fissions, thus controlling the power output.\n",
      "\n",
      "* **Heat Generation:** The energy released during fission is primarily in the form of heat. This heat is transferred to a coolant (usually water, but other coolants like liquid sodium or helium are also used).\n",
      "\n",
      "* **Electricity Generation:** The heated coolant is then used to generate steam, which drives turbines connected to electric generators, producing electricity.\n",
      "\n",
      "In short, a nuclear reactor is a sophisticated and carefully controlled system that harnesses the immense energy released by nuclear fission to produce heat and ultimately, electricity.  Different types of reactors exist, each with its own design and features, but they all operate on this fundamental principle.\n",
      "✅ Executing step 1: A nuclear reactor is a device used to initiate and control a sustained nuclear chain reaction.  This reaction produces heat, which is then typically used to generate electricity.  Here's a breakdown of how it works:\n",
      "\n",
      "* **Nuclear Fission:**  At the heart of a nuclear reactor is nuclear fission. This is the process where a heavy atomic nucleus (like uranium-235 or plutonium-239) is split into smaller nuclei. This splitting releases a tremendous amount of energy in the form of heat and radiation.\n",
      "\n",
      "* **Chain Reaction:**  The fission process also releases neutrons.  These neutrons can then go on to strike other heavy nuclei, causing them to fission as well. This creates a self-sustaining chain reaction, where one fission event triggers many more.\n",
      "\n",
      "* **Control:**  The rate of this chain reaction is carefully controlled using control rods.  These rods are made of materials (like boron or cadmium) that absorb neutrons, slowing down or stopping the reaction as needed.  This prevents the reactor from overheating or becoming dangerously radioactive.\n",
      "\n",
      "* **Heat Transfer:** The heat generated by the fission process is transferred to a coolant (water, liquid sodium, or gas) that circulates through the reactor core.\n",
      "\n",
      "* **Electricity Generation:** The heated coolant then transfers its heat to water in a heat exchanger, turning it into steam. This steam drives turbines connected to generators, producing electricity.\n",
      "\n",
      "**Types of Nuclear Reactors:**  There are several types of nuclear reactors, differing primarily in their coolant and moderator (a substance used to slow down neutrons to make fission more likely).  Common types include:\n",
      "\n",
      "* **Pressurized Water Reactors (PWRs):** The most common type worldwide, using water as both coolant and moderator.\n",
      "* **Boiling Water Reactors (BWRs):** Similar to PWRs, but the water boils directly in the reactor core.\n",
      "* **CANDU Reactors (Canada Deuterium Uranium):** Use heavy water as both coolant and moderator.\n",
      "* **Fast Neutron Reactors:**  Don't use a moderator, allowing for faster neutrons and potentially breeding more fissile material.\n",
      "\n",
      "\n",
      "**Safety:**  Nuclear reactors are designed with multiple layers of safety systems to prevent accidents.  However, the potential for accidents and the long-term handling of radioactive waste are significant concerns.\n",
      "{'input': 'what is neuclear reactor', 'step': 2, 'output': \"A nuclear reactor is a device used to initiate and control a sustained nuclear chain reaction.  This reaction produces heat, which is then typically used to generate electricity.  Here's a breakdown of how it works:\\n\\n* **Nuclear Fission:**  At the heart of a nuclear reactor is nuclear fission. This is the process where a heavy atomic nucleus (like uranium-235 or plutonium-239) is split into smaller nuclei. This splitting releases a tremendous amount of energy in the form of heat and radiation.\\n\\n* **Chain Reaction:**  The fission process also releases neutrons.  These neutrons can then go on to strike other heavy nuclei, causing them to fission as well. This creates a self-sustaining chain reaction, where one fission event triggers many more.\\n\\n* **Control:**  The rate of this chain reaction is carefully controlled using control rods.  These rods are made of materials (like boron or cadmium) that absorb neutrons, slowing down or stopping the reaction as needed.  This prevents the reactor from overheating or becoming dangerously radioactive.\\n\\n* **Heat Transfer:** The heat generated by the fission process is transferred to a coolant (water, liquid sodium, or gas) that circulates through the reactor core.\\n\\n* **Electricity Generation:** The heated coolant then transfers its heat to water in a heat exchanger, turning it into steam. This steam drives turbines connected to generators, producing electricity.\\n\\n**Types of Nuclear Reactors:**  There are several types of nuclear reactors, differing primarily in their coolant and moderator (a substance used to slow down neutrons to make fission more likely).  Common types include:\\n\\n* **Pressurized Water Reactors (PWRs):** The most common type worldwide, using water as both coolant and moderator.\\n* **Boiling Water Reactors (BWRs):** Similar to PWRs, but the water boils directly in the reactor core.\\n* **CANDU Reactors (Canada Deuterium Uranium):** Use heavy water as both coolant and moderator.\\n* **Fast Neutron Reactors:**  Don't use a moderator, allowing for faster neutrons and potentially breeding more fissile material.\\n\\n\\n**Safety:**  Nuclear reactors are designed with multiple layers of safety systems to prevent accidents.  However, the potential for accidents and the long-term handling of radioactive waste are significant concerns.\"}\n"
     ]
    }
   ],
   "source": [
    "state = {\n",
    "    \"input\": \"what is neuclear reactor\",\n",
    "    \"step\": 0,\n",
    "    \n",
    "    \n",
    "}\n",
    "respns = app.invoke(state)\n",
    "print(respns)"
   ]
  }
 ],
 "metadata": {
  "kernelspec": {
   "display_name": "Agentic_AI 2.0",
   "language": "python",
   "name": "python3"
  },
  "language_info": {
   "codemirror_mode": {
    "name": "ipython",
    "version": 3
   },
   "file_extension": ".py",
   "mimetype": "text/x-python",
   "name": "python",
   "nbconvert_exporter": "python",
   "pygments_lexer": "ipython3",
   "version": "3.10.18"
  }
 },
 "nbformat": 4,
 "nbformat_minor": 5
}
