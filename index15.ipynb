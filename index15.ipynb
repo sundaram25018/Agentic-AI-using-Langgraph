{
 "cells": [
  {
   "cell_type": "code",
   "execution_count": 60,
   "id": "01ea8805",
   "metadata": {},
   "outputs": [
    {
     "data": {
      "text/plain": [
       "True"
      ]
     },
     "execution_count": 60,
     "metadata": {},
     "output_type": "execute_result"
    }
   ],
   "source": [
    "from langchain_google_genai import ChatGoogleGenerativeAI\n",
    "from langgraph.graph import StateGraph,START,END\n",
    "from typing import TypedDict, Dict,List\n",
    "from langchain_community.tools.tavily_search import TavilySearchResults\n",
    "from dotenv import load_dotenv\n",
    "import os\n",
    "load_dotenv()"
   ]
  },
  {
   "cell_type": "code",
   "execution_count": 61,
   "id": "96f7700e",
   "metadata": {},
   "outputs": [],
   "source": [
    "llm = ChatGoogleGenerativeAI(model=\"gemini-1.5-flash\")\n",
    "tavaly_search = TavilySearchResults()"
   ]
  },
  {
   "cell_type": "code",
   "execution_count": 62,
   "id": "a762385e",
   "metadata": {},
   "outputs": [],
   "source": [
    "class ResearchState(TypedDict):\n",
    "    input_query: str\n",
    "    sub_questions: List[str]\n",
    "    search_results: Dict[str, List[str]]\n",
    "    missing_info: List[str]\n",
    "    contradictions: List[str]\n",
    "    summary: str\n",
    "    report: str\n",
    "    complete: bool"
   ]
  },
  {
   "cell_type": "code",
   "execution_count": 63,
   "id": "fa1988d4",
   "metadata": {},
   "outputs": [],
   "source": [
    "import re\n",
    "def extract_list(text: str) -> list[str]:\n",
    "    # Match lines starting with a number, dash, or bullet\n",
    "    lines = re.findall(r\"(?:\\d+\\.\\s*|-|\\*)\\s*(.+)\", text)\n",
    "    if lines:\n",
    "        return [line.strip() for line in lines if line.strip()]\n",
    "    \n",
    "    # Fallback: split by newlines\n",
    "    return [line.strip() for line in text.strip().split(\"\\n\") if line.strip()]"
   ]
  },
  {
   "cell_type": "code",
   "execution_count": 64,
   "id": "db88a79e",
   "metadata": {},
   "outputs": [],
   "source": [
    "def decomposer(state: ResearchState) -> ResearchState:\n",
    "    prompt = f\"Break this complex question into 3-5 researchable sub-questions:\\n{state['input_query']}\"\n",
    "    response = llm.invoke(prompt)\n",
    "    state['sub_questions'] = extract_list(response.content)\n",
    "    return state\n"
   ]
  },
  {
   "cell_type": "code",
   "execution_count": 65,
   "id": "b633e212",
   "metadata": {},
   "outputs": [],
   "source": [
    "def web_searcher(sub_question: str) -> List[str]:\n",
    "    return tavaly_search.invoke(sub_question)['snippets']  # pseudo-code\n"
   ]
  },
  {
   "cell_type": "code",
   "execution_count": 66,
   "id": "cf4903d9",
   "metadata": {},
   "outputs": [],
   "source": [
    "def parallel_search(state: ResearchState) -> ResearchState:\n",
    "    results = {}\n",
    "    for sub_q in state['sub_questions']:\n",
    "        results[sub_q] = web_searcher(sub_q)\n",
    "    state['search_results'] = results\n",
    "    return state\n"
   ]
  },
  {
   "cell_type": "code",
   "execution_count": 67,
   "id": "de1af056",
   "metadata": {},
   "outputs": [],
   "source": [
    "def evaluator(state: ResearchState) -> ResearchState:\n",
    "    missing = []\n",
    "    for sub_q, results in state['search_results'].items():\n",
    "        if not results or len(results) < 2:\n",
    "            missing.append(sub_q)\n",
    "    state['missing_info'] = missing\n",
    "    return state\n"
   ]
  },
  {
   "cell_type": "code",
   "execution_count": 68,
   "id": "79b8b270",
   "metadata": {},
   "outputs": [],
   "source": [
    "def summarizer(state: ResearchState) -> ResearchState:\n",
    "    summaries = []\n",
    "    for sub_q, texts in state['search_results'].items():\n",
    "        combined_text = \" \".join(texts)\n",
    "        summary = llm.invoke(f\"Summarize findings for: {sub_q}\\n{combined_text}\")\n",
    "        summaries.append(f\"**{sub_q}**:\\n{summary.content}\")\n",
    "    state['summary'] = \"\\n\\n\".join(summaries)\n",
    "    return state\n"
   ]
  },
  {
   "cell_type": "code",
   "execution_count": 69,
   "id": "0b05aad9",
   "metadata": {},
   "outputs": [],
   "source": [
    "def contradiction_checker(state: ResearchState) -> ResearchState:\n",
    "    prompt = f\"Review the following summaries and identify contradictions:\\n{state['summary']}\"\n",
    "    contradictions = llm.invoke(prompt)\n",
    "    state['contradictions'] = extract_list(contradictions.content)\n",
    "    return state\n"
   ]
  },
  {
   "cell_type": "code",
   "execution_count": 70,
   "id": "9c7448ed",
   "metadata": {},
   "outputs": [],
   "source": [
    "def reporter(state: ResearchState) -> ResearchState:\n",
    "    prompt = f\"\"\"Create a final research report based on:\n",
    "    \n",
    "    - Summary: {state['summary']}\n",
    "    - Contradictions: {state['contradictions']}\n",
    "    - Missing Info: {state['missing_info']}\n",
    "\n",
    "    Format it with proper markdown and citations if any.\n",
    "    \"\"\"\n",
    "    state['report'] = llm.invoke(prompt).content\n",
    "    state['complete'] = True\n",
    "    return state\n"
   ]
  },
  {
   "cell_type": "code",
   "execution_count": 71,
   "id": "11adb6e8",
   "metadata": {},
   "outputs": [],
   "source": [
    "def decide_next(state: ResearchState) -> str:\n",
    "    if \"missing_info\" in state and len(state[\"missing_info\"]) > 0:\n",
    "        return \"search\"\n",
    "    else:\n",
    "        return \"summarizer\"\n",
    "\n"
   ]
  },
  {
   "cell_type": "code",
   "execution_count": 72,
   "id": "56ee2ed0",
   "metadata": {},
   "outputs": [],
   "source": [
    "\n",
    "graph = StateGraph(ResearchState)\n",
    "\n",
    "graph.add_node(\"decomposer\", decomposer)\n",
    "graph.add_node(\"search\", parallel_search)\n",
    "graph.add_node(\"evaluator\", evaluator)\n",
    "graph.add_node(\"summarizer\", summarizer)\n",
    "graph.add_node(\"contradiction_checker\", contradiction_checker)\n",
    "graph.add_node(\"reporter\", reporter)\n",
    "\n",
    "graph.set_entry_point(\"decomposer\")\n",
    "\n",
    "graph.add_edge(\"decomposer\", \"search\")\n",
    "graph.add_edge(\"search\", \"evaluator\")\n",
    "\n",
    "# ✅ Conditional routing function\n",
    "def decide_next(state: ResearchState) -> str:\n",
    "    return \"search\" if state.get(\"missing_info\") else \"summarizer\"\n",
    "\n",
    "graph.add_conditional_edges(\"evaluator\", decide_next)\n",
    "\n",
    "graph.add_edge(\"evaluator\", \"search\")        # fallback\n",
    "graph.add_edge(\"evaluator\", \"summarizer\")  \n",
    "\n",
    "graph.add_edge(\"summarizer\", \"contradiction_checker\")\n",
    "graph.add_edge(\"contradiction_checker\", \"reporter\")\n",
    "\n",
    "graph.set_finish_point(\"reporter\")\n",
    "\n",
    "# --------- Compile & Visualize ---------\n",
    "app = graph.compile()\n",
    "\n"
   ]
  },
  {
   "cell_type": "code",
   "execution_count": 73,
   "id": "157aae90",
   "metadata": {},
   "outputs": [
    {
     "data": {
      "image/png": "[encoded data removed]",
      "text/plain": [
       "<IPython.core.display.Image object>"
      ]
     },
     "metadata": {},
     "output_type": "display_data"
    }
   ],
   "source": [
    "from IPython.display import display,Image\n",
    "display(Image(app.get_graph().draw_mermaid_png()))"
   ]
  },
  {
   "cell_type": "code",
   "execution_count": 74,
   "id": "06c00a09",
   "metadata": {},
   "outputs": [
    {
     "ename": "TypeError",
     "evalue": "list indices must be integers or slices, not str",
     "output_type": "error",
     "traceback": [
      "\u001b[1;31m---------------------------------------------------------------------------\u001b[0m",
      "\u001b[1;31mTypeError\u001b[0m                                 Traceback (most recent call last)",
      "Cell \u001b[1;32mIn[74], line 12\u001b[0m\n\u001b[0;32m      1\u001b[0m input_state \u001b[38;5;241m=\u001b[39m {\n\u001b[0;32m      2\u001b[0m     \u001b[38;5;124m\"\u001b[39m\u001b[38;5;124minput_query\u001b[39m\u001b[38;5;124m\"\u001b[39m: \u001b[38;5;124m\"\u001b[39m\u001b[38;5;124mWhat are the economic and environmental effects of lithium mining?\u001b[39m\u001b[38;5;124m\"\u001b[39m,\n\u001b[0;32m      3\u001b[0m     \u001b[38;5;124m\"\u001b[39m\u001b[38;5;124msub_questions\u001b[39m\u001b[38;5;124m\"\u001b[39m: [],\n\u001b[1;32m   (...)\u001b[0m\n\u001b[0;32m      9\u001b[0m     \u001b[38;5;124m\"\u001b[39m\u001b[38;5;124mcomplete\u001b[39m\u001b[38;5;124m\"\u001b[39m: \u001b[38;5;28;01mFalse\u001b[39;00m,\n\u001b[0;32m     10\u001b[0m }\n\u001b[1;32m---> 12\u001b[0m result \u001b[38;5;241m=\u001b[39m \u001b[43mapp\u001b[49m\u001b[38;5;241;43m.\u001b[39;49m\u001b[43minvoke\u001b[49m\u001b[43m(\u001b[49m\u001b[43minput_state\u001b[49m\u001b[43m)\u001b[49m\n\u001b[0;32m     13\u001b[0m \u001b[38;5;28mprint\u001b[39m(result[\u001b[38;5;124m\"\u001b[39m\u001b[38;5;124mreport\u001b[39m\u001b[38;5;124m\"\u001b[39m])\n",
      "File \u001b[1;32md:\\Agentic_AI 2.0\\.venv\\lib\\site-packages\\langgraph\\pregel\\__init__.py:2852\u001b[0m, in \u001b[0;36mPregel.invoke\u001b[1;34m(self, input, config, stream_mode, print_mode, output_keys, interrupt_before, interrupt_after, **kwargs)\u001b[0m\n\u001b[0;32m   2849\u001b[0m chunks: \u001b[38;5;28mlist\u001b[39m[\u001b[38;5;28mdict\u001b[39m[\u001b[38;5;28mstr\u001b[39m, Any] \u001b[38;5;241m|\u001b[39m Any] \u001b[38;5;241m=\u001b[39m []\n\u001b[0;32m   2850\u001b[0m interrupts: \u001b[38;5;28mlist\u001b[39m[Interrupt] \u001b[38;5;241m=\u001b[39m []\n\u001b[1;32m-> 2852\u001b[0m \u001b[38;5;28;01mfor\u001b[39;00m chunk \u001b[38;5;129;01min\u001b[39;00m \u001b[38;5;28mself\u001b[39m\u001b[38;5;241m.\u001b[39mstream(\n\u001b[0;32m   2853\u001b[0m     \u001b[38;5;28minput\u001b[39m,\n\u001b[0;32m   2854\u001b[0m     config,\n\u001b[0;32m   2855\u001b[0m     stream_mode\u001b[38;5;241m=\u001b[39m[\u001b[38;5;124m\"\u001b[39m\u001b[38;5;124mupdates\u001b[39m\u001b[38;5;124m\"\u001b[39m, \u001b[38;5;124m\"\u001b[39m\u001b[38;5;124mvalues\u001b[39m\u001b[38;5;124m\"\u001b[39m]\n\u001b[0;32m   2856\u001b[0m     \u001b[38;5;28;01mif\u001b[39;00m stream_mode \u001b[38;5;241m==\u001b[39m \u001b[38;5;124m\"\u001b[39m\u001b[38;5;124mvalues\u001b[39m\u001b[38;5;124m\"\u001b[39m\n\u001b[0;32m   2857\u001b[0m     \u001b[38;5;28;01melse\u001b[39;00m stream_mode,\n\u001b[0;32m   2858\u001b[0m     print_mode\u001b[38;5;241m=\u001b[39mprint_mode,\n\u001b[0;32m   2859\u001b[0m     output_keys\u001b[38;5;241m=\u001b[39moutput_keys,\n\u001b[0;32m   2860\u001b[0m     interrupt_before\u001b[38;5;241m=\u001b[39minterrupt_before,\n\u001b[0;32m   2861\u001b[0m     interrupt_after\u001b[38;5;241m=\u001b[39minterrupt_after,\n\u001b[0;32m   2862\u001b[0m     \u001b[38;5;241m*\u001b[39m\u001b[38;5;241m*\u001b[39mkwargs,\n\u001b[0;32m   2863\u001b[0m ):\n\u001b[0;32m   2864\u001b[0m     \u001b[38;5;28;01mif\u001b[39;00m stream_mode \u001b[38;5;241m==\u001b[39m \u001b[38;5;124m\"\u001b[39m\u001b[38;5;124mvalues\u001b[39m\u001b[38;5;124m\"\u001b[39m:\n\u001b[0;32m   2865\u001b[0m         \u001b[38;5;28;01mif\u001b[39;00m \u001b[38;5;28mlen\u001b[39m(chunk) \u001b[38;5;241m==\u001b[39m \u001b[38;5;241m2\u001b[39m:\n",
      "File \u001b[1;32md:\\Agentic_AI 2.0\\.venv\\lib\\site-packages\\langgraph\\pregel\\__init__.py:2542\u001b[0m, in \u001b[0;36mPregel.stream\u001b[1;34m(self, input, config, stream_mode, print_mode, output_keys, interrupt_before, interrupt_after, checkpoint_during, debug, subgraphs)\u001b[0m\n\u001b[0;32m   2540\u001b[0m \u001b[38;5;28;01mfor\u001b[39;00m task \u001b[38;5;129;01min\u001b[39;00m loop\u001b[38;5;241m.\u001b[39mmatch_cached_writes():\n\u001b[0;32m   2541\u001b[0m     loop\u001b[38;5;241m.\u001b[39moutput_writes(task\u001b[38;5;241m.\u001b[39mid, task\u001b[38;5;241m.\u001b[39mwrites, cached\u001b[38;5;241m=\u001b[39m\u001b[38;5;28;01mTrue\u001b[39;00m)\n\u001b[1;32m-> 2542\u001b[0m \u001b[38;5;28;01mfor\u001b[39;00m _ \u001b[38;5;129;01min\u001b[39;00m runner\u001b[38;5;241m.\u001b[39mtick(\n\u001b[0;32m   2543\u001b[0m     [t \u001b[38;5;28;01mfor\u001b[39;00m t \u001b[38;5;129;01min\u001b[39;00m loop\u001b[38;5;241m.\u001b[39mtasks\u001b[38;5;241m.\u001b[39mvalues() \u001b[38;5;28;01mif\u001b[39;00m \u001b[38;5;129;01mnot\u001b[39;00m t\u001b[38;5;241m.\u001b[39mwrites],\n\u001b[0;32m   2544\u001b[0m     timeout\u001b[38;5;241m=\u001b[39m\u001b[38;5;28mself\u001b[39m\u001b[38;5;241m.\u001b[39mstep_timeout,\n\u001b[0;32m   2545\u001b[0m     get_waiter\u001b[38;5;241m=\u001b[39mget_waiter,\n\u001b[0;32m   2546\u001b[0m     schedule_task\u001b[38;5;241m=\u001b[39mloop\u001b[38;5;241m.\u001b[39maccept_push,\n\u001b[0;32m   2547\u001b[0m ):\n\u001b[0;32m   2548\u001b[0m     \u001b[38;5;66;03m# emit output\u001b[39;00m\n\u001b[0;32m   2549\u001b[0m     \u001b[38;5;28;01myield from\u001b[39;00m _output(\n\u001b[0;32m   2550\u001b[0m         stream_mode, print_mode, subgraphs, stream\u001b[38;5;241m.\u001b[39mget, queue\u001b[38;5;241m.\u001b[39mEmpty\n\u001b[0;32m   2551\u001b[0m     )\n\u001b[0;32m   2552\u001b[0m loop\u001b[38;5;241m.\u001b[39mafter_tick()\n",
      "File \u001b[1;32md:\\Agentic_AI 2.0\\.venv\\lib\\site-packages\\langgraph\\pregel\\runner.py:162\u001b[0m, in \u001b[0;36mPregelRunner.tick\u001b[1;34m(self, tasks, reraise, timeout, retry_policy, get_waiter, schedule_task)\u001b[0m\n\u001b[0;32m    160\u001b[0m t \u001b[38;5;241m=\u001b[39m tasks[\u001b[38;5;241m0\u001b[39m]\n\u001b[0;32m    161\u001b[0m \u001b[38;5;28;01mtry\u001b[39;00m:\n\u001b[1;32m--> 162\u001b[0m     \u001b[43mrun_with_retry\u001b[49m\u001b[43m(\u001b[49m\n\u001b[0;32m    163\u001b[0m \u001b[43m        \u001b[49m\u001b[43mt\u001b[49m\u001b[43m,\u001b[49m\n\u001b[0;32m    164\u001b[0m \u001b[43m        \u001b[49m\u001b[43mretry_policy\u001b[49m\u001b[43m,\u001b[49m\n\u001b[0;32m    165\u001b[0m \u001b[43m        \u001b[49m\u001b[43mconfigurable\u001b[49m\u001b[38;5;241;43m=\u001b[39;49m\u001b[43m{\u001b[49m\n\u001b[0;32m    166\u001b[0m \u001b[43m            \u001b[49m\u001b[43mCONFIG_KEY_CALL\u001b[49m\u001b[43m:\u001b[49m\u001b[43m \u001b[49m\u001b[43mpartial\u001b[49m\u001b[43m(\u001b[49m\n\u001b[0;32m    167\u001b[0m \u001b[43m                \u001b[49m\u001b[43m_call\u001b[49m\u001b[43m,\u001b[49m\n\u001b[0;32m    168\u001b[0m \u001b[43m                \u001b[49m\u001b[43mweakref\u001b[49m\u001b[38;5;241;43m.\u001b[39;49m\u001b[43mref\u001b[49m\u001b[43m(\u001b[49m\u001b[43mt\u001b[49m\u001b[43m)\u001b[49m\u001b[43m,\u001b[49m\n\u001b[0;32m    169\u001b[0m \u001b[43m                \u001b[49m\u001b[43mretry_policy\u001b[49m\u001b[38;5;241;43m=\u001b[39;49m\u001b[43mretry_policy\u001b[49m\u001b[43m,\u001b[49m\n\u001b[0;32m    170\u001b[0m \u001b[43m                \u001b[49m\u001b[43mfutures\u001b[49m\u001b[38;5;241;43m=\u001b[39;49m\u001b[43mweakref\u001b[49m\u001b[38;5;241;43m.\u001b[39;49m\u001b[43mref\u001b[49m\u001b[43m(\u001b[49m\u001b[43mfutures\u001b[49m\u001b[43m)\u001b[49m\u001b[43m,\u001b[49m\n\u001b[0;32m    171\u001b[0m \u001b[43m                \u001b[49m\u001b[43mschedule_task\u001b[49m\u001b[38;5;241;43m=\u001b[39;49m\u001b[43mschedule_task\u001b[49m\u001b[43m,\u001b[49m\n\u001b[0;32m    172\u001b[0m \u001b[43m                \u001b[49m\u001b[43msubmit\u001b[49m\u001b[38;5;241;43m=\u001b[39;49m\u001b[38;5;28;43mself\u001b[39;49m\u001b[38;5;241;43m.\u001b[39;49m\u001b[43msubmit\u001b[49m\u001b[43m,\u001b[49m\n\u001b[0;32m    173\u001b[0m \u001b[43m            \u001b[49m\u001b[43m)\u001b[49m\u001b[43m,\u001b[49m\n\u001b[0;32m    174\u001b[0m \u001b[43m        \u001b[49m\u001b[43m}\u001b[49m\u001b[43m,\u001b[49m\n\u001b[0;32m    175\u001b[0m \u001b[43m    \u001b[49m\u001b[43m)\u001b[49m\n\u001b[0;32m    176\u001b[0m     \u001b[38;5;28mself\u001b[39m\u001b[38;5;241m.\u001b[39mcommit(t, \u001b[38;5;28;01mNone\u001b[39;00m)\n\u001b[0;32m    177\u001b[0m \u001b[38;5;28;01mexcept\u001b[39;00m \u001b[38;5;167;01mException\u001b[39;00m \u001b[38;5;28;01mas\u001b[39;00m exc:\n",
      "File \u001b[1;32md:\\Agentic_AI 2.0\\.venv\\lib\\site-packages\\langgraph\\pregel\\retry.py:42\u001b[0m, in \u001b[0;36mrun_with_retry\u001b[1;34m(task, retry_policy, configurable)\u001b[0m\n\u001b[0;32m     40\u001b[0m     task\u001b[38;5;241m.\u001b[39mwrites\u001b[38;5;241m.\u001b[39mclear()\n\u001b[0;32m     41\u001b[0m     \u001b[38;5;66;03m# run the task\u001b[39;00m\n\u001b[1;32m---> 42\u001b[0m     \u001b[38;5;28;01mreturn\u001b[39;00m \u001b[43mtask\u001b[49m\u001b[38;5;241;43m.\u001b[39;49m\u001b[43mproc\u001b[49m\u001b[38;5;241;43m.\u001b[39;49m\u001b[43minvoke\u001b[49m\u001b[43m(\u001b[49m\u001b[43mtask\u001b[49m\u001b[38;5;241;43m.\u001b[39;49m\u001b[43minput\u001b[49m\u001b[43m,\u001b[49m\u001b[43m \u001b[49m\u001b[43mconfig\u001b[49m\u001b[43m)\u001b[49m\n\u001b[0;32m     43\u001b[0m \u001b[38;5;28;01mexcept\u001b[39;00m ParentCommand \u001b[38;5;28;01mas\u001b[39;00m exc:\n\u001b[0;32m     44\u001b[0m     ns: \u001b[38;5;28mstr\u001b[39m \u001b[38;5;241m=\u001b[39m config[CONF][CONFIG_KEY_CHECKPOINT_NS]\n",
      "File \u001b[1;32md:\\Agentic_AI 2.0\\.venv\\lib\\site-packages\\langgraph\\utils\\runnable.py:623\u001b[0m, in \u001b[0;36mRunnableSeq.invoke\u001b[1;34m(self, input, config, **kwargs)\u001b[0m\n\u001b[0;32m    621\u001b[0m     \u001b[38;5;66;03m# run in context\u001b[39;00m\n\u001b[0;32m    622\u001b[0m     \u001b[38;5;28;01mwith\u001b[39;00m set_config_context(config, run) \u001b[38;5;28;01mas\u001b[39;00m context:\n\u001b[1;32m--> 623\u001b[0m         \u001b[38;5;28minput\u001b[39m \u001b[38;5;241m=\u001b[39m context\u001b[38;5;241m.\u001b[39mrun(step\u001b[38;5;241m.\u001b[39minvoke, \u001b[38;5;28minput\u001b[39m, config, \u001b[38;5;241m*\u001b[39m\u001b[38;5;241m*\u001b[39mkwargs)\n\u001b[0;32m    624\u001b[0m \u001b[38;5;28;01melse\u001b[39;00m:\n\u001b[0;32m    625\u001b[0m     \u001b[38;5;28minput\u001b[39m \u001b[38;5;241m=\u001b[39m step\u001b[38;5;241m.\u001b[39minvoke(\u001b[38;5;28minput\u001b[39m, config)\n",
      "File \u001b[1;32md:\\Agentic_AI 2.0\\.venv\\lib\\site-packages\\langgraph\\utils\\runnable.py:377\u001b[0m, in \u001b[0;36mRunnableCallable.invoke\u001b[1;34m(self, input, config, **kwargs)\u001b[0m\n\u001b[0;32m    375\u001b[0m         run_manager\u001b[38;5;241m.\u001b[39mon_chain_end(ret)\n\u001b[0;32m    376\u001b[0m \u001b[38;5;28;01melse\u001b[39;00m:\n\u001b[1;32m--> 377\u001b[0m     ret \u001b[38;5;241m=\u001b[39m \u001b[38;5;28mself\u001b[39m\u001b[38;5;241m.\u001b[39mfunc(\u001b[38;5;241m*\u001b[39margs, \u001b[38;5;241m*\u001b[39m\u001b[38;5;241m*\u001b[39mkwargs)\n\u001b[0;32m    378\u001b[0m \u001b[38;5;28;01mif\u001b[39;00m \u001b[38;5;28mself\u001b[39m\u001b[38;5;241m.\u001b[39mrecurse \u001b[38;5;129;01mand\u001b[39;00m \u001b[38;5;28misinstance\u001b[39m(ret, Runnable):\n\u001b[0;32m    379\u001b[0m     \u001b[38;5;28;01mreturn\u001b[39;00m ret\u001b[38;5;241m.\u001b[39minvoke(\u001b[38;5;28minput\u001b[39m, config)\n",
      "Cell \u001b[1;32mIn[66], line 4\u001b[0m, in \u001b[0;36mparallel_search\u001b[1;34m(state)\u001b[0m\n\u001b[0;32m      2\u001b[0m results \u001b[38;5;241m=\u001b[39m {}\n\u001b[0;32m      3\u001b[0m \u001b[38;5;28;01mfor\u001b[39;00m sub_q \u001b[38;5;129;01min\u001b[39;00m state[\u001b[38;5;124m'\u001b[39m\u001b[38;5;124msub_questions\u001b[39m\u001b[38;5;124m'\u001b[39m]:\n\u001b[1;32m----> 4\u001b[0m     results[sub_q] \u001b[38;5;241m=\u001b[39m \u001b[43mweb_searcher\u001b[49m\u001b[43m(\u001b[49m\u001b[43msub_q\u001b[49m\u001b[43m)\u001b[49m\n\u001b[0;32m      5\u001b[0m state[\u001b[38;5;124m'\u001b[39m\u001b[38;5;124msearch_results\u001b[39m\u001b[38;5;124m'\u001b[39m] \u001b[38;5;241m=\u001b[39m results\n\u001b[0;32m      6\u001b[0m \u001b[38;5;28;01mreturn\u001b[39;00m state\n",
      "Cell \u001b[1;32mIn[65], line 2\u001b[0m, in \u001b[0;36mweb_searcher\u001b[1;34m(sub_question)\u001b[0m\n\u001b[0;32m      1\u001b[0m \u001b[38;5;28;01mdef\u001b[39;00m\u001b[38;5;250m \u001b[39m\u001b[38;5;21mweb_searcher\u001b[39m(sub_question: \u001b[38;5;28mstr\u001b[39m) \u001b[38;5;241m-\u001b[39m\u001b[38;5;241m>\u001b[39m List[\u001b[38;5;28mstr\u001b[39m]:\n\u001b[1;32m----> 2\u001b[0m     \u001b[38;5;28;01mreturn\u001b[39;00m \u001b[43mtavaly_search\u001b[49m\u001b[38;5;241;43m.\u001b[39;49m\u001b[43minvoke\u001b[49m\u001b[43m(\u001b[49m\u001b[43msub_question\u001b[49m\u001b[43m)\u001b[49m\u001b[43m[\u001b[49m\u001b[38;5;124;43m'\u001b[39;49m\u001b[38;5;124;43msnippets\u001b[39;49m\u001b[38;5;124;43m'\u001b[39;49m\u001b[43m]\u001b[49m\n",
      "\u001b[1;31mTypeError\u001b[0m: list indices must be integers or slices, not str"
     ]
    }
   ],
   "source": [
    "input_state = {\n",
    "    \"input_query\": \"What are the economic and environmental effects of lithium mining?\",\n",
    "    \"sub_questions\": [],\n",
    "    \"search_results\": {},\n",
    "    \"missing_info\": [],  # change to [\"Q1\"] to test other path\n",
    "    \"contradictions\": [],\n",
    "    \"summary\": \"\",\n",
    "    \"report\": \"\",\n",
    "    \"complete\": False,\n",
    "}\n",
    "\n",
    "result = app.invoke(input_state)\n",
    "print(result[\"report\"])"
   ]
  }
 ],
 "metadata": {
  "kernelspec": {
   "display_name": "Agentic_AI 2.0",
   "language": "python",
   "name": "python3"
  },
  "language_info": {
   "codemirror_mode": {
    "name": "ipython",
    "version": 3
   },
   "file_extension": ".py",
   "mimetype": "text/x-python",
   "name": "python",
   "nbconvert_exporter": "python",
   "pygments_lexer": "ipython3",
   "version": "3.10.18"
  }
 },
 "nbformat": 4,
 "nbformat_minor": 5
}
