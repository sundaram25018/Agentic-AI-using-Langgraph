{
 "cells": [
  {
   "cell_type": "code",
   "execution_count": 1,
   "id": "17d05c11",
   "metadata": {},
   "outputs": [],
   "source": [
    "from langgraph.graph import StateGraph,START,END\n",
    "from typing import TypedDict\n"
   ]
  },
  {
   "cell_type": "code",
   "execution_count": 2,
   "id": "cecaa46a",
   "metadata": {},
   "outputs": [],
   "source": [
    "class Batsman(TypedDict):\n",
    "  runs:int\n",
    "  balls:int\n",
    "  fours:int\n",
    "  sixes:int\n",
    "  sr:float\n",
    "  bpb:float\n",
    "  boundary_percent:float\n",
    "  summary:str\n"
   ]
  },
  {
   "cell_type": "code",
   "execution_count": 3,
   "id": "f2d9c30b",
   "metadata": {},
   "outputs": [],
   "source": [
    "def StrikRate(state:Batsman) -> Batsman:\n",
    "  sr = (state[\"runs\"]/state[\"balls\"])*100\n",
    "  return {\"sr\":sr}"
   ]
  },
  {
   "cell_type": "code",
   "execution_count": 4,
   "id": "c980cfa0",
   "metadata": {},
   "outputs": [],
   "source": [
    "def CalculateBpb(state:Batsman)->Batsman:\n",
    "  boundary_run = state[\"fours\"]+state[\"sixes\"]\n",
    "  bpb = state[\"balls\"]/boundary_run\n",
    "  return {\"bpb\":bpb}"
   ]
  },
  {
   "cell_type": "code",
   "execution_count": 5,
   "id": "7beaa26e",
   "metadata": {},
   "outputs": [],
   "source": [
    "def boundaryRun(state:Batsman)->Batsman:\n",
    "  boundary_run = state[\"fours\"]*4 + state[\"sixes\"] * 6\n",
    "  boundry_percent = (boundary_run/state[\"runs\"])*100\n",
    "  return {\"boundary_percent\":boundry_percent}\n"
   ]
  },
  {
   "cell_type": "code",
   "execution_count": 6,
   "id": "94785ddf",
   "metadata": {},
   "outputs": [],
   "source": [
    "def summary(state:Batsman)->Batsman:\n",
    "  summary = f\"\"\" strike_rate : {state[\"sr\"]}\\n\n",
    "   ball per boundary : {state['bpb']}\\n\n",
    "   boundary_percent : {state[\"boundary_percent\"]}\\n    \n",
    "\"\"\""
   ]
  },
  {
   "cell_type": "code",
   "execution_count": 10,
   "id": "b8c573cd",
   "metadata": {},
   "outputs": [],
   "source": [
    "graph = StateGraph(Batsman)\n",
    "\n",
    "graph.add_node(\"StrikRate\", StrikRate)\n",
    "graph.add_node(\"boundaryRun\", boundaryRun)\n",
    "graph.add_node(\"CalculateBpb\", CalculateBpb)\n",
    "graph.add_node(\"summary\", summary)\n",
    "\n",
    "graph.add_edge(START, \"StrikRate\")\n",
    "graph.add_edge(START, \"CalculateBpb\")\n",
    "graph.add_edge(START, \"boundaryRun\")\n",
    "\n",
    "graph.add_edge(\"StrikRate\", \"summary\")\n",
    "graph.add_edge(\"boundaryRun\", \"summary\")\n",
    "graph.add_edge(\"CalculateBpb\", \"summary\")\n",
    "\n",
    "graph.add_edge(\"summary\", END)\n",
    "\n",
    "app = graph.compile()\n"
   ]
  },
  {
   "cell_type": "code",
   "execution_count": 11,
   "id": "6c4dac15",
   "metadata": {},
   "outputs": [
    {
     "data": {
      "text/plain": [
       "{'runs': 100,\n",
       " 'balls': 50,\n",
       " 'fours': 6,\n",
       " 'sixes': 4,\n",
       " 'sr': 200.0,\n",
       " 'bpb': 5.0,\n",
       " 'boundary_percent': 48.0}"
      ]
     },
     "execution_count": 11,
     "metadata": {},
     "output_type": "execute_result"
    }
   ],
   "source": [
    "intial_state = {\n",
    "    'runs': 100,\n",
    "    'balls': 50,\n",
    "    'fours': 6,\n",
    "    'sixes': 4\n",
    "}\n",
    "\n",
    "app.invoke(intial_state)"
   ]
  }
 ],
 "metadata": {
  "kernelspec": {
   "display_name": "Agentic_AI 2.0",
   "language": "python",
   "name": "python3"
  },
  "language_info": {
   "codemirror_mode": {
    "name": "ipython",
    "version": 3
   },
   "file_extension": ".py",
   "mimetype": "text/x-python",
   "name": "python",
   "nbconvert_exporter": "python",
   "pygments_lexer": "ipython3",
   "version": "3.10.18"
  }
 },
 "nbformat": 4,
 "nbformat_minor": 5
}
