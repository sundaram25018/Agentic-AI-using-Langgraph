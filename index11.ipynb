{
 "cells": [
  {
   "cell_type": "code",
   "execution_count": 1,
   "id": "235b8212",
   "metadata": {},
   "outputs": [],
   "source": [
    "from typing import TypedDict, Annotated\n",
    "from langchain_core.messages import HumanMessage\n",
    "from langgraph.graph import add_messages, StateGraph, END\n",
    "from langchain_groq import ChatGroq"
   ]
  },
  {
   "cell_type": "code",
   "execution_count": 2,
   "id": "96bc0af4",
   "metadata": {},
   "outputs": [],
   "source": [
    "class State(TypedDict): \n",
    "    messages: Annotated[list, add_messages]"
   ]
  },
  {
   "cell_type": "code",
   "execution_count": 3,
   "id": "7eddcfe7",
   "metadata": {},
   "outputs": [],
   "source": [
    "llm = ChatGroq(model=\"llama-3.1-8b-instant\")\n"
   ]
  },
  {
   "cell_type": "code",
   "execution_count": 4,
   "id": "bf0ebf8e",
   "metadata": {},
   "outputs": [],
   "source": [
    "GENERATE_POST = \"generate_post\"\n",
    "GET_REVIEW_DECISION = \"get_review_decision\"\n",
    "POST = \"post\"\n",
    "COLLECT_FEEDBACK = \"collect_feedback\""
   ]
  },
  {
   "cell_type": "code",
   "execution_count": 5,
   "id": "e670fa5a",
   "metadata": {},
   "outputs": [],
   "source": [
    "def generate_post(state: State): \n",
    "    return {\n",
    "        \"messages\": [llm.invoke(state[\"messages\"])]\n",
    "    }"
   ]
  },
  {
   "cell_type": "code",
   "execution_count": 6,
   "id": "787ce2d7",
   "metadata": {},
   "outputs": [],
   "source": [
    "def get_review_decision(state: State):  \n",
    "    post_content = state[\"messages\"][-1].content \n",
    "    \n",
    "    print(\"\\n📢 Current LinkedIn Post:\\n\")\n",
    "    print(post_content)\n",
    "    print(\"\\n\")\n",
    "\n",
    "    decision = input(\"Post to LinkedIn? (yes/no): \")\n",
    "\n",
    "    if decision.lower() == \"yes\":\n",
    "        return POST\n",
    "    else:\n",
    "        return COLLECT_FEEDBACK\n"
   ]
  },
  {
   "cell_type": "code",
   "execution_count": 7,
   "id": "03ee2f9d",
   "metadata": {},
   "outputs": [],
   "source": [
    "def post(state: State):  \n",
    "    final_post = state[\"messages\"][-1].content  \n",
    "    print(\"\\n📢 Final LinkedIn Post:\\n\")\n",
    "    print(final_post)\n",
    "    print(\"\\n✅ Post has been approved and is now live on LinkedIn!\")\n",
    "\n",
    "def collect_feedback(state: State):  \n",
    "    feedback = input(\"How can I improve this post?\")\n",
    "    return {\n",
    "        \"messages\": [HumanMessage(content=feedback)]\n",
    "    }"
   ]
  },
  {
   "cell_type": "code",
   "execution_count": 8,
   "id": "995141c4",
   "metadata": {},
   "outputs": [],
   "source": [
    "graph = StateGraph(State)\n",
    "\n",
    "graph.add_node(GENERATE_POST, generate_post)\n",
    "graph.add_node(GET_REVIEW_DECISION, get_review_decision)\n",
    "graph.add_node(COLLECT_FEEDBACK, collect_feedback)\n",
    "graph.add_node(POST, post)\n",
    "\n",
    "graph.set_entry_point(GENERATE_POST)\n",
    "\n",
    "graph.add_conditional_edges(GENERATE_POST, get_review_decision)\n",
    "graph.add_edge(POST, END)\n",
    "graph.add_edge(COLLECT_FEEDBACK, GENERATE_POST)\n",
    "\n",
    "app = graph.compile()"
   ]
  },
  {
   "cell_type": "code",
   "execution_count": 9,
   "id": "3ddcc478",
   "metadata": {},
   "outputs": [
    {
     "data": {
      "image/png": "[encoded data removed]",
      "text/plain": [
       "<IPython.core.display.Image object>"
      ]
     },
     "metadata": {},
     "output_type": "display_data"
    }
   ],
   "source": [
    "from IPython.display import display,Image\n",
    "display(Image(app.get_graph().draw_mermaid_png()))"
   ]
  },
  {
   "cell_type": "code",
   "execution_count": 10,
   "id": "94e1bb93",
   "metadata": {},
   "outputs": [
    {
     "name": "stdout",
     "output_type": "stream",
     "text": [
      "\n",
      "📢 Current LinkedIn Post:\n",
      "\n",
      "**The Future of Content Creation: Are AI Agents the New Boss?**\n",
      "\n",
      "As we continue to push the boundaries of technology, one thing is becoming increasingly clear: AI agents are changing the game when it comes to content creation.\n",
      "\n",
      "From generating engaging social media posts to crafting compelling articles, AI-powered tools are becoming more sophisticated by the day. But what does this mean for human content creators?\n",
      "\n",
      "On one hand, AI agents offer unparalleled efficiency and scalability, allowing businesses and organizations to produce high-quality content at a fraction of the cost. They can analyze vast amounts of data, identify trends, and create content that resonates with audiences.\n",
      "\n",
      "On the other hand, there's a growing concern that AI agents are taking over the very jobs that make content creation so valuable. Will we soon see a world where human writers, designers, and creators are replaced by machines?\n",
      "\n",
      "**The benefits of AI-powered content creation:**\n",
      "\n",
      "- **Increased productivity**: AI agents can work around the clock, producing high-quality content at an unprecedented pace.\n",
      "- **Improved accuracy**: AI-powered tools can analyze vast amounts of data, reducing the risk of errors and inconsistencies.\n",
      "- **Enhanced personalization**: AI agents can tailor content to specific audiences, increasing engagement and conversion rates.\n",
      "\n",
      "**But what about the human touch?**\n",
      "\n",
      "- **Creativity and originality**: While AI agents can generate ideas, they often lack the creative spark that human creators bring to the table.\n",
      "- **Emotional resonance**: Human writers and designers can craft content that speaks to people on a deeper level, evoking emotions and empathy.\n",
      "- **Contextual understanding**: Human creators can understand the nuances of language, culture, and context, producing content that's more relatable and authentic.\n",
      "\n",
      "So, what's the future of content creation? Will AI agents take over, or will human creators find a way to harness the power of technology to enhance their craft?\n",
      "\n",
      "**Let's discuss!**\n",
      "\n",
      "Share your thoughts on the rise of AI agents in content creation. Are you excited about the possibilities, or do you think there's a risk of losing the human touch?\n",
      "\n",
      "#contentcreation #AIagents #futureofwork #humancreativity #productivity\n",
      "\n",
      "\n",
      "\n",
      "📢 Current LinkedIn Post:\n",
      "\n",
      "**The Future of Content Creation: Are AI Agents the New Boss?**\n",
      "\n",
      "As we continue to push the boundaries of technology, one thing is becoming increasingly clear: AI agents are changing the game when it comes to content creation.\n",
      "\n",
      "From generating engaging social media posts using Natural Language Processing (NLP) and Generative Adversarial Networks (GANs) to crafting compelling articles using Large Language Models (LLMs) like BERT and RoBERTa, AI-powered tools are becoming more sophisticated by the day.\n",
      "\n",
      "But what does this mean for human content creators?\n",
      "\n",
      "On one hand, AI agents offer unparalleled efficiency and scalability, allowing businesses and organizations to produce high-quality content at a fraction of the cost. They can analyze vast amounts of data using techniques like topic modeling and sentiment analysis, identify trends, and create content that resonates with audiences.\n",
      "\n",
      "For example, Hootsuite's AI-powered content generator uses machine learning algorithms to analyze a brand's existing content and generate new ideas based on their tone, style, and audience preferences. Similarly, The New York Times' AI-powered writing assistant uses NLP to help journalists research and write articles more efficiently.\n",
      "\n",
      "On the other hand, there's a growing concern that AI agents are taking over the very jobs that make content creation so valuable. Will we soon see a world where human writers, designers, and creators are replaced by machines?\n",
      "\n",
      "**The benefits of AI-powered content creation:**\n",
      "\n",
      "- **Increased productivity**: AI agents can work around the clock, producing high-quality content at an unprecedented pace.\n",
      "- **Improved accuracy**: AI-powered tools can analyze vast amounts of data, reducing the risk of errors and inconsistencies.\n",
      "- **Enhanced personalization**: AI agents can tailor content to specific audiences, increasing engagement and conversion rates.\n",
      "- **Automated content optimization**: AI agents can continuously analyze and optimize content for search engines, social media, and other platforms.\n",
      "\n",
      "**But what about the human touch?**\n",
      "\n",
      "- **Creativity and originality**: While AI agents can generate ideas, they often lack the creative spark that human creators bring to the table.\n",
      "- **Emotional resonance**: Human writers and designers can craft content that speaks to people on a deeper level, evoking emotions and empathy.\n",
      "- **Contextual understanding**: Human creators can understand the nuances of language, culture, and context, producing content that's more relatable and authentic.\n",
      "- **Critical thinking and evaluation**: Human creators can critically evaluate the accuracy and relevance of AI-generated content, ensuring it meets editorial standards.\n",
      "\n",
      "So, what's the future of content creation? Will AI agents take over, or will human creators find a way to harness the power of technology to enhance their craft?\n",
      "\n",
      "**Let's discuss!**\n",
      "\n",
      "Share your thoughts on the rise of AI agents in content creation. Are you excited about the possibilities, or do you think there's a risk of losing the human touch?\n",
      "\n",
      "**Technical examples and tools:**\n",
      "\n",
      "- **Content generation platforms:** Content Blossom, WordLift, and Content Blossom.\n",
      "- **AI-powered writing assistants:** The New York Times' AI-powered writing assistant, Hootsuite's AI-powered content generator, and HubSpot's AI-powered content writer.\n",
      "- **Large Language Models (LLMs):** BERT, RoBERTa, and XLNet.\n",
      "- **Natural Language Processing (NLP) libraries:** spaCy, NLTK, and Stanford CoreNLP.\n",
      "\n",
      "#contentcreation #AIagents #futureofwork #humancreativity #productivity #NLP #LLMs #GANs #BERT #RoBERTa\n",
      "\n",
      "\n",
      "\n",
      "📢 Final LinkedIn Post:\n",
      "\n",
      "**The Future of Content Creation: Are AI Agents the New Boss?**\n",
      "\n",
      "As we continue to push the boundaries of technology, one thing is becoming increasingly clear: AI agents are changing the game when it comes to content creation.\n",
      "\n",
      "From generating engaging social media posts using Natural Language Processing (NLP) and Generative Adversarial Networks (GANs) to crafting compelling articles using Large Language Models (LLMs) like BERT and RoBERTa, AI-powered tools are becoming more sophisticated by the day.\n",
      "\n",
      "But what does this mean for human content creators?\n",
      "\n",
      "On one hand, AI agents offer unparalleled efficiency and scalability, allowing businesses and organizations to produce high-quality content at a fraction of the cost. They can analyze vast amounts of data using techniques like topic modeling and sentiment analysis, identify trends, and create content that resonates with audiences.\n",
      "\n",
      "For example, Hootsuite's AI-powered content generator uses machine learning algorithms to analyze a brand's existing content and generate new ideas based on their tone, style, and audience preferences. Similarly, The New York Times' AI-powered writing assistant uses NLP to help journalists research and write articles more efficiently.\n",
      "\n",
      "On the other hand, there's a growing concern that AI agents are taking over the very jobs that make content creation so valuable. Will we soon see a world where human writers, designers, and creators are replaced by machines?\n",
      "\n",
      "**The benefits of AI-powered content creation:**\n",
      "\n",
      "- **Increased productivity**: AI agents can work around the clock, producing high-quality content at an unprecedented pace.\n",
      "- **Improved accuracy**: AI-powered tools can analyze vast amounts of data, reducing the risk of errors and inconsistencies.\n",
      "- **Enhanced personalization**: AI agents can tailor content to specific audiences, increasing engagement and conversion rates.\n",
      "- **Automated content optimization**: AI agents can continuously analyze and optimize content for search engines, social media, and other platforms.\n",
      "\n",
      "**But what about the human touch?**\n",
      "\n",
      "- **Creativity and originality**: While AI agents can generate ideas, they often lack the creative spark that human creators bring to the table.\n",
      "- **Emotional resonance**: Human writers and designers can craft content that speaks to people on a deeper level, evoking emotions and empathy.\n",
      "- **Contextual understanding**: Human creators can understand the nuances of language, culture, and context, producing content that's more relatable and authentic.\n",
      "- **Critical thinking and evaluation**: Human creators can critically evaluate the accuracy and relevance of AI-generated content, ensuring it meets editorial standards.\n",
      "\n",
      "So, what's the future of content creation? Will AI agents take over, or will human creators find a way to harness the power of technology to enhance their craft?\n",
      "\n",
      "**Let's discuss!**\n",
      "\n",
      "Share your thoughts on the rise of AI agents in content creation. Are you excited about the possibilities, or do you think there's a risk of losing the human touch?\n",
      "\n",
      "**Technical examples and tools:**\n",
      "\n",
      "- **Content generation platforms:** Content Blossom, WordLift, and Content Blossom.\n",
      "- **AI-powered writing assistants:** The New York Times' AI-powered writing assistant, Hootsuite's AI-powered content generator, and HubSpot's AI-powered content writer.\n",
      "- **Large Language Models (LLMs):** BERT, RoBERTa, and XLNet.\n",
      "- **Natural Language Processing (NLP) libraries:** spaCy, NLTK, and Stanford CoreNLP.\n",
      "\n",
      "#contentcreation #AIagents #futureofwork #humancreativity #productivity #NLP #LLMs #GANs #BERT #RoBERTa\n",
      "\n",
      "✅ Post has been approved and is now live on LinkedIn!\n",
      "{'messages': [HumanMessage(content='Write me a LinkedIn post on AI Agents taking over content creation', additional_kwargs={}, response_metadata={}, id='65ea3aa9-213b-49c8-aadf-e4094f194631'), AIMessage(content=\"**The Future of Content Creation: Are AI Agents the New Boss?**\\n\\nAs we continue to push the boundaries of technology, one thing is becoming increasingly clear: AI agents are changing the game when it comes to content creation.\\n\\nFrom generating engaging social media posts to crafting compelling articles, AI-powered tools are becoming more sophisticated by the day. But what does this mean for human content creators?\\n\\nOn one hand, AI agents offer unparalleled efficiency and scalability, allowing businesses and organizations to produce high-quality content at a fraction of the cost. They can analyze vast amounts of data, identify trends, and create content that resonates with audiences.\\n\\nOn the other hand, there's a growing concern that AI agents are taking over the very jobs that make content creation so valuable. Will we soon see a world where human writers, designers, and creators are replaced by machines?\\n\\n**The benefits of AI-powered content creation:**\\n\\n- **Increased productivity**: AI agents can work around the clock, producing high-quality content at an unprecedented pace.\\n- **Improved accuracy**: AI-powered tools can analyze vast amounts of data, reducing the risk of errors and inconsistencies.\\n- **Enhanced personalization**: AI agents can tailor content to specific audiences, increasing engagement and conversion rates.\\n\\n**But what about the human touch?**\\n\\n- **Creativity and originality**: While AI agents can generate ideas, they often lack the creative spark that human creators bring to the table.\\n- **Emotional resonance**: Human writers and designers can craft content that speaks to people on a deeper level, evoking emotions and empathy.\\n- **Contextual understanding**: Human creators can understand the nuances of language, culture, and context, producing content that's more relatable and authentic.\\n\\nSo, what's the future of content creation? Will AI agents take over, or will human creators find a way to harness the power of technology to enhance their craft?\\n\\n**Let's discuss!**\\n\\nShare your thoughts on the rise of AI agents in content creation. Are you excited about the possibilities, or do you think there's a risk of losing the human touch?\\n\\n#contentcreation #AIagents #futureofwork #humancreativity #productivity\", additional_kwargs={}, response_metadata={'token_usage': {'completion_tokens': 435, 'prompt_tokens': 47, 'total_tokens': 482, 'completion_time': 0.64086819, 'prompt_time': 0.002395284, 'queue_time': 0.051650257000000005, 'total_time': 0.643263474}, 'model_name': 'llama-3.1-8b-instant', 'system_fingerprint': 'fp_510c177af0', 'finish_reason': 'stop', 'logprobs': None}, id='run--0a2d80ff-71af-4a53-a560-78df61c7ada6-0', usage_metadata={'input_tokens': 47, 'output_tokens': 435, 'total_tokens': 482}), HumanMessage(content='I want to add more technicalities and better examples', additional_kwargs={}, response_metadata={}, id='c0f06446-b20f-41c6-b6cc-7088e03e52ee'), AIMessage(content=\"**The Future of Content Creation: Are AI Agents the New Boss?**\\n\\nAs we continue to push the boundaries of technology, one thing is becoming increasingly clear: AI agents are changing the game when it comes to content creation.\\n\\nFrom generating engaging social media posts using Natural Language Processing (NLP) and Generative Adversarial Networks (GANs) to crafting compelling articles using Large Language Models (LLMs) like BERT and RoBERTa, AI-powered tools are becoming more sophisticated by the day.\\n\\nBut what does this mean for human content creators?\\n\\nOn one hand, AI agents offer unparalleled efficiency and scalability, allowing businesses and organizations to produce high-quality content at a fraction of the cost. They can analyze vast amounts of data using techniques like topic modeling and sentiment analysis, identify trends, and create content that resonates with audiences.\\n\\nFor example, Hootsuite's AI-powered content generator uses machine learning algorithms to analyze a brand's existing content and generate new ideas based on their tone, style, and audience preferences. Similarly, The New York Times' AI-powered writing assistant uses NLP to help journalists research and write articles more efficiently.\\n\\nOn the other hand, there's a growing concern that AI agents are taking over the very jobs that make content creation so valuable. Will we soon see a world where human writers, designers, and creators are replaced by machines?\\n\\n**The benefits of AI-powered content creation:**\\n\\n- **Increased productivity**: AI agents can work around the clock, producing high-quality content at an unprecedented pace.\\n- **Improved accuracy**: AI-powered tools can analyze vast amounts of data, reducing the risk of errors and inconsistencies.\\n- **Enhanced personalization**: AI agents can tailor content to specific audiences, increasing engagement and conversion rates.\\n- **Automated content optimization**: AI agents can continuously analyze and optimize content for search engines, social media, and other platforms.\\n\\n**But what about the human touch?**\\n\\n- **Creativity and originality**: While AI agents can generate ideas, they often lack the creative spark that human creators bring to the table.\\n- **Emotional resonance**: Human writers and designers can craft content that speaks to people on a deeper level, evoking emotions and empathy.\\n- **Contextual understanding**: Human creators can understand the nuances of language, culture, and context, producing content that's more relatable and authentic.\\n- **Critical thinking and evaluation**: Human creators can critically evaluate the accuracy and relevance of AI-generated content, ensuring it meets editorial standards.\\n\\nSo, what's the future of content creation? Will AI agents take over, or will human creators find a way to harness the power of technology to enhance their craft?\\n\\n**Let's discuss!**\\n\\nShare your thoughts on the rise of AI agents in content creation. Are you excited about the possibilities, or do you think there's a risk of losing the human touch?\\n\\n**Technical examples and tools:**\\n\\n- **Content generation platforms:** Content Blossom, WordLift, and Content Blossom.\\n- **AI-powered writing assistants:** The New York Times' AI-powered writing assistant, Hootsuite's AI-powered content generator, and HubSpot's AI-powered content writer.\\n- **Large Language Models (LLMs):** BERT, RoBERTa, and XLNet.\\n- **Natural Language Processing (NLP) libraries:** spaCy, NLTK, and Stanford CoreNLP.\\n\\n#contentcreation #AIagents #futureofwork #humancreativity #productivity #NLP #LLMs #GANs #BERT #RoBERTa\", additional_kwargs={}, response_metadata={'token_usage': {'completion_tokens': 711, 'prompt_tokens': 501, 'total_tokens': 1212, 'completion_time': 0.948, 'prompt_time': 0.033156216, 'queue_time': 0.053345134, 'total_time': 0.981156216}, 'model_name': 'llama-3.1-8b-instant', 'system_fingerprint': 'fp_8ab2e50475', 'finish_reason': 'stop', 'logprobs': None}, id='run--3d88941c-38a7-4a0e-8364-6d6f6c2a969c-0', usage_metadata={'input_tokens': 501, 'output_tokens': 711, 'total_tokens': 1212})]}\n"
     ]
    }
   ],
   "source": [
    "response = app.invoke({\n",
    "    \"messages\": [HumanMessage(content=\"Write me a LinkedIn post on AI Agents taking over content creation\")]\n",
    "})\n",
    "print(response)"
   ]
  }
 ],
 "metadata": {
  "kernelspec": {
   "display_name": "Agentic_AI 2.0",
   "language": "python",
   "name": "python3"
  },
  "language_info": {
   "codemirror_mode": {
    "name": "ipython",
    "version": 3
   },
   "file_extension": ".py",
   "mimetype": "text/x-python",
   "name": "python",
   "nbconvert_exporter": "python",
   "pygments_lexer": "ipython3",
   "version": "3.10.18"
  }
 },
 "nbformat": 4,
 "nbformat_minor": 5
}
