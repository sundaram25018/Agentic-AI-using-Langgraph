{
 "cells": [
  {
   "cell_type": "code",
   "execution_count": 1,
   "id": "8e5f80b8",
   "metadata": {},
   "outputs": [],
   "source": [
    "from typing import TypedDict, Annotated\n",
    "from langchain_core.messages import HumanMessage\n",
    "from langgraph.graph import add_messages, StateGraph, END\n",
    "from langchain_groq import ChatGroq"
   ]
  },
  {
   "cell_type": "code",
   "execution_count": 2,
   "id": "66f2602e",
   "metadata": {},
   "outputs": [],
   "source": [
    "class State(TypedDict): \n",
    "    messages: Annotated[list, add_messages]"
   ]
  },
  {
   "cell_type": "code",
   "execution_count": 3,
   "id": "9fd780f9",
   "metadata": {},
   "outputs": [],
   "source": [
    "llm = ChatGroq(model=\"llama-3.1-8b-instant\")"
   ]
  },
  {
   "cell_type": "code",
   "execution_count": null,
   "id": "2cf00fdd",
   "metadata": {},
   "outputs": [],
   "source": [
    "GENERATE_POST = \"generate_post\"\n",
    "GET_REVIEW_DECISION = \"get_review_decision\"\n",
    "POST = \"post\"\n",
    "COLLECT_FEEDBACK = \"collect_feedback\""
   ]
  },
  {
   "cell_type": "code",
   "execution_count": 6,
   "id": "8c43dd2b",
   "metadata": {},
   "outputs": [],
   "source": [
    "def generate_post(state: State): \n",
    "    return {\n",
    "        \"messages\": [llm.invoke(state[\"messages\"])]\n",
    "    }\n",
    "\n",
    "def get_review_decision(state: State):  \n",
    "    post_content = state[\"messages\"][-1].content \n",
    "    \n",
    "    print(\"\\n📢 Current LinkedIn Post:\\n\")\n",
    "    print(post_content)\n",
    "    print(\"\\n\")\n",
    "\n",
    "    decision = input(\"Post to LinkedIn? (yes/no): \")\n",
    "\n",
    "    if decision.lower() == \"yes\":\n",
    "        return POST\n",
    "    else:\n",
    "        return COLLECT_FEEDBACK\n",
    "\n",
    "\n",
    "def post(state: State):  \n",
    "    final_post = state[\"messages\"][-1].content  \n",
    "    print(\"\\n📢 Final LinkedIn Post:\\n\")\n",
    "    print(final_post)\n",
    "    print(\"\\n✅ Post has been approved and is now live on LinkedIn!\")\n",
    "\n",
    "def collect_feedback(state: State):  \n",
    "    feedback = input(\"How can I improve this post?\")\n",
    "    return {\n",
    "        \"messages\": [HumanMessage(content=feedback)]\n",
    "    }"
   ]
  },
  {
   "cell_type": "code",
   "execution_count": null,
   "id": "e575a72a",
   "metadata": {},
   "outputs": [],
   "source": [
    "graph = StateGraph(State)\n",
    "\n",
    "graph.add_node(GENERATE_POST, generate_post)\n",
    "graph.add_node(GET_REVIEW_DECISION, get_review_decision)\n",
    "graph.add_node(COLLECT_FEEDBACK, collect_feedback)\n",
    "graph.add_node(POST, post)\n",
    "\n",
    "\n",
    "graph.set_entry_point(GENERATE_POST)\n",
    "graph.add_conditional_edges(\n",
    "    GENERATE_POST,get_review_decision)\n",
    "graph.add_edge(POST, END)\n",
    "graph.add_edge(COLLECT_FEEDBACK, GENERATE_POST)\n",
    "\n",
    "app = graph.compile()"
   ]
  },
  {
   "cell_type": "code",
   "execution_count": 11,
   "id": "ba0aa50f",
   "metadata": {},
   "outputs": [
    {
     "data": {
      "image/png": "[encoded data removed]",
      "text/plain": [
       "<langgraph.graph.state.CompiledStateGraph object at 0x00000189964F0BB0>"
      ]
     },
     "execution_count": 11,
     "metadata": {},
     "output_type": "execute_result"
    }
   ],
   "source": [
    "app"
   ]
  },
  {
   "cell_type": "code",
   "execution_count": 10,
   "id": "8dcc5432",
   "metadata": {},
   "outputs": [
    {
     "name": "stdout",
     "output_type": "stream",
     "text": [
      "\n",
      "📢 Current LinkedIn Post:\n",
      "\n",
      "**The Future of Content Creation: AI Agents Taking Center Stage**\n",
      "\n",
      "As we continue to navigate the ever-evolving landscape of digital media, a fascinating trend is emerging: AI agents are increasingly taking over content creation tasks.\n",
      "\n",
      "From generating engaging social media posts to crafting compelling articles, AI-powered tools are revolutionizing the way we produce and consume content. These intelligent agents are capable of analyzing vast amounts of data, learning from patterns, and producing high-quality content that resonates with audiences.\n",
      "\n",
      "**What does this mean for creators?**\n",
      "\n",
      "While AI agents are certainly changing the game, they're not necessarily replacing human creatives. Instead, they're augmenting our abilities, freeing us to focus on higher-level tasks that require creativity, empathy, and nuance.\n",
      "\n",
      "**Benefits of AI-powered content creation:**\n",
      "\n",
      "1. **Increased efficiency**: AI can produce content at scale, saving time and resources for human creators.\n",
      "2. **Improved consistency**: AI agents can maintain a consistent tone, style, and quality across multiple pieces of content.\n",
      "3. **Enhanced personalization**: AI can analyze audience data and create content that resonates with specific segments.\n",
      "4. **Access to expertise**: AI can tap into vast amounts of knowledge and expertise, making it an invaluable resource for content creators.\n",
      "\n",
      "**The future of content creation: Human + AI**\n",
      "\n",
      "As AI agents continue to advance, it's clear that the future of content creation lies at the intersection of human creativity and AI-powered efficiency. By collaborating with AI, we can:\n",
      "\n",
      "1. **Unlock new levels of creativity**: AI can suggest innovative ideas, while humans can refine and polish them.\n",
      "2. **Amplify our impact**: AI can help us reach wider audiences and create a greater impact with our content.\n",
      "3. **Stay ahead of the curve**: AI can analyze industry trends and provide insights that inform our content strategy.\n",
      "\n",
      "**What do you think?**\n",
      "\n",
      "As AI agents take on more content creation tasks, how do you see the future of content evolving? Share your thoughts, experiences, and predictions in the comments below!\n",
      "\n",
      "#ArtificialIntelligence #ContentCreation #FutureOfWork #DigitalMedia #Collaboration #Creativity\n",
      "\n",
      "\n",
      "\n",
      "📢 Current LinkedIn Post:\n",
      "\n",
      "Goodbye.\n",
      "\n",
      "\n",
      "\n",
      "📢 Final LinkedIn Post:\n",
      "\n",
      "Goodbye.\n",
      "\n",
      "✅ Post has been approved and is now live on LinkedIn!\n",
      "{'messages': [HumanMessage(content='Write me a LinkedIn post on AI Agents taking over content creation', additional_kwargs={}, response_metadata={}, id='71d6a5c7-778e-41f8-8793-11a336b5cdba'), AIMessage(content=\"**The Future of Content Creation: AI Agents Taking Center Stage**\\n\\nAs we continue to navigate the ever-evolving landscape of digital media, a fascinating trend is emerging: AI agents are increasingly taking over content creation tasks.\\n\\nFrom generating engaging social media posts to crafting compelling articles, AI-powered tools are revolutionizing the way we produce and consume content. These intelligent agents are capable of analyzing vast amounts of data, learning from patterns, and producing high-quality content that resonates with audiences.\\n\\n**What does this mean for creators?**\\n\\nWhile AI agents are certainly changing the game, they're not necessarily replacing human creatives. Instead, they're augmenting our abilities, freeing us to focus on higher-level tasks that require creativity, empathy, and nuance.\\n\\n**Benefits of AI-powered content creation:**\\n\\n1. **Increased efficiency**: AI can produce content at scale, saving time and resources for human creators.\\n2. **Improved consistency**: AI agents can maintain a consistent tone, style, and quality across multiple pieces of content.\\n3. **Enhanced personalization**: AI can analyze audience data and create content that resonates with specific segments.\\n4. **Access to expertise**: AI can tap into vast amounts of knowledge and expertise, making it an invaluable resource for content creators.\\n\\n**The future of content creation: Human + AI**\\n\\nAs AI agents continue to advance, it's clear that the future of content creation lies at the intersection of human creativity and AI-powered efficiency. By collaborating with AI, we can:\\n\\n1. **Unlock new levels of creativity**: AI can suggest innovative ideas, while humans can refine and polish them.\\n2. **Amplify our impact**: AI can help us reach wider audiences and create a greater impact with our content.\\n3. **Stay ahead of the curve**: AI can analyze industry trends and provide insights that inform our content strategy.\\n\\n**What do you think?**\\n\\nAs AI agents take on more content creation tasks, how do you see the future of content evolving? Share your thoughts, experiences, and predictions in the comments below!\\n\\n#ArtificialIntelligence #ContentCreation #FutureOfWork #DigitalMedia #Collaboration #Creativity\", additional_kwargs={}, response_metadata={'token_usage': {'completion_tokens': 433, 'prompt_tokens': 47, 'total_tokens': 480, 'completion_time': 0.705965193, 'prompt_time': 0.30122376, 'queue_time': 0.05068103099999999, 'total_time': 1.007188953}, 'model_name': 'llama-3.1-8b-instant', 'system_fingerprint': 'fp_c523237e5d', 'finish_reason': 'stop', 'logprobs': None}, id='run--d088b0bd-bac1-486d-9d11-3112282b8930-0', usage_metadata={'input_tokens': 47, 'output_tokens': 433, 'total_tokens': 480}), HumanMessage(content='exit', additional_kwargs={}, response_metadata={}, id='25c28486-cdc0-429f-bc5b-a7056a1dfed7'), AIMessage(content='Goodbye.', additional_kwargs={}, response_metadata={'token_usage': {'completion_tokens': 4, 'prompt_tokens': 490, 'total_tokens': 494, 'completion_time': 0.010652856, 'prompt_time': 0.044016118, 'queue_time': 0.054936651999999996, 'total_time': 0.054668974}, 'model_name': 'llama-3.1-8b-instant', 'system_fingerprint': 'fp_c523237e5d', 'finish_reason': 'stop', 'logprobs': None}, id='run--cb774888-e081-4de4-89a1-2ad450656c2c-0', usage_metadata={'input_tokens': 490, 'output_tokens': 4, 'total_tokens': 494})]}\n"
     ]
    }
   ],
   "source": [
    "response = app.invoke({\n",
    "    \"messages\": [HumanMessage(content=\"Write me a LinkedIn post on AI Agents taking over content creation\")]\n",
    "})\n",
    "\n",
    "print(response)"
   ]
  }
 ],
 "metadata": {
  "kernelspec": {
   "display_name": "Agentic_AI 2.0",
   "language": "python",
   "name": "python3"
  },
  "language_info": {
   "codemirror_mode": {
    "name": "ipython",
    "version": 3
   },
   "file_extension": ".py",
   "mimetype": "text/x-python",
   "name": "python",
   "nbconvert_exporter": "python",
   "pygments_lexer": "ipython3",
   "version": "3.10.18"
  }
 },
 "nbformat": 4,
 "nbformat_minor": 5
}
