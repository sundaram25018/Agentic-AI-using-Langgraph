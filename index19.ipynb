{
 "cells": [
  {
   "cell_type": "code",
   "execution_count": 1,
   "id": "39c1c226",
   "metadata": {},
   "outputs": [],
   "source": [
    "from langgraph.graph import StateGraph, START, END, add_messages\n",
    "from typing import TypedDict, Annotated, List\n",
    "from langgraph.checkpoint.memory import MemorySaver\n",
    "from langchain_groq import ChatGroq\n",
    "from langchain_community.tools import TavilySearchResults\n",
    "from langgraph.prebuilt import ToolNode\n",
    "from langchain_core.messages import HumanMessage"
   ]
  },
  {
   "cell_type": "code",
   "execution_count": 2,
   "id": "af35f2c1",
   "metadata": {},
   "outputs": [
    {
     "name": "stderr",
     "output_type": "stream",
     "text": [
      "C:\\Users\\sunda\\AppData\\Local\\Temp\\ipykernel_16108\\1180346360.py:3: LangChainDeprecationWarning: The class `TavilySearchResults` was deprecated in LangChain 0.3.25 and will be removed in 1.0. An updated version of the class exists in the :class:`~langchain-tavily package and should be used instead. To use it run `pip install -U :class:`~langchain-tavily` and import as `from :class:`~langchain_tavily import TavilySearch``.\n",
      "  search_tool = TavilySearchResults(max_results=2)\n"
     ]
    }
   ],
   "source": [
    "memory = MemorySaver()\n",
    "\n",
    "search_tool = TavilySearchResults(max_results=2)\n",
    "tools = [search_tool]\n",
    "\n",
    "llm = ChatGroq(model=\"llama-3.1-8b-instant\")\n",
    "llm_with_tools = llm.bind_tools(tools=tools)"
   ]
  },
  {
   "cell_type": "code",
   "execution_count": 3,
   "id": "1c8fb382",
   "metadata": {},
   "outputs": [],
   "source": [
    "class BasicState(TypedDict): \n",
    "    messages: Annotated[List, add_messages]"
   ]
  },
  {
   "cell_type": "code",
   "execution_count": 4,
   "id": "44e8fb2c",
   "metadata": {},
   "outputs": [],
   "source": [
    "def model(state: BasicState): \n",
    "    return {\n",
    "        \"messages\": [llm_with_tools.invoke(state[\"messages\"])]\n",
    "    }\n",
    "\n",
    "def tools_router(state: BasicState): \n",
    "    last_message = state[\"messages\"][-1]\n",
    "    if(hasattr(last_message, \"tool_calls\") and \n",
    "    len(last_message.tool_calls) > 0):\n",
    "        return \"tools\"\n",
    "    else: \n",
    "        return END"
   ]
  },
  {
   "cell_type": "code",
   "execution_count": 5,
   "id": "b511aff7",
   "metadata": {},
   "outputs": [],
   "source": [
    "graph = StateGraph(BasicState)\n",
    "graph.add_node(model, \"model\")\n",
    "graph.add_node(\"tools\", ToolNode(tools=tools))\n",
    "\n",
    "graph.set_entry_point(\"model\")\n",
    "graph.add_conditional_edges(\"model\", tools_router)\n",
    "graph.add_edge(\"model\", END) \n",
    "graph.add_edge(\"tools\", \"model\")\n",
    "\n",
    "app = graph.compile(checkpointer=memory, interrupt_before=[\"tools\"])\n"
   ]
  },
  {
   "cell_type": "code",
   "execution_count": 17,
   "id": "6c33c503",
   "metadata": {},
   "outputs": [
    {
     "name": "stdout",
     "output_type": "stream",
     "text": [
      "================================\u001b[1m Human Message \u001b[0m=================================\n",
      "\n",
      "which is the smallest mammal?\n",
      "==================================\u001b[1m Ai Message \u001b[0m==================================\n",
      "Tool Calls:\n",
      "  tavily_search_results_json (48a022dwx)\n",
      " Call ID: 48a022dwx\n",
      "  Args:\n",
      "    query: smallest mammal\n"
     ]
    }
   ],
   "source": [
    "config = {\"configurable\": {\n",
    "    \"thread_id\": 1\n",
    "}}\n",
    "\n",
    "events = app.stream({\n",
    "    \"messages\": [HumanMessage(content=\"which is the smallest mammal?\")]\n",
    "}, config=config, stream_mode=\"values\")\n",
    "\n",
    "for event in events:\n",
    "    event[\"messages\"][-1].pretty_print()"
   ]
  },
  {
   "cell_type": "code",
   "execution_count": 18,
   "id": "441ea192",
   "metadata": {},
   "outputs": [
    {
     "data": {
      "text/plain": [
       "('tools',)"
      ]
     },
     "execution_count": 18,
     "metadata": {},
     "output_type": "execute_result"
    }
   ],
   "source": [
    "snapshot = app.get_state(config=config)\n",
    "snapshot.next"
   ]
  },
  {
   "cell_type": "code",
   "execution_count": 19,
   "id": "f676bacd",
   "metadata": {},
   "outputs": [
    {
     "name": "stdout",
     "output_type": "stream",
     "text": [
      "==================================\u001b[1m Ai Message \u001b[0m==================================\n",
      "Tool Calls:\n",
      "  tavily_search_results_json (48a022dwx)\n",
      " Call ID: 48a022dwx\n",
      "  Args:\n",
      "    query: smallest mammal\n",
      "=================================\u001b[1m Tool Message \u001b[0m=================================\n",
      "Name: tavily_search_results_json\n",
      "\n",
      "[{\"title\": \"The World's 6 Smallest Mammals | Live Science\", \"url\": \"https://www.livescience.com/33049-smallest-mammals.html\", \"content\": \"Bumblebee Bat\\n\\nBumblebee Bat\\n\\nThe smallest mammal in the world is the bumblebee bat (Craseonycteris thonglongyai), weighing in at just barely 2 grams and measuring 1 to 1.3 inches in length, about the size of a large bumblebee. Discovered by Thai zoologist Kitti Thonglongya in 1974, it's also known as Kitti's hog-nosed bat because of its pink, pig-like snout. [...] The mouse lemur, a species unique to Madagascar, is the world's smallest primate. There are 18 known species of mouse lemur, but on average, they weigh between 1.5 and 3 ounces, according to the Duke Lemur Center. These primates forage for food at night, looking for insects (mostly beetles), fruit, flowers and leaves, the Duke Lemur Center reported.\\n\\nGet the world’s most fascinating discoveries delivered straight to your inbox. [...] # The World's 6 Smallest Mammals\\n\\nWhen you purchase through links on our site, we may earn an affiliate commission. Here’s how it works.\\n\\n## Intro\\n\\namerican-shrew-mole-02\\n\\namerican-shrew-mole-02\\n\\nThe smallest mammals in the world may appear cute and defenseless, but their teensy size helps them do much more than just look adorable. From climbing across delicate branches while hunting for insects to dodging predators by hiding in thin crevices, their petite frames work to their advantage.\", \"score\": 0.90432173}, {\"title\": \"11 of the Smallest Mammals in the World - Treehugger\", \"url\": \"https://www.treehugger.com/smallest-mammals-in-the-world-4869326\", \"content\": \"There are many tiny shrews, but this pipsqueak takes the cake as the smallest. The Etruscan shrew is the smallest mammal in the world by mass. On average, it weighs less than .14 ounces and has a body length of about 1.57 inches.\\n\\nFor such a tiny animal, however, it has a huge appetite, typically eating about twice its own body weight every day.\\n\\n## Pygmy Jerboa [...] Merlin Tuttle's Bat Conservation\\n\\nThe bumblebee bat, also known as Kitti's hog-nosed bat, is the world's smallest bat and the mammal with the smallest skull size. Weighing around .07 ounces (less than a penny) and with a length of 1.14 inches, it's so small that you might confuse one for a bumblebee if it went buzzing by your ear in the night. [...] In some cases, smaller animals also have better reproductive efficiency and access to a wider variety of food. One study says small carnivores are better at responding to \\\"environmental emergencies\\\" than their larger counterparts.\\n\\nFons, R et al. Rates Of Rewarming, Heart And Respiratory Rates And Their Significance For Oxygen Transport During Arousal From Torpor In The Smallest Mammal, The Etruscan Shrew Suncus Etruscus. Journal Of Experimental Biology, 1997.\", \"score\": 0.8742601}]\n",
      "==================================\u001b[1m Ai Message \u001b[0m==================================\n",
      "\n",
      "The smallest mammal in the world is the Etruscan shrew, which weighs less than 0.14 ounces and has a body length of about 1.57 inches.\n"
     ]
    }
   ],
   "source": [
    "events = app.stream(None, config, stream_mode=\"values\")\n",
    "for event in events:\n",
    "    event[\"messages\"][-1].pretty_print()"
   ]
  }
 ],
 "metadata": {
  "kernelspec": {
   "display_name": "Agentic_AI 2.0",
   "language": "python",
   "name": "python3"
  },
  "language_info": {
   "codemirror_mode": {
    "name": "ipython",
    "version": 3
   },
   "file_extension": ".py",
   "mimetype": "text/x-python",
   "name": "python",
   "nbconvert_exporter": "python",
   "pygments_lexer": "ipython3",
   "version": "3.10.18"
  }
 },
 "nbformat": 4,
 "nbformat_minor": 5
}
