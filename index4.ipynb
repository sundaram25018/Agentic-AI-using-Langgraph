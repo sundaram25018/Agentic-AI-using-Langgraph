{
 "cells": [
  {
   "cell_type": "code",
   "execution_count": 2,
   "id": "62c72127",
   "metadata": {},
   "outputs": [
    {
     "data": {
      "text/plain": [
       "True"
      ]
     },
     "execution_count": 2,
     "metadata": {},
     "output_type": "execute_result"
    }
   ],
   "source": [
    "from langchain_google_genai import ChatGoogleGenerativeAI\n",
    "from langgraph.graph import StateGraph, START, END\n",
    "from typing import TypedDict\n",
    "from dotenv import load_dotenv\n",
    "import os\n",
    "load_dotenv()"
   ]
  },
  {
   "cell_type": "code",
   "execution_count": 3,
   "id": "c0fd062e",
   "metadata": {},
   "outputs": [],
   "source": [
    "llm = ChatGoogleGenerativeAI(model=\"gemini-1.5-flash\",temperature=0.1)"
   ]
  },
  {
   "cell_type": "code",
   "execution_count": 4,
   "id": "599dd0f5",
   "metadata": {},
   "outputs": [],
   "source": [
    "class BlogState(TypedDict):\n",
    "    title: str\n",
    "    outline: str\n",
    "    content: str"
   ]
  },
  {
   "cell_type": "code",
   "execution_count": 5,
   "id": "e2531f56",
   "metadata": {},
   "outputs": [],
   "source": [
    "def create_outine(state: BlogState) -> BlogState:\n",
    "    title = state['title']\n",
    "    prompt = f\"Create an outline for a blog post titled {title}\"\n",
    "    outline = llm.invoke(prompt).content\n",
    "    state['outline'] = outline\n",
    "    return state"
   ]
  },
  {
   "cell_type": "code",
   "execution_count": 6,
   "id": "e6bfd892",
   "metadata": {},
   "outputs": [],
   "source": [
    "def Create_blog(state: BlogState) -> BlogState:\n",
    "    title = state['title']\n",
    "    outline = state['outline']\n",
    "    prompt = f\"Create a blog post titled {title} with the following outline: {outline}\"\n",
    "    content = llm.invoke(prompt).content\n",
    "    state['content'] = content\n",
    "    return state"
   ]
  },
  {
   "cell_type": "code",
   "execution_count": 7,
   "id": "f010330d",
   "metadata": {},
   "outputs": [],
   "source": [
    "graph = StateGraph(BlogState)\n",
    "graph.add_node(\"create_outine\",create_outine)\n",
    "graph.add_node(\"Create_blog\",Create_blog)\n",
    "graph.add_edge(START, \"create_outine\")\n",
    "graph.add_edge(\"create_outine\", \"Create_blog\")\n",
    "graph.add_edge(\"Create_blog\", END)\n",
    "app = graph.compile()"
   ]
  },
  {
   "cell_type": "code",
   "execution_count": 8,
   "id": "5bc38f18",
   "metadata": {},
   "outputs": [
    {
     "data": {
      "image/png": "[encoded data removed]",
      "text/plain": [
       "<IPython.core.display.Image object>"
      ]
     },
     "metadata": {},
     "output_type": "display_data"
    }
   ],
   "source": [
    "from IPython.display import display, Image\n",
    "display(Image(app.get_graph().draw_mermaid_png()))"
   ]
  },
  {
   "cell_type": "code",
   "execution_count": 9,
   "id": "f8c12751",
   "metadata": {},
   "outputs": [
    {
     "name": "stdout",
     "output_type": "stream",
     "text": [
      "# Rise of AI in the World\n",
      "\n",
      "**I. Introduction**\n",
      "\n",
      "Venture capital investments in artificial intelligence (AI) surged past $90 billion in 2022, a testament to its explosive growth and transformative potential.  AI, encompassing technologies like machine learning, deep learning, and natural language processing, is rapidly changing how we live, work, and interact with the world.  These technologies enable computers to learn from data, make decisions, and even mimic human-like intelligence. This post argues that AI's rapid advancement is profoundly reshaping our world, presenting both incredible opportunities and significant challenges.\n",
      "\n",
      "\n",
      "**II. AI's Impact Across Industries**\n",
      "\n",
      "AI's influence spans numerous sectors, revolutionizing processes and creating new possibilities.  In **healthcare**, AI-powered diagnostic tools analyze medical images with remarkable accuracy, accelerating diagnosis and improving treatment outcomes.  Drug discovery is also being accelerated through AI's ability to analyze vast datasets and identify potential drug candidates.  However, concerns around data privacy and the potential displacement of medical professionals remain.\n",
      "\n",
      "The **finance** industry leverages AI for fraud detection, algorithmic trading, and risk assessment, boosting efficiency and profitability.  Chatbots provide 24/7 customer service, enhancing user experience.  Yet, the risk of algorithmic bias leading to unfair lending practices and the potential for market instability due to automated trading strategies are significant concerns.\n",
      "\n",
      "**Transportation** is undergoing a dramatic shift with the rise of self-driving cars and drone delivery systems.  These technologies promise increased safety and efficiency, but ethical dilemmas surrounding accidents and regulatory frameworks need careful consideration.  Similarly, AI-powered traffic optimization systems aim to reduce congestion, but their implementation requires robust infrastructure and data management.\n",
      "\n",
      "In **manufacturing**, AI drives automation, predictive maintenance, and quality control, leading to increased productivity and reduced downtime.  However, the potential for widespread job displacement necessitates proactive reskilling and upskilling initiatives to prepare the workforce for the changing landscape.\n",
      "\n",
      "\n",
      "**III. Ethical and Societal Implications**\n",
      "\n",
      "The rapid advancement of AI raises crucial ethical and societal questions.  Widespread **job displacement** is a major concern, requiring governments and businesses to invest in retraining programs and explore new economic models.  **Algorithmic bias**, stemming from biased data used to train AI systems, can perpetuate and amplify existing societal inequalities, leading to discriminatory outcomes in areas like loan applications or criminal justice.  For example, facial recognition systems have been shown to be less accurate for people with darker skin tones.\n",
      "\n",
      "**Privacy concerns** are paramount, as AI systems often rely on vast amounts of personal data.  Ensuring responsible data collection, storage, and usage is crucial to prevent misuse and protect individual rights.  The development of **autonomous weapons** raises serious ethical and security concerns, prompting calls for international regulations to prevent an AI arms race.  Finally, the need for robust **regulation and governance** of AI is undeniable.  Ethical guidelines and regulations are essential to ensure responsible AI development and deployment, mitigating potential risks and maximizing benefits.\n",
      "\n",
      "\n",
      "**IV. The Future of AI**\n",
      "\n",
      "Emerging trends in AI include the pursuit of **general AI**, systems with human-level intelligence, and the potential impact of **quantum computing** on AI's processing power.  Significant advancements are expected in areas like personalized medicine, climate change modeling, and materials science.  However, challenges remain, including addressing algorithmic bias, ensuring data privacy, and mitigating the risks of job displacement and autonomous weapons.\n",
      "\n",
      "\n",
      "**V. Conclusion**\n",
      "\n",
      "AI's transformative impact on our world is undeniable, presenting both immense opportunities and significant challenges.  Its rapid advancement necessitates proactive measures to address ethical concerns, ensure responsible development, and prepare for a future shaped by intelligent machines.  The future of AI hinges on our ability to harness its potential for good while mitigating its risks through collaboration, responsible innovation, and thoughtful regulation.  Let's engage in a continued dialogue to shape a future where AI benefits all of humanity.  Learn more about AI ethics at [link to relevant resource].\n"
     ]
    }
   ],
   "source": [
    "intial_state = {\"title\":\"Rise of AI in the world\"}\n",
    "final_state = app.invoke(intial_state)\n",
    "print(final_state['content'])"
   ]
  },
  {
   "cell_type": "code",
   "execution_count": 10,
   "id": "6f89f624",
   "metadata": {},
   "outputs": [
    {
     "name": "stdout",
     "output_type": "stream",
     "text": [
      "## Blog Post Outline: Rise of AI in the World\n",
      "\n",
      "**I. Introduction (approx. 100 words)**\n",
      "\n",
      "*   Hook: Start with a compelling statistic or anecdote showcasing AI's impact.  (e.g.,  the rapid growth of AI investments, a specific AI application changing a field, etc.)\n",
      "*   Brief definition of AI and its key capabilities (machine learning, deep learning, natural language processing, etc.). Avoid overly technical jargon.\n",
      "*   Thesis statement: Briefly state the main argument – that AI is rapidly transforming the world and its impact is both profound and multifaceted.\n",
      "\n",
      "\n",
      "**II.  AI's Impact Across Industries (approx. 300 words)**\n",
      "\n",
      "*   **A. Healthcare:**  Examples: AI-powered diagnostics, drug discovery, personalized medicine, robotic surgery.  Mention both benefits (faster diagnosis, improved treatment) and potential drawbacks (data privacy, job displacement).\n",
      "*   **B. Finance:** Examples: Fraud detection, algorithmic trading, risk management, customer service chatbots.  Highlight efficiency gains and potential risks (algorithmic bias, market instability).\n",
      "*   **C. Transportation:** Examples: Self-driving cars, traffic optimization, drone delivery. Discuss the potential for increased safety and efficiency, as well as ethical and regulatory challenges.\n",
      "*   **D. Manufacturing:** Examples: Automation, predictive maintenance, quality control.  Focus on increased productivity and potential job displacement.  (Consider mentioning reskilling/upskilling initiatives).\n",
      "\n",
      "\n",
      "**III.  Ethical and Societal Implications (approx. 250 words)**\n",
      "\n",
      "*   **A. Job displacement:** Discuss the potential for widespread job losses and the need for retraining and adaptation.\n",
      "*   **B. Algorithmic bias:** Explain how biases in data can lead to unfair or discriminatory outcomes. Provide examples.\n",
      "*   **C. Privacy concerns:** Address the ethical implications of AI's use of personal data.\n",
      "*   **D. Autonomous weapons:** Briefly discuss the potential dangers of AI-powered weaponry.\n",
      "*   **E.  Regulation and governance:**  Mention the need for responsible AI development and deployment, including ethical guidelines and regulations.\n",
      "\n",
      "\n",
      "**IV. The Future of AI (approx. 150 words)**\n",
      "\n",
      "*   **A.  Emerging trends:** Briefly discuss promising areas of AI development (e.g.,  general AI, quantum computing's impact on AI).\n",
      "*   **B.  Potential breakthroughs:**  Mention areas where AI is expected to make significant advancements in the near future.\n",
      "*   **C.  Challenges ahead:**  Reiterate some of the ethical and societal challenges that need to be addressed.\n",
      "\n",
      "\n",
      "**V. Conclusion (approx. 100 words)**\n",
      "\n",
      "*   Restate the thesis in a new way, summarizing the key points.\n",
      "*   Offer a final thought-provoking statement about the future of AI and its impact on humanity.  (e.g.,  emphasize the importance of responsible innovation, the need for collaboration, or the potential for both immense benefit and significant risk).\n",
      "*   Call to action (optional): Encourage readers to learn more, share their thoughts, or engage in further discussion.\n",
      "\n",
      "\n",
      "**VI.  Optional additions:**\n",
      "\n",
      "*   Include relevant images, infographics, or videos to enhance the blog post.\n",
      "*   Add a section with links to further reading or resources.\n",
      "\n",
      "\n",
      "This outline provides a flexible framework.  You can adjust the length and focus of each section based on your specific goals and target audience. Remember to maintain a clear, concise, and engaging writing style throughout the post.\n"
     ]
    }
   ],
   "source": [
    "print(final_state['outline'])"
   ]
  }
 ],
 "metadata": {
  "kernelspec": {
   "display_name": "Agentic_AI 2.0",
   "language": "python",
   "name": "python3"
  },
  "language_info": {
   "codemirror_mode": {
    "name": "ipython",
    "version": 3
   },
   "file_extension": ".py",
   "mimetype": "text/x-python",
   "name": "python",
   "nbconvert_exporter": "python",
   "pygments_lexer": "ipython3",
   "version": "3.10.18"
  }
 },
 "nbformat": 4,
 "nbformat_minor": 5
}
