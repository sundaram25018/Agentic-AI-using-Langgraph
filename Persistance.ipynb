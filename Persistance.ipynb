{
 "cells": [
  {
   "cell_type": "code",
   "execution_count": 3,
   "id": "ef63f730",
   "metadata": {},
   "outputs": [],
   "source": [
    "from langgraph.graph import StateGraph, START, END\n",
    "from typing import TypedDict\n",
    "from langchain_google_genai import GoogleGenerativeAI\n",
    "from dotenv import load_dotenv\n",
    "from langgraph.checkpoint.memory import InMemorySaver"
   ]
  },
  {
   "cell_type": "code",
   "execution_count": 4,
   "id": "a61702c5",
   "metadata": {},
   "outputs": [],
   "source": [
    "load_dotenv()\n",
    "\n",
    "llm = GoogleGenerativeAI(\n",
    "    model=\"gemini-1.5-flash\")"
   ]
  },
  {
   "cell_type": "code",
   "execution_count": 5,
   "id": "c79275b4",
   "metadata": {},
   "outputs": [],
   "source": [
    "class JokeState(TypedDict):\n",
    "\n",
    "    topic: str\n",
    "    joke: str\n",
    "    explanation: str"
   ]
  },
  {
   "cell_type": "code",
   "execution_count": 6,
   "id": "c4953625",
   "metadata": {},
   "outputs": [],
   "source": [
    "def generate_joke(state: JokeState):\n",
    "\n",
    "    prompt = f'generate a joke on the topic {state[\"topic\"]}'\n",
    "    response = llm.invoke(prompt)\n",
    "\n",
    "    return {'joke': response}\n",
    "\n",
    "def generate_explanation(state: JokeState):\n",
    "\n",
    "    prompt = f'write an explanation for the joke - {state[\"joke\"]}'\n",
    "    response = llm.invoke(prompt)\n",
    "\n",
    "    return {'explanation': response}"
   ]
  },
  {
   "cell_type": "code",
   "execution_count": 7,
   "id": "09cfda7a",
   "metadata": {},
   "outputs": [],
   "source": [
    "graph = StateGraph(JokeState)\n",
    "\n",
    "graph.add_node('generate_joke', generate_joke)\n",
    "graph.add_node('generate_explanation', generate_explanation)\n",
    "\n",
    "graph.add_edge(START, 'generate_joke')\n",
    "graph.add_edge('generate_joke', 'generate_explanation')\n",
    "graph.add_edge('generate_explanation', END)\n",
    "\n",
    "checkpointer = InMemorySaver()\n",
    "\n",
    "workflow = graph.compile(checkpointer=checkpointer)"
   ]
  },
  {
   "cell_type": "code",
   "execution_count": 8,
   "id": "4c9fb0be",
   "metadata": {},
   "outputs": [
    {
     "data": {
      "text/plain": [
       "{'topic': 'pizza',\n",
       " 'joke': \"Why does the pizza slice like the mushroom so much?\\n\\nBecause he's a fungi!\",\n",
       " 'explanation': 'This is a pun, relying on the similar sound of \"fun guy\" and \"fungi.\"\\n\\n* **\"Fun guy\"** is a slang term for a fun person.\\n\\n* **\"Fungi\"** is the plural of \"fungus,\" a type of organism including mushrooms.\\n\\nThe joke plays on the double meaning of \"fungi.\"  The pizza slice, liking the mushroom, is implying it enjoys the company of a \"fun guy,\" but the word \"fungi\" is used instead to create the humorous twist.'}"
      ]
     },
     "execution_count": 8,
     "metadata": {},
     "output_type": "execute_result"
    }
   ],
   "source": [
    "config1 = {\"configurable\": {\"thread_id\": \"1\"}}\n",
    "workflow.invoke({'topic':'pizza'}, config=config1)"
   ]
  },
  {
   "cell_type": "code",
   "execution_count": 9,
   "id": "3fcea07e",
   "metadata": {},
   "outputs": [
    {
     "data": {
      "text/plain": [
       "StateSnapshot(values={'topic': 'pizza', 'joke': \"Why does the pizza slice like the mushroom so much?\\n\\nBecause he's a fungi!\", 'explanation': 'This is a pun, relying on the similar sound of \"fun guy\" and \"fungi.\"\\n\\n* **\"Fun guy\"** is a slang term for a fun person.\\n\\n* **\"Fungi\"** is the plural of \"fungus,\" a type of organism including mushrooms.\\n\\nThe joke plays on the double meaning of \"fungi.\"  The pizza slice, liking the mushroom, is implying it enjoys the company of a \"fun guy,\" but the word \"fungi\" is used instead to create the humorous twist.'}, next=(), config={'configurable': {'thread_id': '1', 'checkpoint_ns': '', 'checkpoint_id': '1f06ddd3-628d-6db1-8002-7d1fe05604ad'}}, metadata={'source': 'loop', 'step': 2, 'parents': {}, 'thread_id': '1'}, created_at='2025-07-31T07:08:51.233323+00:00', parent_config={'configurable': {'thread_id': '1', 'checkpoint_ns': '', 'checkpoint_id': '1f06ddd3-55f7-640a-8001-1939c2a9ec76'}}, tasks=(), interrupts=())"
      ]
     },
     "execution_count": 9,
     "metadata": {},
     "output_type": "execute_result"
    }
   ],
   "source": [
    "workflow.get_state(config1)"
   ]
  },
  {
   "cell_type": "code",
   "execution_count": 10,
   "id": "515885f2",
   "metadata": {},
   "outputs": [
    {
     "data": {
      "text/plain": [
       "[StateSnapshot(values={'topic': 'pizza', 'joke': \"Why does the pizza slice like the mushroom so much?\\n\\nBecause he's a fungi!\", 'explanation': 'This is a pun, relying on the similar sound of \"fun guy\" and \"fungi.\"\\n\\n* **\"Fun guy\"** is a slang term for a fun person.\\n\\n* **\"Fungi\"** is the plural of \"fungus,\" a type of organism including mushrooms.\\n\\nThe joke plays on the double meaning of \"fungi.\"  The pizza slice, liking the mushroom, is implying it enjoys the company of a \"fun guy,\" but the word \"fungi\" is used instead to create the humorous twist.'}, next=(), config={'configurable': {'thread_id': '1', 'checkpoint_ns': '', 'checkpoint_id': '1f06ddd3-628d-6db1-8002-7d1fe05604ad'}}, metadata={'source': 'loop', 'step': 2, 'parents': {}, 'thread_id': '1'}, created_at='2025-07-31T07:08:51.233323+00:00', parent_config={'configurable': {'thread_id': '1', 'checkpoint_ns': '', 'checkpoint_id': '1f06ddd3-55f7-640a-8001-1939c2a9ec76'}}, tasks=(), interrupts=()),\n",
       " StateSnapshot(values={'topic': 'pizza', 'joke': \"Why does the pizza slice like the mushroom so much?\\n\\nBecause he's a fungi!\"}, next=('generate_explanation',), config={'configurable': {'thread_id': '1', 'checkpoint_ns': '', 'checkpoint_id': '1f06ddd3-55f7-640a-8001-1939c2a9ec76'}}, metadata={'source': 'loop', 'step': 1, 'parents': {}, 'thread_id': '1'}, created_at='2025-07-31T07:08:49.913345+00:00', parent_config={'configurable': {'thread_id': '1', 'checkpoint_ns': '', 'checkpoint_id': '1f06ddd3-4720-65e6-8000-0ff87eda1190'}}, tasks=(PregelTask(id='6b2d29cc-54f2-89d4-40ba-84c46d8a8c4d', name='generate_explanation', path=('__pregel_pull', 'generate_explanation'), error=None, interrupts=(), state=None, result={'explanation': 'This is a pun, relying on the similar sound of \"fun guy\" and \"fungi.\"\\n\\n* **\"Fun guy\"** is a slang term for a fun person.\\n\\n* **\"Fungi\"** is the plural of \"fungus,\" a type of organism including mushrooms.\\n\\nThe joke plays on the double meaning of \"fungi.\"  The pizza slice, liking the mushroom, is implying it enjoys the company of a \"fun guy,\" but the word \"fungi\" is used instead to create the humorous twist.'}),), interrupts=()),\n",
       " StateSnapshot(values={'topic': 'pizza'}, next=('generate_joke',), config={'configurable': {'thread_id': '1', 'checkpoint_ns': '', 'checkpoint_id': '1f06ddd3-4720-65e6-8000-0ff87eda1190'}}, metadata={'source': 'loop', 'step': 0, 'parents': {}, 'thread_id': '1'}, created_at='2025-07-31T07:08:48.357322+00:00', parent_config={'configurable': {'thread_id': '1', 'checkpoint_ns': '', 'checkpoint_id': '1f06ddd3-471c-6e7d-bfff-fa23ee2515ce'}}, tasks=(PregelTask(id='2f0e3566-f8fe-6c84-bc92-f348b7b008de', name='generate_joke', path=('__pregel_pull', 'generate_joke'), error=None, interrupts=(), state=None, result={'joke': \"Why does the pizza slice like the mushroom so much?\\n\\nBecause he's a fungi!\"}),), interrupts=()),\n",
       " StateSnapshot(values={}, next=('__start__',), config={'configurable': {'thread_id': '1', 'checkpoint_ns': '', 'checkpoint_id': '1f06ddd3-471c-6e7d-bfff-fa23ee2515ce'}}, metadata={'source': 'input', 'step': -1, 'parents': {}, 'thread_id': '1'}, created_at='2025-07-31T07:08:48.354904+00:00', parent_config=None, tasks=(PregelTask(id='ebcc3255-67f0-cc40-2be4-5ead2b722c87', name='__start__', path=('__pregel_pull', '__start__'), error=None, interrupts=(), state=None, result={'topic': 'pizza'}),), interrupts=())]"
      ]
     },
     "execution_count": 10,
     "metadata": {},
     "output_type": "execute_result"
    }
   ],
   "source": [
    "list(workflow.get_state_history(config1))"
   ]
  },
  {
   "cell_type": "code",
   "execution_count": 11,
   "id": "c1db7fcb",
   "metadata": {},
   "outputs": [
    {
     "data": {
      "text/plain": [
       "{'topic': 'pasta',\n",
       " 'joke': \"Why did the Italian chef quit his job?  Because he didn't get enough *pasta*bilities!\",\n",
       " 'explanation': 'The joke plays on the double meaning of \"pasta-bilities.\"\\n\\n* **Pasta:**  Refers to the Italian food.\\n* **Possibilities:** Refers to opportunities or chances.\\n\\nThe chef quit because he felt his job didn\\'t offer him enough opportunities for growth, creativity, or advancement.  The pun uses the similar-sounding word \"pasta\" to create a humorous and unexpected twist on the typical reason for quitting a job.'}"
      ]
     },
     "execution_count": 11,
     "metadata": {},
     "output_type": "execute_result"
    }
   ],
   "source": [
    "config2 = {\"configurable\": {\"thread_id\": \"2\"}}\n",
    "workflow.invoke({'topic':'pasta'}, config=config2)"
   ]
  },
  {
   "cell_type": "code",
   "execution_count": 12,
   "id": "4abc0ed3",
   "metadata": {},
   "outputs": [
    {
     "data": {
      "text/plain": [
       "StateSnapshot(values={'topic': 'pizza', 'joke': \"Why does the pizza slice like the mushroom so much?\\n\\nBecause he's a fungi!\", 'explanation': 'This is a pun, relying on the similar sound of \"fun guy\" and \"fungi.\"\\n\\n* **\"Fun guy\"** is a slang term for a fun person.\\n\\n* **\"Fungi\"** is the plural of \"fungus,\" a type of organism including mushrooms.\\n\\nThe joke plays on the double meaning of \"fungi.\"  The pizza slice, liking the mushroom, is implying it enjoys the company of a \"fun guy,\" but the word \"fungi\" is used instead to create the humorous twist.'}, next=(), config={'configurable': {'thread_id': '1', 'checkpoint_ns': '', 'checkpoint_id': '1f06ddd3-628d-6db1-8002-7d1fe05604ad'}}, metadata={'source': 'loop', 'step': 2, 'parents': {}, 'thread_id': '1'}, created_at='2025-07-31T07:08:51.233323+00:00', parent_config={'configurable': {'thread_id': '1', 'checkpoint_ns': '', 'checkpoint_id': '1f06ddd3-55f7-640a-8001-1939c2a9ec76'}}, tasks=(), interrupts=())"
      ]
     },
     "execution_count": 12,
     "metadata": {},
     "output_type": "execute_result"
    }
   ],
   "source": [
    "workflow.get_state(config1)"
   ]
  },
  {
   "cell_type": "code",
   "execution_count": 13,
   "id": "0c5afd4e",
   "metadata": {},
   "outputs": [
    {
     "data": {
      "text/plain": [
       "[StateSnapshot(values={'topic': 'pizza', 'joke': \"Why does the pizza slice like the mushroom so much?\\n\\nBecause he's a fungi!\", 'explanation': 'This is a pun, relying on the similar sound of \"fun guy\" and \"fungi.\"\\n\\n* **\"Fun guy\"** is a slang term for a fun person.\\n\\n* **\"Fungi\"** is the plural of \"fungus,\" a type of organism including mushrooms.\\n\\nThe joke plays on the double meaning of \"fungi.\"  The pizza slice, liking the mushroom, is implying it enjoys the company of a \"fun guy,\" but the word \"fungi\" is used instead to create the humorous twist.'}, next=(), config={'configurable': {'thread_id': '1', 'checkpoint_ns': '', 'checkpoint_id': '1f06ddd3-628d-6db1-8002-7d1fe05604ad'}}, metadata={'source': 'loop', 'step': 2, 'parents': {}, 'thread_id': '1'}, created_at='2025-07-31T07:08:51.233323+00:00', parent_config={'configurable': {'thread_id': '1', 'checkpoint_ns': '', 'checkpoint_id': '1f06ddd3-55f7-640a-8001-1939c2a9ec76'}}, tasks=(), interrupts=()),\n",
       " StateSnapshot(values={'topic': 'pizza', 'joke': \"Why does the pizza slice like the mushroom so much?\\n\\nBecause he's a fungi!\"}, next=('generate_explanation',), config={'configurable': {'thread_id': '1', 'checkpoint_ns': '', 'checkpoint_id': '1f06ddd3-55f7-640a-8001-1939c2a9ec76'}}, metadata={'source': 'loop', 'step': 1, 'parents': {}, 'thread_id': '1'}, created_at='2025-07-31T07:08:49.913345+00:00', parent_config={'configurable': {'thread_id': '1', 'checkpoint_ns': '', 'checkpoint_id': '1f06ddd3-4720-65e6-8000-0ff87eda1190'}}, tasks=(PregelTask(id='6b2d29cc-54f2-89d4-40ba-84c46d8a8c4d', name='generate_explanation', path=('__pregel_pull', 'generate_explanation'), error=None, interrupts=(), state=None, result={'explanation': 'This is a pun, relying on the similar sound of \"fun guy\" and \"fungi.\"\\n\\n* **\"Fun guy\"** is a slang term for a fun person.\\n\\n* **\"Fungi\"** is the plural of \"fungus,\" a type of organism including mushrooms.\\n\\nThe joke plays on the double meaning of \"fungi.\"  The pizza slice, liking the mushroom, is implying it enjoys the company of a \"fun guy,\" but the word \"fungi\" is used instead to create the humorous twist.'}),), interrupts=()),\n",
       " StateSnapshot(values={'topic': 'pizza'}, next=('generate_joke',), config={'configurable': {'thread_id': '1', 'checkpoint_ns': '', 'checkpoint_id': '1f06ddd3-4720-65e6-8000-0ff87eda1190'}}, metadata={'source': 'loop', 'step': 0, 'parents': {}, 'thread_id': '1'}, created_at='2025-07-31T07:08:48.357322+00:00', parent_config={'configurable': {'thread_id': '1', 'checkpoint_ns': '', 'checkpoint_id': '1f06ddd3-471c-6e7d-bfff-fa23ee2515ce'}}, tasks=(PregelTask(id='2f0e3566-f8fe-6c84-bc92-f348b7b008de', name='generate_joke', path=('__pregel_pull', 'generate_joke'), error=None, interrupts=(), state=None, result={'joke': \"Why does the pizza slice like the mushroom so much?\\n\\nBecause he's a fungi!\"}),), interrupts=()),\n",
       " StateSnapshot(values={}, next=('__start__',), config={'configurable': {'thread_id': '1', 'checkpoint_ns': '', 'checkpoint_id': '1f06ddd3-471c-6e7d-bfff-fa23ee2515ce'}}, metadata={'source': 'input', 'step': -1, 'parents': {}, 'thread_id': '1'}, created_at='2025-07-31T07:08:48.354904+00:00', parent_config=None, tasks=(PregelTask(id='ebcc3255-67f0-cc40-2be4-5ead2b722c87', name='__start__', path=('__pregel_pull', '__start__'), error=None, interrupts=(), state=None, result={'topic': 'pizza'}),), interrupts=())]"
      ]
     },
     "execution_count": 13,
     "metadata": {},
     "output_type": "execute_result"
    }
   ],
   "source": [
    "list(workflow.get_state_history(config1))"
   ]
  },
  {
   "cell_type": "code",
   "execution_count": 14,
   "id": "7b011875",
   "metadata": {},
   "outputs": [
    {
     "data": {
      "text/plain": [
       "StateSnapshot(values={}, next=(), config={'configurable': {'thread_id': '1', 'checkpoint_id': '1f06dd99-8726-661f-8002-d9d79fa16348'}}, metadata=None, created_at=None, parent_config=None, tasks=(), interrupts=())"
      ]
     },
     "execution_count": 14,
     "metadata": {},
     "output_type": "execute_result"
    }
   ],
   "source": [
    "workflow.get_state({\"configurable\": {\"thread_id\": \"1\", \"checkpoint_id\": \"1f06dd99-8726-661f-8002-d9d79fa16348\"}})"
   ]
  },
  {
   "cell_type": "code",
   "execution_count": 15,
   "id": "18876d2b",
   "metadata": {},
   "outputs": [
    {
     "ename": "EmptyInputError",
     "evalue": "Received no input for __start__",
     "output_type": "error",
     "traceback": [
      "\u001b[1;31m---------------------------------------------------------------------------\u001b[0m",
      "\u001b[1;31mEmptyInputError\u001b[0m                           Traceback (most recent call last)",
      "Cell \u001b[1;32mIn[15], line 1\u001b[0m\n\u001b[1;32m----> 1\u001b[0m \u001b[43mworkflow\u001b[49m\u001b[38;5;241;43m.\u001b[39;49m\u001b[43minvoke\u001b[49m\u001b[43m(\u001b[49m\u001b[38;5;28;43;01mNone\u001b[39;49;00m\u001b[43m,\u001b[49m\u001b[43m \u001b[49m\u001b[43m{\u001b[49m\u001b[38;5;124;43m\"\u001b[39;49m\u001b[38;5;124;43mconfigurable\u001b[39;49m\u001b[38;5;124;43m\"\u001b[39;49m\u001b[43m:\u001b[49m\u001b[43m \u001b[49m\u001b[43m{\u001b[49m\u001b[38;5;124;43m\"\u001b[39;49m\u001b[38;5;124;43mthread_id\u001b[39;49m\u001b[38;5;124;43m\"\u001b[39;49m\u001b[43m:\u001b[49m\u001b[43m \u001b[49m\u001b[38;5;124;43m\"\u001b[39;49m\u001b[38;5;124;43m1\u001b[39;49m\u001b[38;5;124;43m\"\u001b[39;49m\u001b[43m,\u001b[49m\u001b[43m \u001b[49m\u001b[38;5;124;43m\"\u001b[39;49m\u001b[38;5;124;43mcheckpoint_id\u001b[39;49m\u001b[38;5;124;43m\"\u001b[39;49m\u001b[43m:\u001b[49m\u001b[43m \u001b[49m\u001b[38;5;124;43m\"\u001b[39;49m\u001b[38;5;124;43m1f06dd99-8726-661f-8002-d9d79fa16348\u001b[39;49m\u001b[38;5;124;43m\"\u001b[39;49m\u001b[43m}\u001b[49m\u001b[43m}\u001b[49m\u001b[43m)\u001b[49m\n",
      "File \u001b[1;32md:\\Agentic_AI 2.0\\.venv\\lib\\site-packages\\langgraph\\pregel\\__init__.py:2852\u001b[0m, in \u001b[0;36mPregel.invoke\u001b[1;34m(self, input, config, stream_mode, print_mode, output_keys, interrupt_before, interrupt_after, **kwargs)\u001b[0m\n\u001b[0;32m   2849\u001b[0m chunks: \u001b[38;5;28mlist\u001b[39m[\u001b[38;5;28mdict\u001b[39m[\u001b[38;5;28mstr\u001b[39m, Any] \u001b[38;5;241m|\u001b[39m Any] \u001b[38;5;241m=\u001b[39m []\n\u001b[0;32m   2850\u001b[0m interrupts: \u001b[38;5;28mlist\u001b[39m[Interrupt] \u001b[38;5;241m=\u001b[39m []\n\u001b[1;32m-> 2852\u001b[0m \u001b[38;5;28;01mfor\u001b[39;00m chunk \u001b[38;5;129;01min\u001b[39;00m \u001b[38;5;28mself\u001b[39m\u001b[38;5;241m.\u001b[39mstream(\n\u001b[0;32m   2853\u001b[0m     \u001b[38;5;28minput\u001b[39m,\n\u001b[0;32m   2854\u001b[0m     config,\n\u001b[0;32m   2855\u001b[0m     stream_mode\u001b[38;5;241m=\u001b[39m[\u001b[38;5;124m\"\u001b[39m\u001b[38;5;124mupdates\u001b[39m\u001b[38;5;124m\"\u001b[39m, \u001b[38;5;124m\"\u001b[39m\u001b[38;5;124mvalues\u001b[39m\u001b[38;5;124m\"\u001b[39m]\n\u001b[0;32m   2856\u001b[0m     \u001b[38;5;28;01mif\u001b[39;00m stream_mode \u001b[38;5;241m==\u001b[39m \u001b[38;5;124m\"\u001b[39m\u001b[38;5;124mvalues\u001b[39m\u001b[38;5;124m\"\u001b[39m\n\u001b[0;32m   2857\u001b[0m     \u001b[38;5;28;01melse\u001b[39;00m stream_mode,\n\u001b[0;32m   2858\u001b[0m     print_mode\u001b[38;5;241m=\u001b[39mprint_mode,\n\u001b[0;32m   2859\u001b[0m     output_keys\u001b[38;5;241m=\u001b[39moutput_keys,\n\u001b[0;32m   2860\u001b[0m     interrupt_before\u001b[38;5;241m=\u001b[39minterrupt_before,\n\u001b[0;32m   2861\u001b[0m     interrupt_after\u001b[38;5;241m=\u001b[39minterrupt_after,\n\u001b[0;32m   2862\u001b[0m     \u001b[38;5;241m*\u001b[39m\u001b[38;5;241m*\u001b[39mkwargs,\n\u001b[0;32m   2863\u001b[0m ):\n\u001b[0;32m   2864\u001b[0m     \u001b[38;5;28;01mif\u001b[39;00m stream_mode \u001b[38;5;241m==\u001b[39m \u001b[38;5;124m\"\u001b[39m\u001b[38;5;124mvalues\u001b[39m\u001b[38;5;124m\"\u001b[39m:\n\u001b[0;32m   2865\u001b[0m         \u001b[38;5;28;01mif\u001b[39;00m \u001b[38;5;28mlen\u001b[39m(chunk) \u001b[38;5;241m==\u001b[39m \u001b[38;5;241m2\u001b[39m:\n",
      "File \u001b[1;32md:\\Agentic_AI 2.0\\.venv\\lib\\site-packages\\langgraph\\pregel\\__init__.py:2475\u001b[0m, in \u001b[0;36mPregel.stream\u001b[1;34m(self, input, config, stream_mode, print_mode, output_keys, interrupt_before, interrupt_after, checkpoint_during, debug, subgraphs)\u001b[0m\n\u001b[0;32m   2473\u001b[0m \u001b[38;5;28;01mif\u001b[39;00m checkpoint_during \u001b[38;5;129;01mis\u001b[39;00m \u001b[38;5;129;01mnot\u001b[39;00m \u001b[38;5;28;01mNone\u001b[39;00m:\n\u001b[0;32m   2474\u001b[0m     config[CONF][CONFIG_KEY_CHECKPOINT_DURING] \u001b[38;5;241m=\u001b[39m checkpoint_during\n\u001b[1;32m-> 2475\u001b[0m \u001b[38;5;28;01mwith\u001b[39;00m SyncPregelLoop(\n\u001b[0;32m   2476\u001b[0m     \u001b[38;5;28minput\u001b[39m,\n\u001b[0;32m   2477\u001b[0m     stream\u001b[38;5;241m=\u001b[39mStreamProtocol(stream\u001b[38;5;241m.\u001b[39mput, stream_modes),\n\u001b[0;32m   2478\u001b[0m     config\u001b[38;5;241m=\u001b[39mconfig,\n\u001b[0;32m   2479\u001b[0m     store\u001b[38;5;241m=\u001b[39mstore,\n\u001b[0;32m   2480\u001b[0m     cache\u001b[38;5;241m=\u001b[39mcache,\n\u001b[0;32m   2481\u001b[0m     checkpointer\u001b[38;5;241m=\u001b[39mcheckpointer,\n\u001b[0;32m   2482\u001b[0m     nodes\u001b[38;5;241m=\u001b[39m\u001b[38;5;28mself\u001b[39m\u001b[38;5;241m.\u001b[39mnodes,\n\u001b[0;32m   2483\u001b[0m     specs\u001b[38;5;241m=\u001b[39m\u001b[38;5;28mself\u001b[39m\u001b[38;5;241m.\u001b[39mchannels,\n\u001b[0;32m   2484\u001b[0m     output_keys\u001b[38;5;241m=\u001b[39moutput_keys,\n\u001b[0;32m   2485\u001b[0m     input_keys\u001b[38;5;241m=\u001b[39m\u001b[38;5;28mself\u001b[39m\u001b[38;5;241m.\u001b[39minput_channels,\n\u001b[0;32m   2486\u001b[0m     stream_keys\u001b[38;5;241m=\u001b[39m\u001b[38;5;28mself\u001b[39m\u001b[38;5;241m.\u001b[39mstream_channels_asis,\n\u001b[0;32m   2487\u001b[0m     interrupt_before\u001b[38;5;241m=\u001b[39minterrupt_before_,\n\u001b[0;32m   2488\u001b[0m     interrupt_after\u001b[38;5;241m=\u001b[39minterrupt_after_,\n\u001b[0;32m   2489\u001b[0m     manager\u001b[38;5;241m=\u001b[39mrun_manager,\n\u001b[0;32m   2490\u001b[0m     checkpoint_during\u001b[38;5;241m=\u001b[39mcheckpoint_during\n\u001b[0;32m   2491\u001b[0m     \u001b[38;5;28;01mif\u001b[39;00m checkpoint_during \u001b[38;5;129;01mis\u001b[39;00m \u001b[38;5;129;01mnot\u001b[39;00m \u001b[38;5;28;01mNone\u001b[39;00m\n\u001b[0;32m   2492\u001b[0m     \u001b[38;5;28;01melse\u001b[39;00m config[CONF]\u001b[38;5;241m.\u001b[39mget(CONFIG_KEY_CHECKPOINT_DURING, \u001b[38;5;28;01mTrue\u001b[39;00m),\n\u001b[0;32m   2493\u001b[0m     trigger_to_nodes\u001b[38;5;241m=\u001b[39m\u001b[38;5;28mself\u001b[39m\u001b[38;5;241m.\u001b[39mtrigger_to_nodes,\n\u001b[0;32m   2494\u001b[0m     migrate_checkpoint\u001b[38;5;241m=\u001b[39m\u001b[38;5;28mself\u001b[39m\u001b[38;5;241m.\u001b[39m_migrate_checkpoint,\n\u001b[0;32m   2495\u001b[0m     retry_policy\u001b[38;5;241m=\u001b[39m\u001b[38;5;28mself\u001b[39m\u001b[38;5;241m.\u001b[39mretry_policy,\n\u001b[0;32m   2496\u001b[0m     cache_policy\u001b[38;5;241m=\u001b[39m\u001b[38;5;28mself\u001b[39m\u001b[38;5;241m.\u001b[39mcache_policy,\n\u001b[0;32m   2497\u001b[0m ) \u001b[38;5;28;01mas\u001b[39;00m loop:\n\u001b[0;32m   2498\u001b[0m     \u001b[38;5;66;03m# create runner\u001b[39;00m\n\u001b[0;32m   2499\u001b[0m     runner \u001b[38;5;241m=\u001b[39m PregelRunner(\n\u001b[0;32m   2500\u001b[0m         submit\u001b[38;5;241m=\u001b[39mconfig[CONF]\u001b[38;5;241m.\u001b[39mget(\n\u001b[0;32m   2501\u001b[0m             CONFIG_KEY_RUNNER_SUBMIT, weakref\u001b[38;5;241m.\u001b[39mWeakMethod(loop\u001b[38;5;241m.\u001b[39msubmit)\n\u001b[1;32m   (...)\u001b[0m\n\u001b[0;32m   2504\u001b[0m         node_finished\u001b[38;5;241m=\u001b[39mconfig[CONF]\u001b[38;5;241m.\u001b[39mget(CONFIG_KEY_NODE_FINISHED),\n\u001b[0;32m   2505\u001b[0m     )\n\u001b[0;32m   2506\u001b[0m     \u001b[38;5;66;03m# enable subgraph streaming\u001b[39;00m\n",
      "File \u001b[1;32md:\\Agentic_AI 2.0\\.venv\\lib\\site-packages\\langgraph\\pregel\\loop.py:1040\u001b[0m, in \u001b[0;36mSyncPregelLoop.__enter__\u001b[1;34m(self)\u001b[0m\n\u001b[0;32m   1038\u001b[0m \u001b[38;5;28mself\u001b[39m\u001b[38;5;241m.\u001b[39mstop \u001b[38;5;241m=\u001b[39m \u001b[38;5;28mself\u001b[39m\u001b[38;5;241m.\u001b[39mstep \u001b[38;5;241m+\u001b[39m \u001b[38;5;28mself\u001b[39m\u001b[38;5;241m.\u001b[39mconfig[\u001b[38;5;124m\"\u001b[39m\u001b[38;5;124mrecursion_limit\u001b[39m\u001b[38;5;124m\"\u001b[39m] \u001b[38;5;241m+\u001b[39m \u001b[38;5;241m1\u001b[39m\n\u001b[0;32m   1039\u001b[0m \u001b[38;5;28mself\u001b[39m\u001b[38;5;241m.\u001b[39mcheckpoint_previous_versions \u001b[38;5;241m=\u001b[39m \u001b[38;5;28mself\u001b[39m\u001b[38;5;241m.\u001b[39mcheckpoint[\u001b[38;5;124m\"\u001b[39m\u001b[38;5;124mchannel_versions\u001b[39m\u001b[38;5;124m\"\u001b[39m]\u001b[38;5;241m.\u001b[39mcopy()\n\u001b[1;32m-> 1040\u001b[0m \u001b[38;5;28mself\u001b[39m\u001b[38;5;241m.\u001b[39mupdated_channels \u001b[38;5;241m=\u001b[39m \u001b[38;5;28;43mself\u001b[39;49m\u001b[38;5;241;43m.\u001b[39;49m\u001b[43m_first\u001b[49m\u001b[43m(\u001b[49m\u001b[43minput_keys\u001b[49m\u001b[38;5;241;43m=\u001b[39;49m\u001b[38;5;28;43mself\u001b[39;49m\u001b[38;5;241;43m.\u001b[39;49m\u001b[43minput_keys\u001b[49m\u001b[43m)\u001b[49m\n\u001b[0;32m   1042\u001b[0m \u001b[38;5;28;01mreturn\u001b[39;00m \u001b[38;5;28mself\u001b[39m\n",
      "File \u001b[1;32md:\\Agentic_AI 2.0\\.venv\\lib\\site-packages\\langgraph\\pregel\\loop.py:667\u001b[0m, in \u001b[0;36mPregelLoop._first\u001b[1;34m(self, input_keys)\u001b[0m\n\u001b[0;32m    665\u001b[0m     \u001b[38;5;28mself\u001b[39m\u001b[38;5;241m.\u001b[39m_put_checkpoint({\u001b[38;5;124m\"\u001b[39m\u001b[38;5;124msource\u001b[39m\u001b[38;5;124m\"\u001b[39m: \u001b[38;5;124m\"\u001b[39m\u001b[38;5;124minput\u001b[39m\u001b[38;5;124m\"\u001b[39m})\n\u001b[0;32m    666\u001b[0m \u001b[38;5;28;01melif\u001b[39;00m CONFIG_KEY_RESUMING \u001b[38;5;129;01mnot\u001b[39;00m \u001b[38;5;129;01min\u001b[39;00m configurable:\n\u001b[1;32m--> 667\u001b[0m     \u001b[38;5;28;01mraise\u001b[39;00m EmptyInputError(\u001b[38;5;124mf\u001b[39m\u001b[38;5;124m\"\u001b[39m\u001b[38;5;124mReceived no input for \u001b[39m\u001b[38;5;132;01m{\u001b[39;00minput_keys\u001b[38;5;132;01m}\u001b[39;00m\u001b[38;5;124m\"\u001b[39m)\n\u001b[0;32m    668\u001b[0m \u001b[38;5;66;03m# update config\u001b[39;00m\n\u001b[0;32m    669\u001b[0m \u001b[38;5;28;01mif\u001b[39;00m \u001b[38;5;129;01mnot\u001b[39;00m \u001b[38;5;28mself\u001b[39m\u001b[38;5;241m.\u001b[39mis_nested:\n",
      "\u001b[1;31mEmptyInputError\u001b[0m: Received no input for __start__"
     ]
    }
   ],
   "source": [
    "workflow.invoke(None, {\"configurable\": {\"thread_id\": \"1\", \"checkpoint_id\": \"1f06dd99-8726-661f-8002-d9d79fa16348\"}})"
   ]
  },
  {
   "cell_type": "code",
   "execution_count": null,
   "id": "f336543a",
   "metadata": {},
   "outputs": [
    {
     "data": {
      "text/plain": [
       "[StateSnapshot(values={'topic': 'pizza', 'joke': \"Why does the pizza slice like the mushroom so much?\\n\\nBecause he's a fungi!\", 'explanation': 'This is a pun, relying on the similar sound of \"fun guy\" and \"fungi.\"\\n\\n* **\"Fun guy\"** is a slang term for a fun person.\\n* **\"Fungi\"** is the plural of \"fungus,\" a type of organism including mushrooms.\\n\\nThe joke plays on the double meaning of \"fungi.\"  The pizza slice, liking the mushroom, is said to like a \"fungi\" because the mushroom is a fungus, but also because the mushroom is a fun guy (a fun person, in this context).'}, next=(), config={'configurable': {'thread_id': '1', 'checkpoint_ns': '', 'checkpoint_id': '1f06dd99-8726-661f-8002-d9d79fa16348'}}, metadata={'source': 'loop', 'step': 2, 'parents': {}, 'thread_id': '1'}, created_at='2025-07-31T06:42:58.145027+00:00', parent_config={'configurable': {'thread_id': '1', 'checkpoint_ns': '', 'checkpoint_id': '1f06dd99-77f0-612a-8001-91cbc268bfde'}}, tasks=(), interrupts=()),\n",
       " StateSnapshot(values={'topic': 'pizza', 'joke': \"Why does the pizza slice like the mushroom so much?\\n\\nBecause he's a fungi!\"}, next=('generate_explanation',), config={'configurable': {'thread_id': '1', 'checkpoint_ns': '', 'checkpoint_id': '1f06dd99-77f0-612a-8001-91cbc268bfde'}}, metadata={'source': 'loop', 'step': 1, 'parents': {}, 'thread_id': '1'}, created_at='2025-07-31T06:42:56.549917+00:00', parent_config={'configurable': {'thread_id': '1', 'checkpoint_ns': '', 'checkpoint_id': '1f06dd99-6c61-660c-8000-5dd31b6fd02c'}}, tasks=(PregelTask(id='5fb4269e-a9d0-411e-58bb-50c8c9eab7bc', name='generate_explanation', path=('__pregel_pull', 'generate_explanation'), error=None, interrupts=(), state=None, result={'explanation': 'This is a pun, relying on the similar sound of \"fun guy\" and \"fungi.\"\\n\\n* **\"Fun guy\"** is a slang term for a fun person.\\n* **\"Fungi\"** is the plural of \"fungus,\" a type of organism including mushrooms.\\n\\nThe joke plays on the double meaning of \"fungi.\"  The pizza slice, liking the mushroom, is said to like a \"fungi\" because the mushroom is a fungus, but also because the mushroom is a fun guy (a fun person, in this context).'}),), interrupts=()),\n",
       " StateSnapshot(values={'topic': 'pizza'}, next=('generate_joke',), config={'configurable': {'thread_id': '1', 'checkpoint_ns': '', 'checkpoint_id': '1f06dd99-6c61-660c-8000-5dd31b6fd02c'}}, metadata={'source': 'loop', 'step': 0, 'parents': {}, 'thread_id': '1'}, created_at='2025-07-31T06:42:55.338036+00:00', parent_config={'configurable': {'thread_id': '1', 'checkpoint_ns': '', 'checkpoint_id': '1f06dd99-6c5e-6f06-bfff-713012a62d8f'}}, tasks=(PregelTask(id='1ff1c281-a924-d73c-f7b9-40216e5616a4', name='generate_joke', path=('__pregel_pull', 'generate_joke'), error=None, interrupts=(), state=None, result={'joke': \"Why does the pizza slice like the mushroom so much?\\n\\nBecause he's a fungi!\"}),), interrupts=()),\n",
       " StateSnapshot(values={}, next=('__start__',), config={'configurable': {'thread_id': '1', 'checkpoint_ns': '', 'checkpoint_id': '1f06dd99-6c5e-6f06-bfff-713012a62d8f'}}, metadata={'source': 'input', 'step': -1, 'parents': {}, 'thread_id': '1'}, created_at='2025-07-31T06:42:55.337037+00:00', parent_config=None, tasks=(PregelTask(id='878a198b-9d3d-9830-ac6a-85cfae401ce9', name='__start__', path=('__pregel_pull', '__start__'), error=None, interrupts=(), state=None, result={'topic': 'pizza'}),), interrupts=())]"
      ]
     },
     "execution_count": 18,
     "metadata": {},
     "output_type": "execute_result"
    }
   ],
   "source": [
    "list(workflow.get_state_history(config1))"
   ]
  },
  {
   "cell_type": "code",
   "execution_count": null,
   "id": "6e616335",
   "metadata": {},
   "outputs": [
    {
     "data": {
      "text/plain": [
       "{'configurable': {'thread_id': '1',\n",
       "  'checkpoint_ns': '',\n",
       "  'checkpoint_id': '1f06ddc6-b2da-6d35-8003-b4451e11bc55'}}"
      ]
     },
     "execution_count": 19,
     "metadata": {},
     "output_type": "execute_result"
    }
   ],
   "source": [
    "workflow.update_state({\"configurable\": {\"thread_id\": \"1\", \"checkpoint_id\": \"1f06dd99-8726-661f-8002-d9d79fa16348\", \"checkpoint_ns\": \"\"}}, {'topic':'samosa'})"
   ]
  },
  {
   "cell_type": "code",
   "execution_count": null,
   "id": "323dfdc5",
   "metadata": {},
   "outputs": [
    {
     "data": {
      "text/plain": [
       "[StateSnapshot(values={'topic': 'samosa', 'joke': \"Why does the pizza slice like the mushroom so much?\\n\\nBecause he's a fungi!\", 'explanation': 'This is a pun, relying on the similar sound of \"fun guy\" and \"fungi.\"\\n\\n* **\"Fun guy\"** is a slang term for a fun person.\\n* **\"Fungi\"** is the plural of \"fungus,\" a type of organism including mushrooms.\\n\\nThe joke plays on the double meaning of \"fungi.\"  The pizza slice, liking the mushroom, is said to like a \"fungi\" because the mushroom is a fungus, but also because the mushroom is a fun guy (a fun person, in this context).'}, next=(), config={'configurable': {'thread_id': '1', 'checkpoint_ns': '', 'checkpoint_id': '1f06ddc6-b2da-6d35-8003-b4451e11bc55'}}, metadata={'source': 'update', 'step': 3, 'parents': {}, 'thread_id': '1'}, created_at='2025-07-31T07:03:10.687365+00:00', parent_config={'configurable': {'thread_id': '1', 'checkpoint_ns': '', 'checkpoint_id': '1f06dd99-8726-661f-8002-d9d79fa16348'}}, tasks=(), interrupts=()),\n",
       " StateSnapshot(values={'topic': 'pizza', 'joke': \"Why does the pizza slice like the mushroom so much?\\n\\nBecause he's a fungi!\", 'explanation': 'This is a pun, relying on the similar sound of \"fun guy\" and \"fungi.\"\\n\\n* **\"Fun guy\"** is a slang term for a fun person.\\n* **\"Fungi\"** is the plural of \"fungus,\" a type of organism including mushrooms.\\n\\nThe joke plays on the double meaning of \"fungi.\"  The pizza slice, liking the mushroom, is said to like a \"fungi\" because the mushroom is a fungus, but also because the mushroom is a fun guy (a fun person, in this context).'}, next=(), config={'configurable': {'thread_id': '1', 'checkpoint_ns': '', 'checkpoint_id': '1f06dd99-8726-661f-8002-d9d79fa16348'}}, metadata={'source': 'loop', 'step': 2, 'parents': {}, 'thread_id': '1'}, created_at='2025-07-31T06:42:58.145027+00:00', parent_config={'configurable': {'thread_id': '1', 'checkpoint_ns': '', 'checkpoint_id': '1f06dd99-77f0-612a-8001-91cbc268bfde'}}, tasks=(), interrupts=()),\n",
       " StateSnapshot(values={'topic': 'pizza', 'joke': \"Why does the pizza slice like the mushroom so much?\\n\\nBecause he's a fungi!\"}, next=('generate_explanation',), config={'configurable': {'thread_id': '1', 'checkpoint_ns': '', 'checkpoint_id': '1f06dd99-77f0-612a-8001-91cbc268bfde'}}, metadata={'source': 'loop', 'step': 1, 'parents': {}, 'thread_id': '1'}, created_at='2025-07-31T06:42:56.549917+00:00', parent_config={'configurable': {'thread_id': '1', 'checkpoint_ns': '', 'checkpoint_id': '1f06dd99-6c61-660c-8000-5dd31b6fd02c'}}, tasks=(PregelTask(id='5fb4269e-a9d0-411e-58bb-50c8c9eab7bc', name='generate_explanation', path=('__pregel_pull', 'generate_explanation'), error=None, interrupts=(), state=None, result={'explanation': 'This is a pun, relying on the similar sound of \"fun guy\" and \"fungi.\"\\n\\n* **\"Fun guy\"** is a slang term for a fun person.\\n* **\"Fungi\"** is the plural of \"fungus,\" a type of organism including mushrooms.\\n\\nThe joke plays on the double meaning of \"fungi.\"  The pizza slice, liking the mushroom, is said to like a \"fungi\" because the mushroom is a fungus, but also because the mushroom is a fun guy (a fun person, in this context).'}),), interrupts=()),\n",
       " StateSnapshot(values={'topic': 'pizza'}, next=('generate_joke',), config={'configurable': {'thread_id': '1', 'checkpoint_ns': '', 'checkpoint_id': '1f06dd99-6c61-660c-8000-5dd31b6fd02c'}}, metadata={'source': 'loop', 'step': 0, 'parents': {}, 'thread_id': '1'}, created_at='2025-07-31T06:42:55.338036+00:00', parent_config={'configurable': {'thread_id': '1', 'checkpoint_ns': '', 'checkpoint_id': '1f06dd99-6c5e-6f06-bfff-713012a62d8f'}}, tasks=(PregelTask(id='1ff1c281-a924-d73c-f7b9-40216e5616a4', name='generate_joke', path=('__pregel_pull', 'generate_joke'), error=None, interrupts=(), state=None, result={'joke': \"Why does the pizza slice like the mushroom so much?\\n\\nBecause he's a fungi!\"}),), interrupts=()),\n",
       " StateSnapshot(values={}, next=('__start__',), config={'configurable': {'thread_id': '1', 'checkpoint_ns': '', 'checkpoint_id': '1f06dd99-6c5e-6f06-bfff-713012a62d8f'}}, metadata={'source': 'input', 'step': -1, 'parents': {}, 'thread_id': '1'}, created_at='2025-07-31T06:42:55.337037+00:00', parent_config=None, tasks=(PregelTask(id='878a198b-9d3d-9830-ac6a-85cfae401ce9', name='__start__', path=('__pregel_pull', '__start__'), error=None, interrupts=(), state=None, result={'topic': 'pizza'}),), interrupts=())]"
      ]
     },
     "execution_count": 20,
     "metadata": {},
     "output_type": "execute_result"
    }
   ],
   "source": [
    "list(workflow.get_state_history(config1))"
   ]
  },
  {
   "cell_type": "code",
   "execution_count": null,
   "id": "b5ea036d",
   "metadata": {},
   "outputs": [
    {
     "data": {
      "text/plain": [
       "{'topic': 'samosa',\n",
       " 'joke': \"Why does the pizza slice like the mushroom so much?\\n\\nBecause he's a fungi!\",\n",
       " 'explanation': 'This is a pun, relying on the similar sound of \"fun guy\" and \"fungi.\"\\n\\n* **\"Fun guy\"** is a slang term for a fun person.\\n* **\"Fungi\"** is the plural of \"fungus,\" a type of organism including mushrooms.\\n\\nThe joke plays on the double meaning of \"fungi.\"  The pizza slice, liking the mushroom, is said to like a \"fungi\" because the mushroom is a fungus, but also because the mushroom is a fun guy (a fun person, in this context).'}"
      ]
     },
     "execution_count": 21,
     "metadata": {},
     "output_type": "execute_result"
    }
   ],
   "source": [
    "workflow.invoke(None, {\"configurable\": {\"thread_id\": \"1\", \"checkpoint_id\": \"1f06ddc6-b2da-6d35-8003-b4451e11bc55\"}})"
   ]
  },
  {
   "cell_type": "code",
   "execution_count": null,
   "id": "16d699c1",
   "metadata": {},
   "outputs": [
    {
     "data": {
      "text/plain": [
       "[StateSnapshot(values={'topic': 'samosa', 'joke': \"Why does the pizza slice like the mushroom so much?\\n\\nBecause he's a fungi!\", 'explanation': 'This is a pun, relying on the similar sound of \"fun guy\" and \"fungi.\"\\n\\n* **\"Fun guy\"** is a slang term for a fun person.\\n* **\"Fungi\"** is the plural of \"fungus,\" a type of organism including mushrooms.\\n\\nThe joke plays on the double meaning of \"fungi.\"  The pizza slice, liking the mushroom, is said to like a \"fungi\" because the mushroom is a fungus, but also because the mushroom is a fun guy (a fun person, in this context).'}, next=(), config={'configurable': {'thread_id': '1', 'checkpoint_ns': '', 'checkpoint_id': '1f06ddc6-b2da-6d35-8003-b4451e11bc55'}}, metadata={'source': 'update', 'step': 3, 'parents': {}, 'thread_id': '1'}, created_at='2025-07-31T07:03:10.687365+00:00', parent_config={'configurable': {'thread_id': '1', 'checkpoint_ns': '', 'checkpoint_id': '1f06dd99-8726-661f-8002-d9d79fa16348'}}, tasks=(), interrupts=()),\n",
       " StateSnapshot(values={'topic': 'pizza', 'joke': \"Why does the pizza slice like the mushroom so much?\\n\\nBecause he's a fungi!\", 'explanation': 'This is a pun, relying on the similar sound of \"fun guy\" and \"fungi.\"\\n\\n* **\"Fun guy\"** is a slang term for a fun person.\\n* **\"Fungi\"** is the plural of \"fungus,\" a type of organism including mushrooms.\\n\\nThe joke plays on the double meaning of \"fungi.\"  The pizza slice, liking the mushroom, is said to like a \"fungi\" because the mushroom is a fungus, but also because the mushroom is a fun guy (a fun person, in this context).'}, next=(), config={'configurable': {'thread_id': '1', 'checkpoint_ns': '', 'checkpoint_id': '1f06dd99-8726-661f-8002-d9d79fa16348'}}, metadata={'source': 'loop', 'step': 2, 'parents': {}, 'thread_id': '1'}, created_at='2025-07-31T06:42:58.145027+00:00', parent_config={'configurable': {'thread_id': '1', 'checkpoint_ns': '', 'checkpoint_id': '1f06dd99-77f0-612a-8001-91cbc268bfde'}}, tasks=(), interrupts=()),\n",
       " StateSnapshot(values={'topic': 'pizza', 'joke': \"Why does the pizza slice like the mushroom so much?\\n\\nBecause he's a fungi!\"}, next=('generate_explanation',), config={'configurable': {'thread_id': '1', 'checkpoint_ns': '', 'checkpoint_id': '1f06dd99-77f0-612a-8001-91cbc268bfde'}}, metadata={'source': 'loop', 'step': 1, 'parents': {}, 'thread_id': '1'}, created_at='2025-07-31T06:42:56.549917+00:00', parent_config={'configurable': {'thread_id': '1', 'checkpoint_ns': '', 'checkpoint_id': '1f06dd99-6c61-660c-8000-5dd31b6fd02c'}}, tasks=(PregelTask(id='5fb4269e-a9d0-411e-58bb-50c8c9eab7bc', name='generate_explanation', path=('__pregel_pull', 'generate_explanation'), error=None, interrupts=(), state=None, result={'explanation': 'This is a pun, relying on the similar sound of \"fun guy\" and \"fungi.\"\\n\\n* **\"Fun guy\"** is a slang term for a fun person.\\n* **\"Fungi\"** is the plural of \"fungus,\" a type of organism including mushrooms.\\n\\nThe joke plays on the double meaning of \"fungi.\"  The pizza slice, liking the mushroom, is said to like a \"fungi\" because the mushroom is a fungus, but also because the mushroom is a fun guy (a fun person, in this context).'}),), interrupts=()),\n",
       " StateSnapshot(values={'topic': 'pizza'}, next=('generate_joke',), config={'configurable': {'thread_id': '1', 'checkpoint_ns': '', 'checkpoint_id': '1f06dd99-6c61-660c-8000-5dd31b6fd02c'}}, metadata={'source': 'loop', 'step': 0, 'parents': {}, 'thread_id': '1'}, created_at='2025-07-31T06:42:55.338036+00:00', parent_config={'configurable': {'thread_id': '1', 'checkpoint_ns': '', 'checkpoint_id': '1f06dd99-6c5e-6f06-bfff-713012a62d8f'}}, tasks=(PregelTask(id='1ff1c281-a924-d73c-f7b9-40216e5616a4', name='generate_joke', path=('__pregel_pull', 'generate_joke'), error=None, interrupts=(), state=None, result={'joke': \"Why does the pizza slice like the mushroom so much?\\n\\nBecause he's a fungi!\"}),), interrupts=()),\n",
       " StateSnapshot(values={}, next=('__start__',), config={'configurable': {'thread_id': '1', 'checkpoint_ns': '', 'checkpoint_id': '1f06dd99-6c5e-6f06-bfff-713012a62d8f'}}, metadata={'source': 'input', 'step': -1, 'parents': {}, 'thread_id': '1'}, created_at='2025-07-31T06:42:55.337037+00:00', parent_config=None, tasks=(PregelTask(id='878a198b-9d3d-9830-ac6a-85cfae401ce9', name='__start__', path=('__pregel_pull', '__start__'), error=None, interrupts=(), state=None, result={'topic': 'pizza'}),), interrupts=())]"
      ]
     },
     "execution_count": 22,
     "metadata": {},
     "output_type": "execute_result"
    }
   ],
   "source": [
    "list(workflow.get_state_history(config1))"
   ]
  },
  {
   "cell_type": "code",
   "execution_count": null,
   "id": "8b53d751",
   "metadata": {},
   "outputs": [],
   "source": [
    "from langgraph.graph import StateGraph, END\n",
    "from langgraph.checkpoint.memory import InMemorySaver\n",
    "from typing import TypedDict\n",
    "import time"
   ]
  },
  {
   "cell_type": "code",
   "execution_count": null,
   "id": "f4474de4",
   "metadata": {},
   "outputs": [],
   "source": [
    "class CrashState(TypedDict):\n",
    "    input: str\n",
    "    step1: str\n",
    "    step2: str"
   ]
  },
  {
   "cell_type": "code",
   "execution_count": null,
   "id": "8dad9106",
   "metadata": {},
   "outputs": [],
   "source": [
    "# 2. Define steps\n",
    "def step_1(state: CrashState) -> CrashState:\n",
    "    print(\"✅ Step 1 executed\")\n",
    "    return {\"step1\": \"done\", \"input\": state[\"input\"]}\n",
    "\n",
    "def step_2(state: CrashState) -> CrashState:\n",
    "    print(\"⏳ Step 2 hanging... now manually interrupt from the notebook toolbar (STOP button)\")\n",
    "    time.sleep(1000)  \n",
    "    return {\"step2\": \"done\"}\n",
    "\n",
    "def step_3(state: CrashState) -> CrashState:\n",
    "    print(\"✅ Step 3 executed\")\n",
    "    return {\"done\": True}"
   ]
  },
  {
   "cell_type": "code",
   "execution_count": null,
   "id": "6d3cbd48",
   "metadata": {},
   "outputs": [],
   "source": [
    "# 3. Build the graph\n",
    "builder = StateGraph(CrashState)\n",
    "builder.add_node(\"step_1\", step_1)\n",
    "builder.add_node(\"step_2\", step_2)\n",
    "builder.add_node(\"step_3\", step_3)\n",
    "\n",
    "builder.set_entry_point(\"step_1\")\n",
    "builder.add_edge(\"step_1\", \"step_2\")\n",
    "builder.add_edge(\"step_2\", \"step_3\")\n",
    "builder.add_edge(\"step_3\", END)\n",
    "\n",
    "checkpointer = InMemorySaver()\n",
    "graph = builder.compile(checkpointer=checkpointer)"
   ]
  },
  {
   "cell_type": "code",
   "execution_count": null,
   "id": "574e7d2a",
   "metadata": {},
   "outputs": [
    {
     "name": "stdout",
     "output_type": "stream",
     "text": [
      "▶️ Running graph: Please manually interrupt during Step 2...\n"
     ]
    },
    {
     "ename": "NameError",
     "evalue": "name 'graph' is not defined",
     "output_type": "error",
     "traceback": [
      "\u001b[1;31m---------------------------------------------------------------------------\u001b[0m",
      "\u001b[1;31mNameError\u001b[0m                                 Traceback (most recent call last)",
      "Cell \u001b[1;32mIn[1], line 3\u001b[0m\n\u001b[0;32m      1\u001b[0m \u001b[38;5;28;01mtry\u001b[39;00m:\n\u001b[0;32m      2\u001b[0m     \u001b[38;5;28mprint\u001b[39m(\u001b[38;5;124m\"\u001b[39m\u001b[38;5;124m▶️ Running graph: Please manually interrupt during Step 2...\u001b[39m\u001b[38;5;124m\"\u001b[39m)\n\u001b[1;32m----> 3\u001b[0m     \u001b[43mgraph\u001b[49m\u001b[38;5;241m.\u001b[39minvoke({\u001b[38;5;124m\"\u001b[39m\u001b[38;5;124minput\u001b[39m\u001b[38;5;124m\"\u001b[39m: \u001b[38;5;124m\"\u001b[39m\u001b[38;5;124mstart\u001b[39m\u001b[38;5;124m\"\u001b[39m}, config\u001b[38;5;241m=\u001b[39m{\u001b[38;5;124m\"\u001b[39m\u001b[38;5;124mconfigurable\u001b[39m\u001b[38;5;124m\"\u001b[39m: {\u001b[38;5;124m\"\u001b[39m\u001b[38;5;124mthread_id\u001b[39m\u001b[38;5;124m\"\u001b[39m: \u001b[38;5;124m'\u001b[39m\u001b[38;5;124mthread-1\u001b[39m\u001b[38;5;124m'\u001b[39m}})\n\u001b[0;32m      4\u001b[0m \u001b[38;5;28;01mexcept\u001b[39;00m \u001b[38;5;167;01mKeyboardInterrupt\u001b[39;00m:\n\u001b[0;32m      5\u001b[0m     \u001b[38;5;28mprint\u001b[39m(\u001b[38;5;124m\"\u001b[39m\u001b[38;5;124m❌ Kernel manually interrupted (crash simulated).\u001b[39m\u001b[38;5;124m\"\u001b[39m)\n",
      "\u001b[1;31mNameError\u001b[0m: name 'graph' is not defined"
     ]
    }
   ],
   "source": [
    "try:\n",
    "    print(\"▶️ Running graph: Please manually interrupt during Step 2...\")\n",
    "    graph.invoke({\"input\": \"start\"}, config={\"configurable\": {\"thread_id\": 'thread-1'}})\n",
    "except KeyboardInterrupt:\n",
    "    print(\"❌ Kernel manually interrupted (crash simulated).\")"
   ]
  },
  {
   "cell_type": "code",
   "execution_count": null,
   "id": "f8e2c4ca",
   "metadata": {},
   "outputs": [],
   "source": [
    "# 6. Re-run to show fault-tolerant resume\n",
    "print(\"\\n🔁 Re-running the graph to demonstrate fault tolerance...\")\n",
    "final_state = graph.invoke(None, config={\"configurable\": {\"thread_id\": 'thread-1'}})\n",
    "print(\"\\n✅ Final State:\", final_state)"
   ]
  },
  {
   "cell_type": "code",
   "execution_count": null,
   "id": "fc29db25",
   "metadata": {},
   "outputs": [],
   "source": [
    "list(graph.get_state_history({\"configurable\": {\"thread_id\": 'thread-1'}}))"
   ]
  }
 ],
 "metadata": {
  "kernelspec": {
   "display_name": "Agentic_AI 2.0",
   "language": "python",
   "name": "python3"
  },
  "language_info": {
   "codemirror_mode": {
    "name": "ipython",
    "version": 3
   },
   "file_extension": ".py",
   "mimetype": "text/x-python",
   "name": "python",
   "nbconvert_exporter": "python",
   "pygments_lexer": "ipython3",
   "version": "3.10.18"
  }
 },
 "nbformat": 4,
 "nbformat_minor": 5
}
