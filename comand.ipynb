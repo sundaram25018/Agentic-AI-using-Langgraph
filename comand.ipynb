{
 "cells": [
  {
   "cell_type": "code",
   "execution_count": 1,
   "id": "a3cf058c",
   "metadata": {},
   "outputs": [],
   "source": [
    "from langgraph.graph import StateGraph, START, END\n",
    "from langgraph.types import Command\n",
    "from typing import TypedDict"
   ]
  },
  {
   "cell_type": "code",
   "execution_count": 2,
   "id": "2d371db3",
   "metadata": {},
   "outputs": [],
   "source": [
    "class State(TypedDict):\n",
    "    text: str"
   ]
  },
  {
   "cell_type": "code",
   "execution_count": 3,
   "id": "e4b36b73",
   "metadata": {},
   "outputs": [],
   "source": [
    "def node_a(state: State): \n",
    "    print(\"Node A\")\n",
    "    return Command(\n",
    "        goto=\"node_b\", \n",
    "        update={\n",
    "            \"text\": state[\"text\"] + \"a\"\n",
    "        }\n",
    "    )\n",
    "\n",
    "def node_b(state: State): \n",
    "    print(\"Node B\")\n",
    "    return Command(\n",
    "        goto=\"node_c\", \n",
    "        update={\n",
    "            \"text\": state[\"text\"] + \"b\"\n",
    "        }\n",
    "    )\n",
    "\n",
    "\n",
    "def node_c(state: State): \n",
    "    print(\"Node C\")\n",
    "    return Command(\n",
    "        goto=END, \n",
    "        update={\n",
    "            \"text\": state[\"text\"] + \"c\"\n",
    "        }\n",
    "    )"
   ]
  },
  {
   "cell_type": "code",
   "execution_count": 4,
   "id": "95ba0591",
   "metadata": {},
   "outputs": [],
   "source": [
    "graph = StateGraph(State)\n",
    "\n",
    "graph.add_node(\"node_a\", node_a)\n",
    "graph.add_node(\"node_b\", node_b)\n",
    "graph.add_node(\"node_c\", node_c)\n",
    "\n",
    "graph.set_entry_point(\"node_a\")\n",
    "\n",
    "\n",
    "app = graph.compile()"
   ]
  },
  {
   "cell_type": "code",
   "execution_count": 6,
   "id": "fad7e6c6",
   "metadata": {},
   "outputs": [
    {
     "name": "stderr",
     "output_type": "stream",
     "text": [
      "Task node_c with path ('__pregel_pull', 'node_c') wrote to unknown channel branch:to:__end__, ignoring it.\n"
     ]
    },
    {
     "name": "stdout",
     "output_type": "stream",
     "text": [
      "Node A\n",
      "Node B\n",
      "Node C\n"
     ]
    },
    {
     "data": {
      "text/plain": [
       "{'text': 'abc'}"
      ]
     },
     "execution_count": 6,
     "metadata": {},
     "output_type": "execute_result"
    }
   ],
   "source": [
    "response = app.invoke({\n",
    "    \"text\": \"\"\n",
    "})\n",
    "\n",
    "response"
   ]
  },
  {
   "cell_type": "code",
   "execution_count": 7,
   "id": "3e71eb39",
   "metadata": {},
   "outputs": [],
   "source": [
    "from langgraph.graph import StateGraph, START, END\n",
    "from langgraph.types import Command, interrupt\n",
    "from typing import TypedDict\n",
    "from langgraph.checkpoint.memory import MemorySaver"
   ]
  },
  {
   "cell_type": "code",
   "execution_count": 8,
   "id": "295562e0",
   "metadata": {},
   "outputs": [],
   "source": [
    "memory = MemorySaver()\n",
    "\n",
    "class State(TypedDict):\n",
    "    value: str\n",
    "\n",
    "def node_a(state: State): \n",
    "    print(\"Node A\")\n",
    "    return Command(\n",
    "        goto=\"node_b\", \n",
    "        update={\n",
    "            \"value\": state[\"value\"] + \"a\"\n",
    "        }\n",
    "    )"
   ]
  },
  {
   "cell_type": "code",
   "execution_count": 9,
   "id": "b1f0844f",
   "metadata": {},
   "outputs": [],
   "source": [
    "def node_b(state: State): \n",
    "    print(\"Node B\")\n",
    "\n",
    "    human_response = interrupt(\"Do you want to go to C or D? Type C/D\")\n",
    "\n",
    "    print(\"Human Review Values: \", human_response)\n",
    "    \n",
    "    if(human_response == \"C\"): \n",
    "        return Command(\n",
    "            goto=\"node_c\", \n",
    "            update={\n",
    "                \"value\": state[\"value\"] + \"b\"\n",
    "            }\n",
    "        ) \n",
    "    elif(human_response == \"D\"): \n",
    "        return Command(\n",
    "            goto=\"node_d\", \n",
    "            update={\n",
    "                \"value\": state[\"value\"] + \"b\"\n",
    "            }\n",
    "        )\n",
    "\n",
    "\n",
    "def node_c(state: State): \n",
    "    print(\"Node C\")\n",
    "    return Command(\n",
    "        goto=END, \n",
    "        update={\n",
    "            \"value\": state[\"value\"] + \"c\"\n",
    "        }\n",
    "    )\n",
    "\n",
    "\n",
    "def node_d(state: State): \n",
    "    print(\"Node D\")\n",
    "    return Command(\n",
    "        goto=END, \n",
    "        update={\n",
    "            \"value\": state[\"value\"] + \"d\"\n",
    "        }\n",
    ")"
   ]
  },
  {
   "cell_type": "code",
   "execution_count": 10,
   "id": "99f29077",
   "metadata": {},
   "outputs": [],
   "source": [
    "graph = StateGraph(State)\n",
    "\n",
    "graph.add_node(\"node_a\", node_a)\n",
    "graph.add_node(\"node_b\", node_b)\n",
    "graph.add_node(\"node_c\", node_c)\n",
    "graph.add_node(\"node_d\", node_d)\n",
    "\n",
    "graph.set_entry_point(\"node_a\") \n",
    "\n",
    "app = graph.compile(checkpointer=memory)"
   ]
  },
  {
   "cell_type": "code",
   "execution_count": 11,
   "id": "e148e3f7",
   "metadata": {},
   "outputs": [
    {
     "name": "stdout",
     "output_type": "stream",
     "text": [
      "Node A\n",
      "Node B\n"
     ]
    },
    {
     "data": {
      "text/plain": [
       "[{'node_a': {'value': 'a'}},\n",
       " {'__interrupt__': (Interrupt(value='Do you want to go to C or D? Type C/D', resumable=True, ns=['node_b:16e2614e-0c6e-2fa9-ee6c-7c6170885610']),)}]"
      ]
     },
     "execution_count": 11,
     "metadata": {},
     "output_type": "execute_result"
    }
   ],
   "source": [
    "config = {\"configurable\": {\"thread_id\": \"1\"}}\n",
    "\n",
    "initialState = {\n",
    "    \"value\": \"\"\n",
    "}\n",
    "\n",
    "first_result = app.invoke(initialState, config, stream_mode=\"updates\")\n",
    "first_result"
   ]
  },
  {
   "cell_type": "code",
   "execution_count": 12,
   "id": "1c3a2381",
   "metadata": {},
   "outputs": [
    {
     "name": "stdout",
     "output_type": "stream",
     "text": [
      "('node_b',)\n"
     ]
    }
   ],
   "source": [
    "print(app.get_state(config).next)"
   ]
  },
  {
   "cell_type": "code",
   "execution_count": 13,
   "id": "53811d45",
   "metadata": {},
   "outputs": [
    {
     "name": "stderr",
     "output_type": "stream",
     "text": [
      "Task node_c with path ('__pregel_pull', 'node_c') wrote to unknown channel branch:to:__end__, ignoring it.\n"
     ]
    },
    {
     "name": "stdout",
     "output_type": "stream",
     "text": [
      "Node B\n",
      "Human Review Values:  C\n",
      "Node C\n"
     ]
    },
    {
     "data": {
      "text/plain": [
       "[{'node_b': {'value': 'ab'}}, {'node_c': {'value': 'abc'}}]"
      ]
     },
     "execution_count": 13,
     "metadata": {},
     "output_type": "execute_result"
    }
   ],
   "source": [
    "second_result = app.invoke(Command(resume=\"C\"), config=config, stream_mode=\"updates\")\n",
    "second_result"
   ]
  }
 ],
 "metadata": {
  "kernelspec": {
   "display_name": "Agentic_AI 2.0",
   "language": "python",
   "name": "python3"
  },
  "language_info": {
   "codemirror_mode": {
    "name": "ipython",
    "version": 3
   },
   "file_extension": ".py",
   "mimetype": "text/x-python",
   "name": "python",
   "nbconvert_exporter": "python",
   "pygments_lexer": "ipython3",
   "version": "3.10.18"
  }
 },
 "nbformat": 4,
 "nbformat_minor": 5
}
