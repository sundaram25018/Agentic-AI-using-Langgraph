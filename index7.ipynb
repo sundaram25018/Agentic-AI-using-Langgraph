{
 "cells": [
  {
   "cell_type": "code",
   "execution_count": 1,
   "id": "948ea449",
   "metadata": {},
   "outputs": [
    {
     "data": {
      "text/plain": [
       "True"
      ]
     },
     "execution_count": 1,
     "metadata": {},
     "output_type": "execute_result"
    }
   ],
   "source": [
    "from langchain_google_genai import ChatGoogleGenerativeAI\n",
    "from langgraph.graph import StateGraph,START,END\n",
    "from langchain_community.tools import TavilySearchResults\n",
    "from typing import TypedDict\n",
    "import yfinance as yf\n",
    "import re\n",
    "import os\n",
    "from dotenv import load_dotenv\n",
    "load_dotenv()\n"
   ]
  },
  {
   "cell_type": "code",
   "execution_count": 2,
   "id": "e1d04996",
   "metadata": {},
   "outputs": [
    {
     "name": "stderr",
     "output_type": "stream",
     "text": [
      "C:\\Users\\sunda\\AppData\\Local\\Temp\\ipykernel_7444\\2986204818.py:2: LangChainDeprecationWarning: The class `TavilySearchResults` was deprecated in LangChain 0.3.25 and will be removed in 1.0. An updated version of the class exists in the :class:`~langchain-tavily package and should be used instead. To use it run `pip install -U :class:`~langchain-tavily` and import as `from :class:`~langchain_tavily import TavilySearch``.\n",
      "  tavali = TavilySearchResults()\n"
     ]
    }
   ],
   "source": [
    "llm = ChatGoogleGenerativeAI(model=\"gemini-1.5-flash\")\n",
    "tavali = TavilySearchResults()"
   ]
  },
  {
   "cell_type": "code",
   "execution_count": 3,
   "id": "38ca2b11",
   "metadata": {},
   "outputs": [],
   "source": [
    "class AnalystState(TypedDict):\n",
    "    input: str\n",
    "    ticker: str\n",
    "    financial_data: dict\n",
    "    news_articles: list\n",
    "    sentiment_summary: str\n",
    "    risk_analysis: str\n",
    "    recommendation: str"
   ]
  },
  {
   "cell_type": "code",
   "execution_count": 4,
   "id": "92aa6c79",
   "metadata": {},
   "outputs": [],
   "source": [
    "def parse_input(state:AnalystState) -> AnalystState:\n",
    "    query = state[\"input\"]\n",
    "    ticker_match = re.search(r\"[A-Z]{1,5}(\\.NS)?\", query)\n",
    "    return {\"ticker\": ticker_match.group() if ticker_match else \"AAPL\"}"
   ]
  },
  {
   "cell_type": "code",
   "execution_count": 5,
   "id": "b836f75e",
   "metadata": {},
   "outputs": [],
   "source": [
    "def fetch_financial_data(state:AnalystState) -> AnalystState:\n",
    "    ticker = state[\"ticker\"]\n",
    "    stock = yf.Ticker(ticker)\n",
    "    info = stock.info\n",
    "    return {\"financial_data\": {\n",
    "        \"current_price\": info.get(\"currentPrice\"),\n",
    "        \"market_cap\": info.get(\"marketCap\"),\n",
    "        \"pe_ratio\": info.get(\"trailingPE\"),\n",
    "        \"sector\": info.get(\"sector\"),\n",
    "        \"name\": info.get(\"shortName\")\n",
    "    }}"
   ]
  },
  {
   "cell_type": "code",
   "execution_count": 6,
   "id": "b5e9a399",
   "metadata": {},
   "outputs": [],
   "source": [
    "def fetch_news(state:AnalystState) -> AnalystState:\n",
    "    name = state[\"financial_data\"][\"name\"]\n",
    "    results = tavali.run(f\"{name} stock news\")\n",
    "    return {\"news_articles\": results}"
   ]
  },
  {
   "cell_type": "code",
   "execution_count": 7,
   "id": "d5070799",
   "metadata": {},
   "outputs": [],
   "source": [
    "def analyze_sentiment(state:AnalystState) -> AnalystState:\n",
    "    llm_prompt = f\"\"\"\n",
    "You are a financial sentiment analyst.\n",
    "\n",
    "Analyze the following news snippets about {state['ticker']} and summarize overall market sentiment\n",
    "as Positive, Negative, or Mixed. Then give a 2-sentence explanation.\n",
    "\n",
    "News:\n",
    "{[item['content'] for item in state['news_articles']]}\n",
    "\n",
    "Answer:\n",
    "\"\"\"\n",
    "\n",
    "\n",
    "    result = llm.invoke(llm_prompt)\n",
    "    return {\"sentiment_summary\": result.content}\n"
   ]
  },
  {
   "cell_type": "code",
   "execution_count": 8,
   "id": "fd39868b",
   "metadata": {},
   "outputs": [],
   "source": [
    "def evaluate_risk(state:AnalystState) -> AnalystState:\n",
    "    fd = state[\"financial_data\"]\n",
    "    prompt = f\"\"\"\n",
    "Analyze the following financial data for risk level (Low, Moderate, High):\n",
    "\n",
    "- Price: ₹{fd['current_price']}\n",
    "- Market Cap: {fd['market_cap']}\n",
    "- PE Ratio: {fd['pe_ratio']}\n",
    "- Sector: {fd['sector']}\n",
    "\n",
    "Answer in 2-3 sentences with a clear risk assessment.\n",
    "\"\"\"\n",
    "    result = llm.invoke(prompt)\n",
    "    return {\"risk_analysis\": result.content}\n"
   ]
  },
  {
   "cell_type": "code",
   "execution_count": 9,
   "id": "d2972c6b",
   "metadata": {},
   "outputs": [],
   "source": [
    "def investment_recommendation(state:AnalystState) -> AnalystState:\n",
    "    prompt = f\"\"\"\n",
    "Based on the financials, sentiment, and risk, give a human-like investment recommendation for stock {state['ticker']}.\n",
    "\n",
    "Financials:\n",
    "{state['financial_data']}\n",
    "\n",
    "Sentiment:\n",
    "{state['sentiment_summary']}\n",
    "\n",
    "Risk:\n",
    "{state['risk_analysis']}\n",
    "\n",
    "Your Answer (in plain English):\n",
    "\"\"\"\n",
    "    result = llm.invoke(prompt)\n",
    "    return {\"recommendation\": result.content}\n"
   ]
  },
  {
   "cell_type": "code",
   "execution_count": 10,
   "id": "cff50bca",
   "metadata": {},
   "outputs": [],
   "source": [
    "graph = StateGraph(AnalystState)\n",
    "\n",
    "graph.add_node(\"parse_input\",parse_input)\n",
    "graph.add_node(\"fetch_financial_data\",fetch_financial_data)\n",
    "graph.add_node(\"fetch_news\",fetch_news)\n",
    "graph.add_node(\"analyze_sentiment\",analyze_sentiment)\n",
    "graph.add_node(\"evaluate_risk\",evaluate_risk)\n",
    "graph.add_node(\"investment_recommendation\",investment_recommendation)\n",
    "\n",
    "graph.add_edge(START,\"parse_input\")\n",
    "graph.add_edge(\"parse_input\",\"fetch_financial_data\")\n",
    "graph.add_edge(\"fetch_financial_data\",\"fetch_news\")\n",
    "graph.add_edge(\"fetch_news\",\"analyze_sentiment\")\n",
    "graph.add_edge(\"analyze_sentiment\",\"evaluate_risk\")\n",
    "graph.add_edge(\"evaluate_risk\",\"investment_recommendation\")\n",
    "graph.add_edge(\"investment_recommendation\",END)\n",
    "\n",
    "app = graph.compile()"
   ]
  },
  {
   "cell_type": "code",
   "execution_count": 11,
   "id": "b8c5dd14",
   "metadata": {},
   "outputs": [
    {
     "data": {
      "image/png": "[encoded data removed]",
      "text/plain": [
       "<IPython.core.display.Image object>"
      ]
     },
     "metadata": {},
     "output_type": "display_data"
    }
   ],
   "source": [
    "from IPython.display import display,Image\n",
    "display(Image(app.get_graph().draw_mermaid_png()))"
   ]
  },
  {
   "cell_type": "code",
   "execution_count": 12,
   "id": "ddb36984",
   "metadata": {},
   "outputs": [
    {
     "name": "stdout",
     "output_type": "stream",
     "text": [
      "\n",
      "\n",
      " -------------------------input------------------------\n",
      "\n",
      "\n",
      "Should I invest in TCS?\n",
      "\n",
      "\n",
      " -------------------------financial_data------------------------\n",
      "\n",
      "\n",
      "{'current_price': 17.29, 'market_cap': 5748665856, 'pe_ratio': None, 'sector': 'Technology', 'name': 'SentinelOne, Inc.'}\n",
      "\n",
      "\n",
      " -------------------------news_articles------------------------\n",
      "\n",
      "\n",
      "[{'title': 'SentinelOne, Inc. (S) Stock Forecast & Price Prediction 2025–2030', 'url': 'https://coincodex.com/stock/S/price-prediction/', 'content': \"| Date | Prediction | Potential ROI |\\n| --- | --- | --- |\\n| Jul 13, 2025 | $â\\x80¯17.29 | 0.00% Buy |\\n| Jul 14, 2025 | $â\\x80¯16.90 | 2.25% Short |\\n| Jul 15, 2025 | $â\\x80¯16.39 | 5.19% Short |\\n| Jul 16, 2025 | $â\\x80¯15.84 | 8.39% Short |\\n| Jul 17, 2025 | $â\\x80¯15.90 | 8.03% Short |\\n\\nOver the next five days, SentinelOne, Inc. will reach the highest price of $â\\x80¯17.29 tomorrow, which would represent 0.00% growth compared to the current price. This follows a -6.29% price change over the last 7 days. [...] According to our current S stock forecast, the value of SentinelOne, Inc. shares will rise by 2.06% and reach $â\\x80¯17.65 per share by August 11, 2025. Per our technical indicators, the current sentiment is Bearish while the Fear & Greed Index is showing 39 (Fear). S stock recorded 16/30 (53%) green days with 1.94% price volatility over the last 30 days. Based on the SentinelOne, Inc. stock forecast, it's now a good time to buy S stock because it's trading 2.01% above our forecast, and it could [...] ## SentinelOne, Inc. Stock Forecast For Years 2025, 2026, 2027, 2028, 2029, and 2030\\n\\nOver the next several years, SentinelOne, Inc. is projected to increase, with prices potentially reaching $â\\x80¯26.73 by 2025. This represents a 54.62% gain from today's value. The long-term forecast suggests a bearish trend, with potential highs of $â\\x80¯26.73 and lows of $â\\x80¯1.644413 over the period.\", 'score': 0.8665964}, {'title': 'SentinelOne, Inc. (S) Stock Price, News, Quote & History', 'url': 'https://finance.yahoo.com/quote/S/', 'content': 'www.sentinelone.com\\n\\n2,800\\n\\n### Full Time Employees\\n\\nJanuary 31\\n\\n### Fiscal Year Ends\\n\\nTechnology\\n\\n### Sector\\n\\nSoftware - Infrastructure\\n\\n### Industry\\n\\nMore about SentinelOne, Inc.\\n\\n### Recent News: S\\n\\nView More\\n\\nAll News Press Releases \\n\\nSEC Filings\\n\\nView More\\n\\n### Performance Overview: S\\n\\nTrailing total returns as of 5/20/2025, which may include dividends or other distributions. Benchmark is S&P 500 (^GSPC)\").\\n\\n### YTD Return\\n\\nS\\n\\n10.70%\\n\\nS&P 500 (^GSPC)\\n\\n1.04%\\n\\n### 1-Year Return\\n\\nS\\n\\n12.55% [...] Previous Close 19.99\\n   Open 19.90\\n   Bid 19.74 x 1000\\n   Ask 19.77 x 1000\\n   Day\\'s Range 19.68 - 19.95\\n   52 Week Range 14.33 - 29.29\\n   Volume 321,702\\n   Avg. Volume 5,246,781\\n   Market Cap (intraday)6.563B\\n   Beta (5Y Monthly)0.82\\n   PE Ratio (TTM)--\\n   EPS (TTM)-0.92\\n   Earnings Date May 28, 2025\\n   Forward Dividend & Yield--\\n   Ex-Dividend Date--\\n   1y Target Est 24.41 [...] management, endpoint security, cloud security, identity security, exposure and vulnerability management, and threat services. The company was formerly known as Sentinel Labs, Inc. and changed its name to SentinelOne, Inc. in March 2021. SentinelOne, Inc. was incorporated in 2013 and is headquartered in Mountain View, California.', 'score': 0.8235701}, {'title': 'SentinelOne (S) Stock Slides as Market Rises: Facts to Know Before ...', 'url': 'https://finance.yahoo.com/news/sentinelone-stock-slides-market-rises-221504165.html', 'content': 'Oops, something went wrong\\n\\n### News\\n\\n### Life\\n\\n### Entertainment\\n\\n### Finance\\n\\n### Sports\\n\\n### New on Yahoo\\n\\n# Yahoo Finance\\n\\nZacks\\n\\n# SentinelOne (S) Stock Slides as Market Rises: Facts to Know Before You Trade\\n\\n## In This Article:\\n\\nIn the latest close session, SentinelOne (S) was down 3.24% at $17.92. The stock fell short of the S&P 500, which registered a gain of 0.28% for the day. At the same time, the Dow added 0.43%, and the tech-heavy Nasdaq gained 0.09%. [...] Market participants will be closely following the financial results of SentinelOne in its upcoming release. On that day, SentinelOne is projected to report earnings of $0.03 per share, which would represent year-over-year growth of 200%. Alongside, our most recent consensus estimate is anticipating revenue of $242.02 million, indicating a 21.65% upward movement from the same quarter last year. [...] The Zacks Rank system, which ranges from #1 (Strong Buy) to #5 (Strong Sell), has an impressive outside-audited track record of outperformance, with #1 stocks generating an average annual return of +25% since 1988. Over the past month, the Zacks Consensus EPS estimate remained stagnant. SentinelOne currently has a Zacks Rank of #3 (Hold).\\n\\nLooking at its valuation, SentinelOne is holding a Forward P/E ratio of 92.91. This denotes a premium relative to the industry average Forward P/E of 77.93.', 'score': 0.8029425}, {'title': 'News Archive - SentinelOne', 'url': 'https://www.sentinelone.com/news/', 'content': 'News Archive | SentinelOne\\n=============== \\n\\n[](\\n\\nA Leader in the 2024 Gartner® Magic Quadrant™ for Endpoint Protection Platforms. Four years running. A Leader in the Gartner® Magic Quadrant™\\n\\nRead the Report\\n\\nA Leader in the Gartner® Magic Quadrant™\\n\\n   Experiencing a Breach?\\n   Blog\\n   Contact\\n\\nImage 1: Search Icon\\n\\n Image 2: Search Icon Image 3: Navigation Close Dark\\n\\n   English\\n   日本語\\n   Deutsch\\n   Español\\n   Français\\n   Italiano\\n   Dutch\\n   한국어\\n\\nGet Started\\n\\nImage 4: Header Logo Dark [...] SentinelOne further delivers on Purple AI promise with new Athena release\\n    \\n    May 6, 2025\\n    \\n   SentinelOne CEO On Why AI Agents May Be A ‘Transient Concept’\\n    \\n    May 6, 2025\\n    \\n   SentinelOne Channel Chief On Massive Cloud Security, ‘AI SIEM’ Opportunities\\n    \\n    February 10, 2025\\n    \\n\\n[](\\n\\n©2025 SentinelOne, All Rights Reserved.\\n\\nPrivacy Notice Master Subscription Agreement\\n\\nCompany [...] About SentinelOne\\n    \\n       About SentinelOne The Industry Leader in Cybersecurity\\n       Investor Relations Financial Information & Events\\n       SentinelLABS Threat Research for the Modern Threat Hunter\\n       Careers The Latest Job Opportunities\\n       Press & News Company Announcements\\n       Cybersecurity Blog The Latest Cybersecurity Threats, News, & More\\n       F1 Racing SentinelOne & Aston Martin F1 Team\\n       FAQ Get Answers to Our Most Frequently Asked Questions', 'score': 0.6010557}, {'title': 'SentinelOne | AI-Powered Enterprise Cybersecurity Platform', 'url': 'https://www.sentinelone.com/', 'content': 'About SentinelOne\\n    \\n       About SentinelOne The Industry Leader in Cybersecurity\\n       Investor Relations Financial Information & Events\\n       SentinelLABS Threat Research for the Modern Threat Hunter\\n       Careers The Latest Job Opportunities\\n       Press & News Company Announcements\\n       Cybersecurity Blog The Latest Cybersecurity Threats, News, & More\\n       F1 Racing SentinelOne & Aston Martin F1 Team\\n       FAQ Get Answers to Our Most Frequently Asked Questions [...] A Leader.  \\nFour Years Running.\\n\\nFor the fourth year in a row, SentinelOne has been named a Leader in the 2024 Gartner® Magic Quadrant™ for Endpoint Protection Platforms.\\n\\nImage 22: GartnerA Leader. Four Years Running.\\n\\n[](\\n\\nRecord Breaking ATT&CK Evaluation\\n\\nSentinelOne has once again proven its industry-leading capabilities in defense in the MITRE Engenuity ATT&CK® Enterprise Evaluation 2024.\\n\\nImage 23: Mitre100% Detection. Zero Delays\\n\\n[](\\n\\nRecognized as  \\na Customers’ Choice [...] Raymond Schippers - Head of Threat Detection and Response at Canva\\n\\nImage 18: Q2 Logo\"Innovation is king and we have to move fast. SentinelOne gives us the confidence to move quickly, knowing that it has our back.”\\n\\nLou Senko - Chief Availability Officer at Q2\\n\\nImage 19: Flex Logo\"We chose SentinelOne because of the protection. We believe out of the independent testing that SentinelOne is doing the best job in the market.”\\n\\nFriedrich Wetschnig - CISO & VP Enterprise IT at Flex', 'score': 0.5515985}]\n",
      "\n",
      "\n",
      " -------------------------sentiment_summary------------------------\n",
      "\n",
      "\n",
      "Market Sentiment: Mixed\n",
      "\n",
      "The news contains conflicting signals. While some short-term predictions suggest a bearish trend with several short recommendations and a low Fear & Greed index,  long-term forecasts and positive YTD/1-year returns, along with positive news about the company's performance and recognition in the industry, point towards a more positive outlook.\n",
      "\n",
      "\n",
      " -------------------------risk_analysis------------------------\n",
      "\n",
      "\n",
      "Without a Price-to-Earnings (PE) ratio, a complete risk assessment is impossible. However, a market capitalization of ₹574.87 crore (approximately $70 million USD) suggests a relatively small-cap company, inherently carrying **moderate to high risk**.  The technology sector itself is known for its volatility, further contributing to the higher end of this risk range.\n",
      "\n",
      "\n",
      " -------------------------recommendation------------------------\n",
      "\n",
      "\n",
      "SentinelOne (S) presents a bit of a mixed bag.  While the company has seen positive performance recently and positive industry recognition, the current market sentiment is uncertain.  The lack of a PE ratio makes a full financial assessment difficult, but the relatively small market cap suggests a higher risk investment.  Essentially, you're looking at a potentially high-reward, high-risk situation.\n",
      "\n",
      "I wouldn't recommend this stock for risk-averse investors.  If you have a higher risk tolerance and a longer-term investment horizon, and you believe in the company's long-term prospects despite the current market uncertainty, then it *might* be worth considering.  However,  thorough due diligence, including a deeper dive into the financials to understand the absence of a PE ratio and any potential underlying issues, is absolutely critical before making any investment decision.  Consider consulting a financial advisor to discuss your personal risk tolerance and investment goals before investing in SentinelOne.\n"
     ]
    }
   ],
   "source": [
    "result = app.invoke({\"input\": \"Should I invest in TCS?\"})\n",
    "l1 = [\"input\",\"financial_data\",\"news_articles\",\"sentiment_summary\",\"risk_analysis\",\"recommendation\"]\n",
    "\n",
    "for l in l1:\n",
    "  print(f\"\\n\\n -------------------------{l}------------------------\\n\\n\")\n",
    "  print(result[l])\n",
    "  \n"
   ]
  }
 ],
 "metadata": {
  "kernelspec": {
   "display_name": "Agentic_AI 2.0",
   "language": "python",
   "name": "python3"
  },
  "language_info": {
   "codemirror_mode": {
    "name": "ipython",
    "version": 3
   },
   "file_extension": ".py",
   "mimetype": "text/x-python",
   "name": "python",
   "nbconvert_exporter": "python",
   "pygments_lexer": "ipython3",
   "version": "3.10.18"
  }
 },
 "nbformat": 4,
 "nbformat_minor": 5
}
