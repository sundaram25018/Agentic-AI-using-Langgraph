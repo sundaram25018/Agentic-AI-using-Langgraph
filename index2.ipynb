{
 "cells": [
  {
   "cell_type": "code",
   "execution_count": 2,
   "id": "f643bd19",
   "metadata": {},
   "outputs": [],
   "source": [
    "from langgraph.graph import StateGraph, START, END\n",
    "from typing import TypedDict"
   ]
  },
  {
   "cell_type": "code",
   "execution_count": 3,
   "id": "07270cd9",
   "metadata": {},
   "outputs": [],
   "source": [
    "class BMIState(TypedDict):\n",
    "    \"\"\"State for the BMI calculation.\"\"\"\n",
    "    weight: float  # Weight in kilograms\n",
    "    height: float  # Height in meters\n",
    "    bmi: float     # Body Mass Index\n",
    "    catagory : str  # BMI category"
   ]
  },
  {
   "cell_type": "code",
   "execution_count": 4,
   "id": "dc2b1397",
   "metadata": {},
   "outputs": [],
   "source": [
    "def calculate_bmi(state:BMIState) -> BMIState:\n",
    "    \"\"\"Calculate the BMI based on weight and height.\"\"\"\n",
    "    weight = state['weight']\n",
    "    height = state['height']\n",
    "    bmi = weight / (height ** 2)\n",
    "    state['bmi'] = round(bmi, 2)\n",
    "    return state"
   ]
  },
  {
   "cell_type": "code",
   "execution_count": 5,
   "id": "34e30166",
   "metadata": {},
   "outputs": [],
   "source": [
    "def lable_catagory(state:BMIState) -> BMIState:\n",
    "    \"\"\"Label the BMI category based on the calculated BMI.\"\"\"\n",
    "    bmi = state['bmi']\n",
    "    if bmi < 18.5:\n",
    "        state['catagory'] = 'Underweight'\n",
    "    elif 18.5 <= bmi < 24.9:\n",
    "        state['catagory'] = 'Normal weight'\n",
    "    elif 25 <= bmi < 29.9:\n",
    "        state['catagory'] = 'Overweight'\n",
    "    else:\n",
    "        state['catagory'] = 'Obesity'\n",
    "    return state"
   ]
  },
  {
   "cell_type": "code",
   "execution_count": 6,
   "id": "c0d4d7ed",
   "metadata": {},
   "outputs": [],
   "source": [
    "graph = StateGraph(BMIState)\n",
    "graph.add_node(\"calculate_bmi\", calculate_bmi)\n",
    "graph.add_node(\"lable_catagory\", lable_catagory)\n",
    "\n",
    "graph.add_edge(START, 'calculate_bmi')\n",
    "graph.add_edge('calculate_bmi', 'lable_catagory')\n",
    "graph.add_edge('lable_catagory', END)\n",
    "\n",
    "\n",
    "app = graph.compile()"
   ]
  },
  {
   "cell_type": "code",
   "execution_count": 9,
   "id": "e4cf83f3",
   "metadata": {},
   "outputs": [
    {
     "name": "stdout",
     "output_type": "stream",
     "text": [
      "result: {'weight': 70.0, 'height': 1.75, 'bmi': 22.86, 'catagory': 'Normal weight'}\n"
     ]
    }
   ],
   "source": [
    "intial_state = BMIState(weight=70.0, height=1.75, bmi=0.0, catagory='')\n",
    "result = app.invoke(intial_state)\n",
    "print(\"result:\", result)"
   ]
  },
  {
   "cell_type": "code",
   "execution_count": null,
   "id": "097f6b8c",
   "metadata": {},
   "outputs": [
    {
     "data": {
      "image/png": "[encoded data removed]",
      "text/plain": [
       "<IPython.core.display.Image object>"
      ]
     },
     "metadata": {},
     "output_type": "display_data"
    }
   ],
   "source": [
    "from IPython.display import display, Image\n",
    "display(Image(app.get_graph().draw_mermaid_png()))"
   ]
  }
 ],
 "metadata": {
  "kernelspec": {
   "display_name": "Agentic_AI 2.0",
   "language": "python",
   "name": "python3"
  },
  "language_info": {
   "codemirror_mode": {
    "name": "ipython",
    "version": 3
   },
   "file_extension": ".py",
   "mimetype": "text/x-python",
   "name": "python",
   "nbconvert_exporter": "python",
   "pygments_lexer": "ipython3",
   "version": "3.10.18"
  }
 },
 "nbformat": 4,
 "nbformat_minor": 5
}
