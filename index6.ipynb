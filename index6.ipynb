{
 "cells": [
  {
   "cell_type": "code",
   "execution_count": 21,
   "id": "d549e860",
   "metadata": {},
   "outputs": [
    {
     "data": {
      "text/plain": [
       "True"
      ]
     },
     "execution_count": 21,
     "metadata": {},
     "output_type": "execute_result"
    }
   ],
   "source": [
    "from langchain_google_genai import ChatGoogleGenerativeAI\n",
    "from langchain_community.tools import TavilySearchResults,tavily_search\n",
    "from langgraph.graph import StateGraph, START, END\n",
    "from typing import TypedDict\n",
    "from dotenv import load_dotenv\n",
    "import os\n",
    "load_dotenv()"
   ]
  },
  {
   "cell_type": "code",
   "execution_count": 22,
   "id": "75414ee3",
   "metadata": {},
   "outputs": [],
   "source": [
    "llm = ChatGoogleGenerativeAI(model=\"gemini-1.5-flash\")"
   ]
  },
  {
   "cell_type": "code",
   "execution_count": 23,
   "id": "b4c66cb8",
   "metadata": {},
   "outputs": [],
   "source": [
    "tavily = TavilySearchResults()"
   ]
  },
  {
   "cell_type": "code",
   "execution_count": 24,
   "id": "e31c9fac",
   "metadata": {},
   "outputs": [],
   "source": [
    "class DealState(TypedDict):\n",
    "  input: str\n",
    "  search_results:list\n",
    "  parsed_deals:list\n",
    "  output:str"
   ]
  },
  {
   "cell_type": "code",
   "execution_count": 25,
   "id": "f6e50fa1",
   "metadata": {},
   "outputs": [],
   "source": [
    "def search_with_tavily(state:DealState) -> DealState:\n",
    "    query = state[\"input\"]\n",
    "    results = tavily.run(query)\n",
    "    state[\"search_results\"] = results\n",
    "    return state"
   ]
  },
  {
   "cell_type": "code",
   "execution_count": 26,
   "id": "d95d0121",
   "metadata": {},
   "outputs": [],
   "source": [
    "def scrape_urls(state:DealState) -> DealState:\n",
    "    from bs4 import BeautifulSoup\n",
    "    import requests\n",
    "    import re\n",
    "\n",
    "    deals = []\n",
    "    for item in state[\"search_results\"]:\n",
    "        url = item.get(\"url\")\n",
    "        try:\n",
    "            response = requests.get(url, timeout=5)\n",
    "            soup = BeautifulSoup(response.text, 'html.parser')\n",
    "            title = soup.title.text[:100]\n",
    "            prices = re.findall(r'₹[\\d,]+', soup.text)\n",
    "            if prices:\n",
    "                deals.append({\"url\": url, \"title\": title, \"price\": prices[0]})\n",
    "        except:\n",
    "            continue\n",
    "        state[\"parsed_deals\"] = deals\n",
    "\n",
    "    return state \n"
   ]
  },
  {
   "cell_type": "code",
   "execution_count": 27,
   "id": "5773aa55",
   "metadata": {},
   "outputs": [],
   "source": [
    "def compare_deals(state: DealState) -> DealState:\n",
    "    deals = state[\"parsed_deals\"]\n",
    "    table = \"Title | Price | Link\\n---|---|---\\n\"\n",
    "    for deal in deals[:5]:\n",
    "        table += f\"{deal['title']} | {deal['price']} | [Link]({deal['url']})\\n\"\n",
    "    state['output'] = table\n",
    "    return state"
   ]
  },
  {
   "cell_type": "code",
   "execution_count": 28,
   "id": "74571735",
   "metadata": {},
   "outputs": [],
   "source": [
    "graph = StateGraph(DealState)\n",
    "\n",
    "graph.add_node(\"search\",search_with_tavily)\n",
    "graph.add_node(\"scrape_urls\",scrape_urls)\n",
    "graph.add_node(\"compare_deals\",compare_deals)\n",
    "graph.add_edge(START,\"search\")\n",
    "graph.add_edge(\"search\",\"scrape_urls\")\n",
    "graph.add_edge(\"scrape_urls\",\"compare_deals\")\n",
    "graph.add_edge(\"compare_deals\",END)\n",
    "\n",
    "app = graph.compile()"
   ]
  },
  {
   "cell_type": "code",
   "execution_count": 29,
   "id": "a1311a8b",
   "metadata": {},
   "outputs": [
    {
     "data": {
      "image/png": "[encoded data removed]",
      "text/plain": [
       "<IPython.core.display.Image object>"
      ]
     },
     "metadata": {},
     "output_type": "display_data"
    }
   ],
   "source": [
    "from IPython.display import display,Image\n",
    "display(Image(app.get_graph().draw_mermaid_png()))"
   ]
  },
  {
   "cell_type": "code",
   "execution_count": 30,
   "id": "3a143348",
   "metadata": {},
   "outputs": [
    {
     "name": "stdout",
     "output_type": "stream",
     "text": [
      "\n",
      "\n",
      "------------------------- \n",
      "\n",
      "\n",
      "HP Pavilion SSD 1TP I9 processor best deals India\n",
      "\n",
      "\n",
      "------------------------- \n",
      "\n",
      "\n",
      "[{'title': 'HP 14th Generation Intel® Core™ i9 processor - SSD - 1 TB', 'url': 'https://www.hp.com/in-en/shop/sale-offers.html?cap=1-tb&filter-storagetype=ssd&processorfamily=14th-generation-intel%C2%AE-core%E2%84%A2-i9-processor', 'content': '14th Generation Intel® Core™ i9 processor > 1 TB > SSD > HP SALE, DEALS & OFFERS - Shop HP.com India\\n\\n===============\\n\\n Corporate Employees Only  Biggest PC Sale of the Season  Login Now\\n\\nThank you for visiting the INDIA HP Store\\n\\n STAY IN INDIA \\n\\n VIEW All STORES \\n\\nTech Support : 1800-258-7170 Sales :1800-108-4749 [...] SAVE ₹58,622 (15%) \\n\\n₹325,680(incl. of all taxes)Includes GST  ₹49,680 \\n\\nInterest free installment starting from \\n\\n₹27,140/m\\n\\nSave \"Save item\")\\n\\nView Details\\n\\nAdd to Cart\\n\\n7 Items\\n\\nShow per page\\n\\nVIEW\\n\\n15\\n\\n18\\n\\n30\\n\\n 1-7 of 7 Results\\n\\n 1-7 of 7 Results\\n\\nview\\n\\n15\\n\\n18)\\n\\n30)\\n\\nSort By  Featured  \\n    Recommended \\n    Discount \\n    Best Seller \\n    Price : Low to High \\n    Price : High to Low \\n    Ratings : High to Low \\n    New Arrival \\n    Featured \\n\\nRead about HP SALE, DEALS & OFFERS [...] India Price is inclusive of 18% GST (where applicable).', 'score': 0.7570233}, {'title': 'Intel Core i9 > 1 TB > Laptops - Shop HP.com India', 'url': 'https://www.hp.com/in-en/shop/laptops-tablets.html?cap=1-tb&processortype=intel-core-i9', 'content': '1.   [- [x] #### Business 5](javascript:void(0))\\n2.   [- [x] #### Gaming 2](javascript:void(0))\\n3.   [- [x] #### Creators 1](javascript:void(0))\\n\\n?\\n### Perfect for\\n\\n1.   [- [x] #### Complex Tasks 5](javascript:void(0))\\n2.   [- [x] #### Data Scientists and Game Developers 1](javascript:void(0))\\n3.   [- [x] #### Unlimited Performance 1](javascript:void(0))\\n\\n?\\n### Promotion Name\\n\\n1.   [- [x] #### Exclusive 2](javascript:void(0))\\n\\n### Promotion Type\\n\\n1.   [- [x] #### Offers 7](javascript:void(0)) [...] Sort By  Recommended  \\n    Recommended \\n    Discount \\n    Best Seller \\n    Price : Low to High \\n    Price : High to Low \\n    Ratings : High to Low \\n    New Arrival \\n    Featured \\n\\n 2 filters applied\\n\\nClear All\\n\\n1 TB)\\n\\n+0\\n\\nShow less\\n\\nSort & Filter (2)\\n\\n 2 filters applied\\n\\nSort & Filter (2)\\n\\n2 filter applied \\n\\nClear All\\n\\n1 TB)\\n\\nSee all applied filters\\n\\nShow less\\n\\nquick filters\\n\\n1.   Home)\\n2.   Business)\\n3.   Gaming)\\n4.   INTEL® LAPTOPS)\\n5.   CONVERTIBLE / 2 IN 1)\\n6.   LAPTOPS UNDER 50,000) [...] 14th generation Intel® Core™ i9 processor\\n       Windows 11 Home\\n       40.6 cm (16), diagonal,2K (1920 x 1200),165 Hz, 3 ms response time, IPS with NVIDIA® GeForce RTX™ 5060 8GB\\n       32 GB DDR5-5600 MT/s (2 x 16 GB) RAM\\n       1TB SSD Hard Drive\\n       4-zone RGB backlit, shadow black keyboard with numeric keypad and 26-Key Rollover Anti-Ghosting Key technology, HP True Vision 1080p FHD camera\\n\\nCompare; \"Add to Compare\")\\n\\nC27E0PA', 'score': 0.6407488}, {'title': 'Intel Core i9 > SSD > Laptops - Shop HP.com India', 'url': 'https://www.hp.com/in-en/shop/laptops-tablets.html?filter-storagetype=ssd&processortype=intel-core-i9', 'content': 'Sort By  Recommended  \\n    Recommended \\n    Discount \\n    Best Seller \\n    Price : Low to High \\n    Price : High to Low \\n    Ratings : High to Low \\n    New Arrival \\n    Featured \\n\\n 2 filters applied\\n\\nClear All\\n\\nSSD)\\n\\n+0\\n\\nShow less\\n\\nSort & Filter (2)\\n\\n 2 filters applied\\n\\nSort & Filter (2)\\n\\n2 filter applied \\n\\nClear All\\n\\nSSD)\\n\\nSee all applied filters\\n\\nShow less\\n\\nquick filters\\n\\n1.   Home)\\n2.   Business)\\n3.   Gaming)\\n4.   INTEL® LAPTOPS)\\n5.   CONVERTIBLE / 2 IN 1)\\n6.   LAPTOPS UNDER 50,000) [...] Intel® Core™ i9 14th generation processor\\n       Windows 11 Pro\\n       40.6 cm (16) diagonal WQUXGA display with Intel® UHD Graphics\\n       128 GB DDR5-5600 MT/s (4 x 32 GB)\\n       2 TB PCIe® NVMe™ TLC SSD\\n       5 MP IR camera, Fingerprint reader, Spill-resistant & Backlit Keyboard\\n\\nCompare; \"Add to Compare\")\\n\\nB7CW5PT\\n\\nplaceholder\\n\\nIncluded\\n       Image 12: Evon Essential Series Black Bagpack  Evon Essential Series Black Bagpack   \\n\\nStarting from\\n\\n₹589,264\\n\\n SAVE ₹89,887 (15%) [...] Intel® Core™ i9 14th generation processor\\n       Windows 11 Pro\\n       40.6 cm (16) diagonal WQUXGA display with Intel® UHD Graphics\\n       128 GB DDR5-5600 MT/s (4 x 32 GB)\\n       2 TB PCIe® NVMe™ TLC SSD\\n       5 MP IR camera, Fingerprint reader, Spill-resistant & Backlit Keyboard\\n\\nCompare; \"Add to Compare\")\\n\\nB7CW4PT\\n\\nplaceholder\\n\\nIncluded\\n       Image 32: Evon Essential Series Black Bagpack  Evon Essential Series Black Bagpack   \\n\\nStarting from\\n\\n₹714,162\\n\\n SAVE ₹108,939 (15%)', 'score': 0.63152665}, {'title': 'Offers > 1 TB > SSD > Laptops - Shop HP.com India', 'url': 'https://www.hp.com/in-en/shop/laptops/intel-laptops/personal-laptops.html?cap=1-tb&filter-storagetype=ssd&offer-type=offers', 'content': '14th generation Intel® Core™ i9 processor\\n       Windows 11 Home\\n       40.6 cm (16), diagonal,2K (1920 x 1200),165 Hz, 3 ms response time, IPS with NVIDIA® GeForce RTX™ 5060 8GB\\n       32 GB DDR5-5600 MT/s (2 x 16 GB) RAM\\n       1TB SSD Hard Drive\\n       4-zone RGB backlit, shadow black keyboard with numeric keypad and 26-Key Rollover Anti-Ghosting Key technology, HP True Vision 1080p FHD camera\\n\\nCompare; \"Add to Compare\")\\n\\nC27E0PA [...] 14th generation Intel® Core™ i9-14900HX processor\\n       Windows 11 Home\\n       40.6 cm (16), diagonal,2K (1920 x 1200),165 Hz, 3 ms response time, IPS with NVIDIA® GeForce RTX™ 5070 8GB\\n       32 GB DDR5-5600 MT/s (2 x 16 GB) RAM\\n       1TB SSD Hard Drive\\n       4-zone RGB backlit, shadow black keyboard with numeric keypad and 26-Key Rollover Anti-Ghosting Key technology, HP True Vision 1080p FHD camera\\n\\nCompare; \"Add to Compare\")\\n\\nC27DZPA [...] 1.   Recommended)\\n2.   Discount)\\n3.   Best Seller)\\n4.   Price : Low to High)\\n5.   Price : High to Low)\\n6.   Ratings : High to Low)\\n7.   New Arrival)\\n8.   Featured)\\n\\n?\\n### Price\\n\\n-\\n\\nOK\\n\\n?\\n### Reviews\\n\\n1.   [- [x] #### 5/5 1](javascript:void(0))\\n2.   [- [x] #### 4/5 11](javascript:void(0))\\n3.   [- [x] #### 0/5 22](javascript:void(0))\\n\\n?\\n### Form factor\\n\\n1.   [- [x] #### Standard laptop 26](javascript:void(0))\\n2.   [- [x] #### Convertible 8](javascript:void(0))\\n\\n?\\n### Processor Brand', 'score': 0.62330866}, {'title': 'i9 Laptop with Intel Core i9 Processor - Shop HP.com India', 'url': 'https://www.hp.com/in-en/shop/laptops-tablets.html?processortype=intel-core-i9', 'content': '14th generation Intel® Core™ i9 processor\\n       Windows 11 Home\\n       40.6 cm (16), diagonal,2K (1920 x 1200),165 Hz, 3 ms response time, IPS with NVIDIA® GeForce RTX™ 5060 8GB\\n       32 GB DDR5-5600 MT/s (2 x 16 GB) RAM\\n       1TB SSD Hard Drive\\n       4-zone RGB backlit, shadow black keyboard with numeric keypad and 26-Key Rollover Anti-Ghosting Key technology, HP True Vision 1080p FHD camera\\n\\nCompare; \"Add to Compare\")\\n\\nC27E0PA [...] 14th generation Intel® Core™ i9-14900HX processor\\n       Windows 11 Home\\n       40.6 cm (16), diagonal,2K (1920 x 1200),165 Hz, 3 ms response time, IPS with NVIDIA® GeForce RTX™ 5070 8GB\\n       32 GB DDR5-5600 MT/s (2 x 16 GB) RAM\\n       1TB SSD Hard Drive\\n       4-zone RGB backlit, shadow black keyboard with numeric keypad and 26-Key Rollover Anti-Ghosting Key technology, HP True Vision 1080p FHD camera\\n\\nCompare; \"Add to Compare\")\\n\\nC27DZPA [...] Intel® Core™ i9 14th generation processor\\n       Windows 11 Pro\\n       40.6 cm (16) diagonal WQUXGA display with Intel® UHD Graphics\\n       128 GB DDR5-5600 MT/s (4 x 32 GB)\\n       2 TB PCIe® NVMe™ TLC SSD\\n       5 MP IR camera, Fingerprint reader, Spill-resistant & Backlit Keyboard\\n\\nCompare; \"Add to Compare\")\\n\\nB7CW5PT\\n\\nplaceholder\\n\\nIncluded\\n       Image 12: Evon Essential Series Black Bagpack  Evon Essential Series Black Bagpack   \\n\\nStarting from\\n\\n₹589,264\\n\\n SAVE ₹89,887 (15%)', 'score': 0.5920305}]\n",
      "\n",
      "\n",
      "------------------------- \n",
      "\n",
      "\n",
      "[{'url': 'https://www.hp.com/in-en/shop/sale-offers.html?cap=1-tb&filter-storagetype=ssd&processorfamily=14th-generation-intel%C2%AE-core%E2%84%A2-i9-processor', 'title': '14th Generation Intel® Core™ i9 processor > 1 TB > SSD > HP SALE, DEALS & OFFERS  - Shop HP.com Indi', 'price': '₹280,899'}, {'url': 'https://www.hp.com/in-en/shop/laptops-tablets.html?cap=1-tb&processortype=intel-core-i9', 'title': 'Intel Core i9 > 1 TB > Laptops  - Shop HP.com India', 'price': '₹25,000'}, {'url': 'https://www.hp.com/in-en/shop/laptops-tablets.html?filter-storagetype=ssd&processortype=intel-core-i9', 'title': 'Intel Core i9 > SSD > Laptops  - Shop HP.com India', 'price': '₹680,536'}, {'url': 'https://www.hp.com/in-en/shop/laptops/intel-laptops/personal-laptops.html?cap=1-tb&filter-storagetype=ssd&offer-type=offers', 'title': 'Offers > 1 TB > SSD > Laptops  - Shop HP.com India', 'price': '₹9199'}, {'url': 'https://www.hp.com/in-en/shop/laptops-tablets.html?processortype=intel-core-i9', 'title': 'i9 Laptop with Intel Core i9 Processor\\r\\n  - Shop HP.com India', 'price': '₹680,536'}]\n",
      "\n",
      "\n",
      "------------------------- \n",
      "\n",
      "\n",
      "Title | Price | Link\n",
      "---|---|---\n",
      "14th Generation Intel® Core™ i9 processor > 1 TB > SSD > HP SALE, DEALS & OFFERS  - Shop HP.com Indi | ₹280,899 | [Link](https://www.hp.com/in-en/shop/sale-offers.html?cap=1-tb&filter-storagetype=ssd&processorfamily=14th-generation-intel%C2%AE-core%E2%84%A2-i9-processor)\n",
      "Intel Core i9 > 1 TB > Laptops  - Shop HP.com India | ₹25,000 | [Link](https://www.hp.com/in-en/shop/laptops-tablets.html?cap=1-tb&processortype=intel-core-i9)\n",
      "Intel Core i9 > SSD > Laptops  - Shop HP.com India | ₹680,536 | [Link](https://www.hp.com/in-en/shop/laptops-tablets.html?filter-storagetype=ssd&processortype=intel-core-i9)\n",
      "Offers > 1 TB > SSD > Laptops  - Shop HP.com India | ₹9199 | [Link](https://www.hp.com/in-en/shop/laptops/intel-laptops/personal-laptops.html?cap=1-tb&filter-storagetype=ssd&offer-type=offers)\n",
      "i9 Laptop with Intel Core i9 Processor\n",
      "  - Shop HP.com India | ₹680,536 | [Link](https://www.hp.com/in-en/shop/laptops-tablets.html?processortype=intel-core-i9)\n",
      "\n"
     ]
    }
   ],
   "source": [
    "response = app.invoke({\"input\": \"HP Pavilion SSD 1TP I9 processor best deals India\"})\n",
    "l1 = [\"input\",\"search_results\",\"parsed_deals\",\"output\"]\n",
    "\n",
    "for l in l1:\n",
    "  print(\"\\n\\n------------------------- \\n\\n\")\n",
    "  print(response[l])\n",
    "\n",
    "\n"
   ]
  }
 ],
 "metadata": {
  "kernelspec": {
   "display_name": "Agentic_AI 2.0",
   "language": "python",
   "name": "python3"
  },
  "language_info": {
   "codemirror_mode": {
    "name": "ipython",
    "version": 3
   },
   "file_extension": ".py",
   "mimetype": "text/x-python",
   "name": "python",
   "nbconvert_exporter": "python",
   "pygments_lexer": "ipython3",
   "version": "3.10.18"
  }
 },
 "nbformat": 4,
 "nbformat_minor": 5
}
