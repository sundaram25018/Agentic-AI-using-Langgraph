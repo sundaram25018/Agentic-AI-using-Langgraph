{
 "cells": [
  {
   "cell_type": "code",
   "execution_count": 10,
   "id": "bf6e3f7c",
   "metadata": {},
   "outputs": [
    {
     "data": {
      "text/plain": [
       "True"
      ]
     },
     "execution_count": 10,
     "metadata": {},
     "output_type": "execute_result"
    }
   ],
   "source": [
    "from langgraph.graph import StateGraph,START,END\n",
    "from langchain_google_genai import ChatGoogleGenerativeAI\n",
    "from typing import TypedDict\n",
    "from dotenv import load_dotenv\n",
    "import os\n",
    "load_dotenv()"
   ]
  },
  {
   "cell_type": "code",
   "execution_count": 2,
   "id": "4fc401e9",
   "metadata": {},
   "outputs": [],
   "source": [
    "llm = ChatGoogleGenerativeAI(model='gemini-1.5-flash', temperature=0.1)"
   ]
  },
  {
   "cell_type": "code",
   "execution_count": 11,
   "id": "5d329241",
   "metadata": {},
   "outputs": [],
   "source": [
    "class ChatState(TypedDict):\n",
    "  question: str\n",
    "  answer: str"
   ]
  },
  {
   "cell_type": "code",
   "execution_count": 12,
   "id": "1461c671",
   "metadata": {},
   "outputs": [],
   "source": [
    "def chat_llm(state:ChatState) -> ChatState:\n",
    "  question = state[\"question\"]\n",
    "\n",
    "  prompt = f\"Answer the following question: {question}\"\n",
    "  response = llm.invoke(prompt)\n",
    "  response  =  response.content\n",
    "  state[\"answer\"] = response\n",
    "  return state\n",
    "    "
   ]
  },
  {
   "cell_type": "code",
   "execution_count": 13,
   "id": "c326b850",
   "metadata": {},
   "outputs": [],
   "source": [
    "graph = StateGraph(ChatState)\n",
    "graph.add_node(\"chat_llm\", chat_llm)\n",
    "graph.add_edge(START, \"chat_llm\")\n",
    "graph.add_edge(\"chat_llm\", END)\n",
    "app = graph.compile()"
   ]
  },
  {
   "cell_type": "code",
   "execution_count": 14,
   "id": "b599d6cf",
   "metadata": {},
   "outputs": [
    {
     "name": "stdout",
     "output_type": "stream",
     "text": [
      "The distance between the Earth and the Moon is not constant because the Moon's orbit is elliptical.  However, the average distance is approximately **238,855 miles (384,400 kilometers)**.\n"
     ]
    }
   ],
   "source": [
    "intial_state = {'question': 'How far is moon from the earth?'}\n",
    "\n",
    "final_state = app.invoke(intial_state)\n",
    "\n",
    "print(final_state['answer'])"
   ]
  },
  {
   "cell_type": "code",
   "execution_count": 16,
   "id": "a691767d",
   "metadata": {},
   "outputs": [
    {
     "data": {
      "image/png": "[encoded data removed]",
      "text/plain": [
       "<IPython.core.display.Image object>"
      ]
     },
     "metadata": {},
     "output_type": "display_data"
    }
   ],
   "source": [
    "from IPython.display import display, Image\n",
    "display(Image(app.get_graph().draw_mermaid_png()))"
   ]
  },
  {
   "cell_type": "code",
   "execution_count": 15,
   "id": "45ef2c41",
   "metadata": {},
   "outputs": [
    {
     "data": {
      "text/plain": [
       "\"The distance between the Earth and the Moon is not constant because the Moon's orbit is elliptical.  The average distance is about **238,855 miles (384,400 kilometers)**.\""
      ]
     },
     "execution_count": 15,
     "metadata": {},
     "output_type": "execute_result"
    }
   ],
   "source": [
    "llm.invoke('How far is moon from the earth?').content"
   ]
  },
  {
   "cell_type": "code",
   "execution_count": null,
   "id": "43b70f6c",
   "metadata": {},
   "outputs": [],
   "source": []
  }
 ],
 "metadata": {
  "kernelspec": {
   "display_name": "Agentic_AI 2.0",
   "language": "python",
   "name": "python3"
  },
  "language_info": {
   "codemirror_mode": {
    "name": "ipython",
    "version": 3
   },
   "file_extension": ".py",
   "mimetype": "text/x-python",
   "name": "python",
   "nbconvert_exporter": "python",
   "pygments_lexer": "ipython3",
   "version": "3.10.18"
  }
 },
 "nbformat": 4,
 "nbformat_minor": 5
}
