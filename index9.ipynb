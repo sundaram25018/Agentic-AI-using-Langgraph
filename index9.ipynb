{
 "cells": [
  {
   "cell_type": "code",
   "execution_count": 20,
   "id": "718163f3",
   "metadata": {},
   "outputs": [],
   "source": [
    "from langchain_google_genai import ChatGoogleGenerativeAI\n",
    "from langgraph.graph import StateGraph,START,END\n",
    "from typing import TypedDict,List\n",
    "import os\n",
    "from dotenv import load_dotenv\n",
    "load_dotenv()\n",
    "import pandas as pd"
   ]
  },
  {
   "cell_type": "code",
   "execution_count": 21,
   "id": "d9ee386b",
   "metadata": {},
   "outputs": [],
   "source": [
    "df = pd.read_csv(\"customer_support_tickets.csv\")"
   ]
  },
  {
   "cell_type": "code",
   "execution_count": 22,
   "id": "034740c7",
   "metadata": {},
   "outputs": [],
   "source": [
    "llm = ChatGoogleGenerativeAI(model=\"gemini-1.5-flash\")"
   ]
  },
  {
   "cell_type": "code",
   "execution_count": 23,
   "id": "4a7467b7",
   "metadata": {},
   "outputs": [],
   "source": [
    "class SupportState(TypedDict):\n",
    "  input: str\n",
    "  history:List[str]\n",
    "  output:str\n",
    "  "
   ]
  },
  {
   "cell_type": "code",
   "execution_count": 24,
   "id": "7f2ccc96",
   "metadata": {},
   "outputs": [],
   "source": [
    "def route(state:SupportState)->str:\n",
    "  user_input = state['input'].lower()\n",
    "  if \"bill\" in user_input or \"payment\" in user_input:\n",
    "    return \"billing_node\"\n",
    "  elif \"not working\" in user_input or \"error\" in user_input:\n",
    "    return \"tech_node\"\n",
    "  elif \"order\" in user_input or \"tracking\" in user_input:\n",
    "    return \"order_node\"\n",
    "  else:\n",
    "    return \"fallback_node\"\n"
   ]
  },
  {
   "cell_type": "code",
   "execution_count": 25,
   "id": "5b826b74",
   "metadata": {},
   "outputs": [],
   "source": [
    "def billing_node(state:SupportState) -> SupportState:\n",
    "  prompt = \"you are a customer support bot write a reply for billing query\"\n",
    "  response = llm.invoke(prompt).content\n",
    "  state[\"output\"] = response\n",
    "  return state\n",
    "  \n",
    "def tech_node(state: SupportState):\n",
    "    prompt = \"you are a customer support bot write a reply for Technical problem\"\n",
    "    response = llm.invoke(prompt).content\n",
    "    state[\"output\"] = response\n",
    "    return state\n",
    "\n",
    "def order_node(state: SupportState):\n",
    "    prompt = \"you are a customer support bot write a reply for order query\"\n",
    "    response = llm.invoke(prompt).content\n",
    "    state[\"output\"] = response\n",
    "    return state\n",
    "\n",
    "def fallback_node(state: SupportState):\n",
    "    response = \"Can you please clarify your issue?\"\n",
    "    state[\"output\"] = response\n",
    "    return state\n"
   ]
  },
  {
   "cell_type": "code",
   "execution_count": 26,
   "id": "839bbb11",
   "metadata": {},
   "outputs": [],
   "source": [
    "graph = StateGraph(SupportState)\n",
    "\n",
    "graph.add_node(\"billing_node\",billing_node)\n",
    "graph.add_node(\"tech_node\",tech_node)\n",
    "graph.add_node(\"order_node\",order_node)\n",
    "graph.add_node(\"fallback_node\",fallback_node)\n",
    "graph.set_entry_point(\"route\")\n",
    "\n",
    "graph.add_conditional_edges(\"route\",route,{\n",
    "  \"billing_node\":\"billing_node\",\n",
    "  \"tech_node\":\"tech_node\",\n",
    "  \"order_node\":\"order_node\",\n",
    "  \"fallback_node\":\"fallback_node\"\n",
    "})\n",
    "graph.add_edge(\"billing_node\", END)\n",
    "graph.add_edge(\"tech_node\", END)\n",
    "graph.add_edge(\"order_node\", END)\n",
    "graph.add_edge(\"fallback_node\", END)\n",
    "\n",
    "graph.add_node(\"route\", lambda state: state)\n",
    "\n",
    "app = graph.compile()"
   ]
  },
  {
   "cell_type": "code",
   "execution_count": 27,
   "id": "231813a2",
   "metadata": {},
   "outputs": [
    {
     "data": {
      "image/png": "[encoded data removed]",
      "text/plain": [
       "<IPython.core.display.Image object>"
      ]
     },
     "metadata": {},
     "output_type": "display_data"
    }
   ],
   "source": [
    "from IPython.display import display,Image\n",
    "display(Image(app.get_graph().draw_mermaid_png()))"
   ]
  },
  {
   "cell_type": "code",
   "execution_count": 29,
   "id": "af604e58",
   "metadata": {},
   "outputs": [
    {
     "name": "stdout",
     "output_type": "stream",
     "text": [
      "Hi there! Thanks for reaching out.  I'd be happy to help with your order query. To assist you best, could you please provide me with your order number?  Once I have that, I can quickly access your order details and answer your questions.\n"
     ]
    }
   ],
   "source": [
    "state = {\"input\": \"I want to track my order\", \"history\": []}\n",
    "result = app.invoke(state)\n",
    "print(result[\"output\"])"
   ]
  }
 ],
 "metadata": {
  "kernelspec": {
   "display_name": "Agentic_AI 2.0",
   "language": "python",
   "name": "python3"
  },
  "language_info": {
   "codemirror_mode": {
    "name": "ipython",
    "version": 3
   },
   "file_extension": ".py",
   "mimetype": "text/x-python",
   "name": "python",
   "nbconvert_exporter": "python",
   "pygments_lexer": "ipython3",
   "version": "3.10.18"
  }
 },
 "nbformat": 4,
 "nbformat_minor": 5
}
